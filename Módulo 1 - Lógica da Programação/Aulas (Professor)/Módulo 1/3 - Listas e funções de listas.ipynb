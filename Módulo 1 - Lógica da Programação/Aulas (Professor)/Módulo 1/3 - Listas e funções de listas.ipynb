{
 "cells": [
  {
   "cell_type": "markdown",
   "id": "suburban-volleyball",
   "metadata": {},
   "source": [
    "# Listas"
   ]
  },
  {
   "cell_type": "markdown",
   "id": "single-cabin",
   "metadata": {},
   "source": [
    "Relembrar:"
   ]
  },
  {
   "cell_type": "code",
   "execution_count": 2,
   "id": "present-front",
   "metadata": {},
   "outputs": [
    {
     "name": "stdout",
     "output_type": "stream",
     "text": [
      "Digite a primeira nota: 7.5\n",
      "Digite a segunda nota: 8.5\n",
      "8.0\n"
     ]
    }
   ],
   "source": [
    "nota1 = float(input('Digite a primeira nota: '))\n",
    "nota2 = float(input('Digite a segunda nota: '))\n",
    "\n",
    "media = (nota1 + nota2)/2\n",
    "\n",
    "print(media)"
   ]
  },
  {
   "cell_type": "markdown",
   "id": "funky-remedy",
   "metadata": {},
   "source": [
    "Imaginando 4 notas"
   ]
  },
  {
   "cell_type": "code",
   "execution_count": 4,
   "id": "characteristic-island",
   "metadata": {},
   "outputs": [
    {
     "name": "stdout",
     "output_type": "stream",
     "text": [
      "Digite a primeira nota: 6\n",
      "Digite a segunda nota: 7\n",
      "Digite a terceira nota: 9\n",
      "Digite a quarta nota: 10\n",
      "8.0\n"
     ]
    }
   ],
   "source": [
    "nota1 = float(input('Digite a primeira nota: '))\n",
    "nota2 = float(input('Digite a segunda nota: '))\n",
    "nota3 = float(input('Digite a terceira nota: '))\n",
    "nota4 = float(input('Digite a quarta nota: '))\n",
    "\n",
    "media = (nota1 + nota2 + nota3 + nota4)/4\n",
    "\n",
    "print(media)"
   ]
  },
  {
   "cell_type": "code",
   "execution_count": null,
   "id": "stylish-variable",
   "metadata": {},
   "outputs": [],
   "source": [
    "aluno1 = float(input('Digite a nota do aluno 1:'))\n",
    "aluno2 = float(input('Digite a nota do aluno 2:'))\n",
    "aluno3 = float(input('Digite a nota do aluno 3:'))\n",
    "\n",
    "# 80 alunos -> quero saber a média da turma, quero saber qual a nota mais alta e a nota mais baixa"
   ]
  },
  {
   "cell_type": "markdown",
   "id": "equal-surfing",
   "metadata": {},
   "source": [
    "## 1. Listas"
   ]
  },
  {
   "cell_type": "markdown",
   "id": "illegal-interest",
   "metadata": {},
   "source": [
    "Listas são coleções de objetos no python"
   ]
  },
  {
   "cell_type": "code",
   "execution_count": 7,
   "id": "religious-grant",
   "metadata": {},
   "outputs": [
    {
     "name": "stdout",
     "output_type": "stream",
     "text": [
      "[]\n",
      "[]\n",
      "[1, 4.6, -7, 8, 10, 'vinte']\n"
     ]
    }
   ],
   "source": [
    "primeira_lista = [] # criando uma lista vazia\n",
    "print(primeira_lista)\n",
    "\n",
    "segunda_lista = list() # criando uma lista vazia\n",
    "print(segunda_lista)\n",
    "\n",
    "terceira_lista = [1, 4.6, -7, 8, 10, 'vinte'] # criando lista com objetos -valores int, float, str\n",
    "print(terceira_lista)"
   ]
  },
  {
   "cell_type": "markdown",
   "id": "former-deposit",
   "metadata": {},
   "source": [
    "A lista possui valores e índices (automaticamente)"
   ]
  },
  {
   "cell_type": "markdown",
   "id": "applied-swedish",
   "metadata": {},
   "source": [
    "elemento 1  4.6 -7  8  10  'vinte'  \n",
    "índice   0   1   2  3  4   5"
   ]
  },
  {
   "cell_type": "markdown",
   "id": "seventh-guide",
   "metadata": {},
   "source": [
    "A lista é mutável. Podemos modificar os valores já existentes"
   ]
  },
  {
   "cell_type": "code",
   "execution_count": 8,
   "id": "becoming-administration",
   "metadata": {},
   "outputs": [
    {
     "name": "stdout",
     "output_type": "stream",
     "text": [
      "[1, 4.6, -7, 'oito', 10, 'vinte']\n"
     ]
    }
   ],
   "source": [
    "terceira_lista = [1, 4.6, -7, 8, 10, 'vinte'] # lista de valores\n",
    "terceira_lista[3] = 'oito' # acessando o valor do índice 3\n",
    "print(terceira_lista)"
   ]
  },
  {
   "cell_type": "markdown",
   "id": "japanese-cartoon",
   "metadata": {},
   "source": [
    "- Quebrando as listas"
   ]
  },
  {
   "cell_type": "markdown",
   "id": "chief-transcription",
   "metadata": {},
   "source": [
    "Criar subconjuntos -> 'slice'"
   ]
  },
  {
   "cell_type": "code",
   "execution_count": 10,
   "id": "indie-acting",
   "metadata": {},
   "outputs": [],
   "source": [
    "impares = [1, 3, 5, 7, 9, 11, 13, 15, 17]\n"
   ]
  },
  {
   "cell_type": "code",
   "execution_count": 11,
   "id": "ideal-location",
   "metadata": {},
   "outputs": [
    {
     "data": {
      "text/plain": [
       "13"
      ]
     },
     "execution_count": 11,
     "metadata": {},
     "output_type": "execute_result"
    }
   ],
   "source": [
    "impares[6] # acessar o nº13 da lista -> acessar pelo índice"
   ]
  },
  {
   "cell_type": "code",
   "execution_count": 12,
   "id": "pacific-chambers",
   "metadata": {},
   "outputs": [
    {
     "data": {
      "text/plain": [
       "1"
      ]
     },
     "execution_count": 12,
     "metadata": {},
     "output_type": "execute_result"
    }
   ],
   "source": [
    "impares[0] # índice zero"
   ]
  },
  {
   "cell_type": "code",
   "execution_count": 13,
   "id": "coordinate-cartoon",
   "metadata": {},
   "outputs": [
    {
     "data": {
      "text/plain": [
       "7"
      ]
     },
     "execution_count": 13,
     "metadata": {},
     "output_type": "execute_result"
    }
   ],
   "source": [
    "impares[3]"
   ]
  },
  {
   "cell_type": "code",
   "execution_count": 14,
   "id": "natural-polymer",
   "metadata": {},
   "outputs": [
    {
     "data": {
      "text/plain": [
       "11"
      ]
     },
     "execution_count": 14,
     "metadata": {},
     "output_type": "execute_result"
    }
   ],
   "source": [
    "impares[5]"
   ]
  },
  {
   "cell_type": "code",
   "execution_count": 16,
   "id": "vulnerable-university",
   "metadata": {},
   "outputs": [
    {
     "data": {
      "text/plain": [
       "[7, 9, 11]"
      ]
     },
     "execution_count": 16,
     "metadata": {},
     "output_type": "execute_result"
    }
   ],
   "source": [
    "# acessar os valores 7, 9 e 11\n",
    "impares[3:6] # iniciando com o índice 3 e vai até o 6 (EXCLUSIVO)"
   ]
  },
  {
   "cell_type": "code",
   "execution_count": 17,
   "id": "north-architecture",
   "metadata": {},
   "outputs": [],
   "source": [
    "impares = [1, 3, 5, 7, 9, 11, 13, 15, 17]"
   ]
  },
  {
   "cell_type": "code",
   "execution_count": 20,
   "id": "immediate-genius",
   "metadata": {},
   "outputs": [
    {
     "data": {
      "text/plain": [
       "[1, 3, 5, 7, 9, 11]"
      ]
     },
     "execution_count": 20,
     "metadata": {},
     "output_type": "execute_result"
    }
   ],
   "source": [
    "# outra forma de quebrar a lista é usando valores do início ou até o fim\n",
    "impares[:6] # omitindo o valor 0:6"
   ]
  },
  {
   "cell_type": "code",
   "execution_count": 22,
   "id": "improving-israeli",
   "metadata": {},
   "outputs": [
    {
     "data": {
      "text/plain": [
       "[11, 13, 15, 17]"
      ]
     },
     "execution_count": 22,
     "metadata": {},
     "output_type": "execute_result"
    }
   ],
   "source": [
    "impares[5:] # quebra da lista do índice 5 até o final"
   ]
  },
  {
   "cell_type": "code",
   "execution_count": 23,
   "id": "following-business",
   "metadata": {},
   "outputs": [
    {
     "data": {
      "text/plain": [
       "[3, 6, 9]"
      ]
     },
     "execution_count": 23,
     "metadata": {},
     "output_type": "execute_result"
    }
   ],
   "source": [
    "numeros = [0, 1, 2, 3, 4, 5, 6, 7, 8, 9, 10, 11, 12, 13, 14, 15]\n",
    "# múltiplos de 3 abaixo de 10:\n",
    "numeros[3:10:3] # posição!!!!!"
   ]
  },
  {
   "cell_type": "markdown",
   "id": "regulated-warrant",
   "metadata": {},
   "source": [
    "- Percorrendo listas"
   ]
  },
  {
   "cell_type": "code",
   "execution_count": 24,
   "id": "three-disposition",
   "metadata": {},
   "outputs": [],
   "source": [
    "pares = [0, 2, 4, 6, 8]"
   ]
  },
  {
   "cell_type": "code",
   "execution_count": 26,
   "id": "known-liechtenstein",
   "metadata": {},
   "outputs": [
    {
     "name": "stdout",
     "output_type": "stream",
     "text": [
      "5\n"
     ]
    }
   ],
   "source": [
    "# qual o tamanho?\n",
    "tamanho = len(pares)\n",
    "print(tamanho)"
   ]
  },
  {
   "cell_type": "code",
   "execution_count": 27,
   "id": "combined-efficiency",
   "metadata": {},
   "outputs": [
    {
     "data": {
      "text/plain": [
       "16"
      ]
     },
     "execution_count": 27,
     "metadata": {},
     "output_type": "execute_result"
    }
   ],
   "source": [
    "len(numeros) # tamanho da lista números"
   ]
  },
  {
   "cell_type": "code",
   "execution_count": 28,
   "id": "focused-owner",
   "metadata": {},
   "outputs": [
    {
     "name": "stdout",
     "output_type": "stream",
     "text": [
      "0\n",
      "2\n",
      "4\n",
      "6\n",
      "8\n"
     ]
    }
   ],
   "source": [
    "for indice in range(tamanho): # percorrendo a lista [0, 2, 4, 6, 8]\n",
    "    print(pares[indice])"
   ]
  },
  {
   "cell_type": "code",
   "execution_count": 29,
   "id": "revised-clear",
   "metadata": {},
   "outputs": [
    {
     "name": "stdout",
     "output_type": "stream",
     "text": [
      "0\n",
      "2\n",
      "4\n",
      "6\n",
      "8\n"
     ]
    }
   ],
   "source": [
    "# maneira mais fácil de percorrer a lista\n",
    "pares = [0, 2, 4, 6, 8]\n",
    "\n",
    "for elemento in pares:\n",
    "    print(elemento)"
   ]
  },
  {
   "cell_type": "code",
   "execution_count": 30,
   "id": "immune-discipline",
   "metadata": {},
   "outputs": [
    {
     "name": "stdout",
     "output_type": "stream",
     "text": [
      "0\n",
      "2\n",
      "4\n",
      "6\n",
      "8\n"
     ]
    }
   ],
   "source": [
    "for item in pares:\n",
    "    print(item)"
   ]
  },
  {
   "cell_type": "code",
   "execution_count": 32,
   "id": "alike-malpractice",
   "metadata": {},
   "outputs": [
    {
     "name": "stdout",
     "output_type": "stream",
     "text": [
      "0\n",
      "2\n",
      "4\n",
      "6\n",
      "8\n"
     ]
    }
   ],
   "source": [
    "for x in pares:\n",
    "    print(x)"
   ]
  },
  {
   "cell_type": "markdown",
   "id": "random-stack",
   "metadata": {},
   "source": [
    "# Funções de listas"
   ]
  },
  {
   "cell_type": "markdown",
   "id": "altered-amsterdam",
   "metadata": {},
   "source": [
    "- Adicionar elementos a lista"
   ]
  },
  {
   "cell_type": "code",
   "execution_count": 35,
   "id": "contrary-journalism",
   "metadata": {},
   "outputs": [
    {
     "name": "stdout",
     "output_type": "stream",
     "text": [
      "[0, 2, 4, 6, 8, 10]\n"
     ]
    }
   ],
   "source": [
    "pares = [0, 2, 4, 6, 8]\n",
    "\n",
    "# incluir o número 10 nessa lista\n",
    "\n",
    "pares.append(10) # acrescentar o valor no final da lista\n",
    "\n",
    "print(pares)"
   ]
  },
  {
   "cell_type": "code",
   "execution_count": 36,
   "id": "completed-saying",
   "metadata": {},
   "outputs": [
    {
     "name": "stdout",
     "output_type": "stream",
     "text": [
      "[0, 2, 4, 6, 8, 10]\n"
     ]
    }
   ],
   "source": [
    "# Outra forma de adicionar elemento com a posição da lista\n",
    "\n",
    "pares = [0, 2, 4, 8, 10]\n",
    "\n",
    "# acrescentar o valor 6 na posição 3\n",
    "pares.insert(3, 6) # a função insert precisa da posição seguida do valor que quero adicionar\n",
    "\n",
    "print(pares)"
   ]
  },
  {
   "cell_type": "markdown",
   "id": "suspected-orange",
   "metadata": {},
   "source": [
    "- Remover um elemento"
   ]
  },
  {
   "cell_type": "code",
   "execution_count": 39,
   "id": "civic-screening",
   "metadata": {},
   "outputs": [
    {
     "name": "stdout",
     "output_type": "stream",
     "text": [
      "[1, 3, 5, 7, 9]\n"
     ]
    }
   ],
   "source": [
    "impares = [1, 3, 3, 5, 7, 9]\n",
    "\n",
    "impares.remove(3) # a função remove o valor - nesse caso a função remove vai remover o primeiro valor 3\n",
    "\n",
    "print(impares)"
   ]
  },
  {
   "cell_type": "markdown",
   "id": "protecting-things",
   "metadata": {},
   "source": [
    "Outra forma de remover um elemento"
   ]
  },
  {
   "cell_type": "code",
   "execution_count": 40,
   "id": "treated-injury",
   "metadata": {},
   "outputs": [
    {
     "name": "stdout",
     "output_type": "stream",
     "text": [
      "[1, 3, 5, 7]\n"
     ]
    }
   ],
   "source": [
    "impares = [1, 3, 5, 7, 9]\n",
    "\n",
    "impares.pop(4) # pop remove o valor da posição, nesse caso o índice 4\n",
    "\n",
    "print(impares)"
   ]
  },
  {
   "cell_type": "code",
   "execution_count": 42,
   "id": "loved-rental",
   "metadata": {},
   "outputs": [
    {
     "data": {
      "text/plain": [
       "8"
      ]
     },
     "execution_count": 42,
     "metadata": {},
     "output_type": "execute_result"
    }
   ],
   "source": [
    "variavel = [1, 3, 4, 8, 10]\n",
    "variavel.pop(3) # mostra qual valor ele irá remover da posição dada"
   ]
  },
  {
   "cell_type": "code",
   "execution_count": 48,
   "id": "revolutionary-explanation",
   "metadata": {},
   "outputs": [
    {
     "name": "stdout",
     "output_type": "stream",
     "text": [
      "[1, 3, 4, 8, 10]\n",
      "3\n",
      "[1, 4, 8, 10]\n"
     ]
    }
   ],
   "source": [
    "variavel = [1, 3, 4, 8, 10]\n",
    "print(variavel)\n",
    "print(variavel.pop(1))\n",
    "print(variavel)"
   ]
  },
  {
   "cell_type": "markdown",
   "id": "hundred-terrorist",
   "metadata": {},
   "source": [
    "Atenção: essas funções alteram o valor da lista. Se eu quero guardar ou salvar a lista anterior, preciso associar a outra variável"
   ]
  },
  {
   "cell_type": "code",
   "execution_count": 54,
   "id": "immune-booth",
   "metadata": {},
   "outputs": [
    {
     "name": "stdout",
     "output_type": "stream",
     "text": [
      "[12, 45, 78, 98, 100]\n",
      "[12, 45, 78, 98]\n",
      "[12, 45, 78, 98, 100]\n"
     ]
    }
   ],
   "source": [
    "lista1 = [12, 45, 78, 98]\n",
    "# copiar essa lista\n",
    "lista2 = lista1[:]\n",
    "lista3 = lista1 # apenas dando 2 nomes a mesma lista, tudo que acontecer com lista1, vai alterar a lista 3\n",
    "\n",
    "# modificar a lista1\n",
    "lista1.append(100)\n",
    "\n",
    "print(lista1)\n",
    "print(lista2)\n",
    "print(lista3)"
   ]
  },
  {
   "cell_type": "markdown",
   "id": "powerful-mambo",
   "metadata": {},
   "source": [
    "- ordenar listas"
   ]
  },
  {
   "cell_type": "code",
   "execution_count": 57,
   "id": "sustainable-hazard",
   "metadata": {},
   "outputs": [
    {
     "name": "stdout",
     "output_type": "stream",
     "text": [
      "[0, 1, 1, 2, 3, 5, 8, 13]\n"
     ]
    }
   ],
   "source": [
    "fibonacci = [8, 1, 0, 5, 13, 1, 3, 2]\n",
    "\n",
    "fibonacci.sort() # ordernar a lista\n",
    "\n",
    "print(fibonacci)"
   ]
  },
  {
   "cell_type": "markdown",
   "id": "facial-paper",
   "metadata": {},
   "source": [
    "Ordenar de forma reversa"
   ]
  },
  {
   "cell_type": "code",
   "execution_count": 58,
   "id": "mature-rings",
   "metadata": {},
   "outputs": [
    {
     "name": "stdout",
     "output_type": "stream",
     "text": [
      "[13, 8, 5, 3, 2, 1, 1, 0]\n"
     ]
    }
   ],
   "source": [
    "fibonacci = [8, 1, 0, 5, 13, 1, 3, 2]\n",
    "\n",
    "fibonacci.sort(reverse= True) # ordernar a lista\n",
    "\n",
    "print(fibonacci)"
   ]
  },
  {
   "cell_type": "code",
   "execution_count": 59,
   "id": "western-department",
   "metadata": {},
   "outputs": [
    {
     "name": "stdout",
     "output_type": "stream",
     "text": [
      "[2, 3, 1, 13, 5, 0, 1, 8]\n"
     ]
    }
   ],
   "source": [
    "# outra forma de ordernar de forma reversa\n",
    "\n",
    "fibonacci = [8, 1, 0, 5, 13, 1, 3, 2]\n",
    "\n",
    "fibonacci.reverse() # escrevendo  a lista de forma reversa (de trás para frente), mudando a posição\n",
    "\n",
    "print(fibonacci)"
   ]
  },
  {
   "cell_type": "markdown",
   "id": "controlling-acrylic",
   "metadata": {},
   "source": [
    "- Buscar elemento"
   ]
  },
  {
   "cell_type": "code",
   "execution_count": 62,
   "id": "utility-reproduction",
   "metadata": {},
   "outputs": [
    {
     "data": {
      "text/plain": [
       "4"
      ]
     },
     "execution_count": 62,
     "metadata": {},
     "output_type": "execute_result"
    }
   ],
   "source": [
    "pi = [3, 1, 4, 1, 5, 9, 2, 6, 5]\n",
    "\n",
    "posicao = pi.index(5) # quero saber o índice do valor 5. A função index dá o índice do valor 5. \n",
    "# Dá a posição do primeiro valor encontrado\n",
    "\n",
    "posicao"
   ]
  },
  {
   "cell_type": "markdown",
   "id": "architectural-distributor",
   "metadata": {},
   "source": [
    "- Informações sobre a lista"
   ]
  },
  {
   "cell_type": "code",
   "execution_count": 65,
   "id": "shared-kinase",
   "metadata": {},
   "outputs": [
    {
     "name": "stdout",
     "output_type": "stream",
     "text": [
      "9 9 1\n"
     ]
    }
   ],
   "source": [
    "pi = [3, 1, 4, 1, 5, 9, 2, 6, 5]\n",
    "\n",
    "# para saber o tamanho da lista\n",
    "tamanho = len(pi)\n",
    "maior = max(pi) # funcao max me dá o maior valor da lista\n",
    "menor = min(pi) # funcao min me dá o menor valor da lista\n",
    "\n",
    "print(tamanho, maior, menor)"
   ]
  },
  {
   "cell_type": "code",
   "execution_count": 69,
   "id": "amazing-wonder",
   "metadata": {},
   "outputs": [
    {
     "name": "stdout",
     "output_type": "stream",
     "text": [
      "['a', 'b', 'c']\n"
     ]
    }
   ],
   "source": [
    "teste = ['a', 'c', 'b']\n",
    "\n",
    "teste.sort()\n",
    "\n",
    "print(teste)"
   ]
  },
  {
   "cell_type": "code",
   "execution_count": 70,
   "id": "express-stereo",
   "metadata": {},
   "outputs": [
    {
     "data": {
      "text/plain": [
       "'c'"
      ]
     },
     "execution_count": 70,
     "metadata": {},
     "output_type": "execute_result"
    }
   ],
   "source": [
    "max(teste)"
   ]
  },
  {
   "cell_type": "code",
   "execution_count": 71,
   "id": "ordered-reverse",
   "metadata": {},
   "outputs": [
    {
     "data": {
      "text/plain": [
       "'a'"
      ]
     },
     "execution_count": 71,
     "metadata": {},
     "output_type": "execute_result"
    }
   ],
   "source": [
    "min(teste)"
   ]
  },
  {
   "cell_type": "code",
   "execution_count": 74,
   "id": "detected-hydrogen",
   "metadata": {},
   "outputs": [
    {
     "name": "stdout",
     "output_type": "stream",
     "text": [
      "['A', 'a', 'aa', 'ab', 'b', 'c']\n"
     ]
    }
   ],
   "source": [
    "teste = ['aa', 'a', 'c', 'b', 'ab', 'A']\n",
    "\n",
    "teste.sort()\n",
    "\n",
    "print(teste)"
   ]
  },
  {
   "cell_type": "code",
   "execution_count": null,
   "id": "forbidden-basis",
   "metadata": {},
   "outputs": [],
   "source": []
  }
 ],
 "metadata": {
  "kernelspec": {
   "display_name": "Python 3",
   "language": "python",
   "name": "python3"
  },
  "language_info": {
   "codemirror_mode": {
    "name": "ipython",
    "version": 3
   },
   "file_extension": ".py",
   "mimetype": "text/x-python",
   "name": "python",
   "nbconvert_exporter": "python",
   "pygments_lexer": "ipython3",
   "version": "3.9.5"
  },
  "varInspector": {
   "cols": {
    "lenName": 16,
    "lenType": 16,
    "lenVar": 40
   },
   "kernels_config": {
    "python": {
     "delete_cmd_postfix": "",
     "delete_cmd_prefix": "del ",
     "library": "var_list.py",
     "varRefreshCmd": "print(var_dic_list())"
    },
    "r": {
     "delete_cmd_postfix": ") ",
     "delete_cmd_prefix": "rm(",
     "library": "var_list.r",
     "varRefreshCmd": "cat(var_dic_list()) "
    }
   },
   "types_to_exclude": [
    "module",
    "function",
    "builtin_function_or_method",
    "instance",
    "_Feature"
   ],
   "window_display": false
  }
 },
 "nbformat": 4,
 "nbformat_minor": 5
}
