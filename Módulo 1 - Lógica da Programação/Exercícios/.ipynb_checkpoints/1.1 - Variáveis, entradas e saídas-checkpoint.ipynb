{
 "cells": [
  {
   "cell_type": "markdown",
   "metadata": {},
   "source": [
    "# Aula 2 - Variáveis, entradas e saídas"
   ]
  },
  {
   "cell_type": "markdown",
   "metadata": {},
   "source": [
    "Se temos um ambiente, vamos entrar no ambiente e carregar o jupyter:  \n",
    "    conda activate dsdegree  \n",
    "    python -m notebook  "
   ]
  },
  {
   "cell_type": "code",
   "execution_count": 2,
   "metadata": {},
   "outputs": [],
   "source": [
    "x = 20"
   ]
  },
  {
   "cell_type": "markdown",
   "metadata": {},
   "source": [
    "**x** é a variável  \n",
    "**20** é o dado armazenado na variável  \n",
    "**=** operador de atribuição  "
   ]
  },
  {
   "cell_type": "code",
   "execution_count": 3,
   "metadata": {},
   "outputs": [],
   "source": [
    "x = 'Luciano'"
   ]
  },
  {
   "cell_type": "markdown",
   "metadata": {},
   "source": [
    "y é a variável  \n",
    "Luciano é o dado armazenado na variável  \n",
    "= operador de atribuição"
   ]
  },
  {
   "cell_type": "markdown",
   "metadata": {},
   "source": [
    "Tipos de variáveis"
   ]
  },
  {
   "cell_type": "code",
   "execution_count": 8,
   "metadata": {},
   "outputs": [
    {
     "name": "stdout",
     "output_type": "stream",
     "text": [
      "2\n",
      "O número informado foi  2.0\n"
     ]
    }
   ],
   "source": [
    "print('O número informado foi ', float(input()))"
   ]
  },
  {
   "cell_type": "code",
   "execution_count": 11,
   "metadata": {},
   "outputs": [
    {
     "name": "stdout",
     "output_type": "stream",
     "text": [
      "Qual o primeiro número? 2\n",
      "Qual o segundo número? 2\n",
      "A soma deles é: 4\n"
     ]
    }
   ],
   "source": [
    "a = int(input('Qual o primeiro número? ' ))\n",
    "b = int(input('Qual o segundo número? ' ))\n",
    "print ('A soma deles é:', a+b)"
   ]
  },
  {
   "cell_type": "code",
   "execution_count": 13,
   "metadata": {},
   "outputs": [
    {
     "name": "stdout",
     "output_type": "stream",
     "text": [
      "Qual a primeira nota bimestral? 3\n",
      "Qual a segunda nota bimestral? 8\n",
      "Qual a terceira nota bimestral? 9\n",
      "Qual a quarta nota bimestral? 10\n",
      "A nota bimestral é:  7.5\n"
     ]
    }
   ],
   "source": [
    "pn = float(input('Qual a primeira nota bimestral? '))\n",
    "sn = float(input('Qual a segunda nota bimestral? '))\n",
    "tn = float(input('Qual a terceira nota bimestral? '))\n",
    "qn = float(input('Qual a quarta nota bimestral? '))\n",
    "\n",
    "print('A nota bimestral é: ', (pn+sn+tn+qn)/4)"
   ]
  },
  {
   "cell_type": "code",
   "execution_count": 19,
   "metadata": {},
   "outputs": [
    {
     "name": "stdout",
     "output_type": "stream",
     "text": [
      "Qual o raio do círculo que você quer calcular a área? 2\n",
      "Área =  12.56\n"
     ]
    }
   ],
   "source": [
    "r = float(input('Qual o raio do círculo que você quer calcular a área? '))\n",
    "print('Área = ', 3.14*r**2)"
   ]
  },
  {
   "cell_type": "code",
   "execution_count": 21,
   "metadata": {},
   "outputs": [
    {
     "name": "stdout",
     "output_type": "stream",
     "text": [
      "Quanto você ganha por hora trabalhada?10\n",
      "Quantas horas você trabalhou no mês?100\n",
      "Salário = R$ 1000.0\n"
     ]
    }
   ],
   "source": [
    "pph = float(input('Quanto você ganha por hora trabalhada?'))\n",
    "horas_trabalhadas = int(input('Quantas horas você trabalhou no mês?'))\n",
    "\n",
    "print('Salário = R$', pph * horas_trabalhadas)"
   ]
  },
  {
   "cell_type": "code",
   "execution_count": 23,
   "metadata": {},
   "outputs": [
    {
     "name": "stdout",
     "output_type": "stream",
     "text": [
      "Qual a temperatura em ºC?100\n",
      "A temperatura em ºF é:  212.0\n"
     ]
    }
   ],
   "source": [
    "tempc = float(input('Qual a temperatura em ºC?'))\n",
    "print( 'A temperatura em ºF é: ', tempc * 1.8 + 32)"
   ]
  },
  {
   "cell_type": "code",
   "execution_count": 25,
   "metadata": {},
   "outputs": [
    {
     "name": "stdout",
     "output_type": "stream",
     "text": [
      "Diga o dia (dd) que compõe a data?09\n",
      "Diga o número do mês (mm) que compõe a data?03\n",
      "Diga o ano (aaaa) que compõe a data?1995\n",
      "A data é: 09 / 03 / 1995\n"
     ]
    }
   ],
   "source": [
    "dd = input('Diga o dia (dd) que compõe a data?')\n",
    "mm = input('Diga o número do mês (mm) que compõe a data?')\n",
    "aaaa = input('Diga o ano (aaaa) que compõe a data?')\n",
    "\n",
    "print('A data é:', dd, '/', mm, '/', aaaa)"
   ]
  },
  {
   "cell_type": "code",
   "execution_count": 37,
   "metadata": {},
   "outputs": [
    {
     "name": "stdout",
     "output_type": "stream",
     "text": [
      "Qual o primeiro número inteiro? 2\n",
      "Qual o segundo número inteiro? 4\n",
      "Qual o número real? 3\n",
      "O produto do primeiro número com a metade do segundo é: 6.0 \n",
      "A soma do triplo do primeiro com o terceiro é:  9.0 \n",
      "O terceiro elevado ao cubo é:  27.0\n"
     ]
    }
   ],
   "source": [
    "a = int(input('Qual o primeiro número inteiro? '))\n",
    "b = int(input('Qual o segundo número inteiro? '))\n",
    "c = float(input('Qual o número real? '))\n",
    "\n",
    "print('O produto do primeiro número com a metade do segundo é:', 2*a + b/2,\n",
    "\t'\\nA soma do triplo do primeiro com o terceiro é: ', 3*a + c,\n",
    "\t'\\nO terceiro elevado ao cubo é: ', c**3)"
   ]
  },
  {
   "cell_type": "code",
   "execution_count": 38,
   "metadata": {},
   "outputs": [
    {
     "name": "stdout",
     "output_type": "stream",
     "text": [
      "Qual o peso da pessoa?50\n",
      "Qual a altura da pessoa?2\n",
      "IMC =  12.5\n"
     ]
    }
   ],
   "source": [
    "p = float(input('Qual o peso da pessoa? '))\n",
    "h = float(input('Qual a altura da pessoa? '))\n",
    "\n",
    "print('IMC = ', p/(h**2))"
   ]
  },
  {
   "cell_type": "code",
   "execution_count": 39,
   "metadata": {},
   "outputs": [
    {
     "name": "stdout",
     "output_type": "stream",
     "text": [
      "Qual o valor inicial? $10\n",
      "O novo valor é $ 11.5\n"
     ]
    }
   ],
   "source": [
    "v_inicial = float(input('Qual o valor inicial? $'))\n",
    "\n",
    "print('O novo valor é $', v_inicial*1.15)"
   ]
  },
  {
   "cell_type": "code",
   "execution_count": 43,
   "metadata": {},
   "outputs": [
    {
     "name": "stdout",
     "output_type": "stream",
     "text": [
      "Qual o valor inicial? $100\n",
      "O novo valor é $ 85.0\n"
     ]
    }
   ],
   "source": [
    "v_inicial = float(input('Qual o valor inicial? $'))\n",
    "\n",
    "print('O novo valor é $', v_inicial*0.85)"
   ]
  },
  {
   "cell_type": "code",
   "execution_count": 44,
   "metadata": {},
   "outputs": [
    {
     "name": "stdout",
     "output_type": "stream",
     "text": [
      "Qual a velocidade inicial em metros por segundo?10\n",
      "Qual a posição inicial em metros?0\n",
      "Qual o instante a ser analisado em segundos?10\n",
      "A posição no instânte de tempo pedido é: -400.0\n"
     ]
    }
   ],
   "source": [
    "v_inicial = float(input('Qual a velocidade inicial em metros por segundo?' ))\n",
    "p_inicial = float(input('Qual a posição inicial em metros?' ))\n",
    "t = float(input('Qual o instante a ser analisado em segundos?' ))\n",
    "g = -10 #Gravidade\n",
    "\n",
    "print('A posição no instânte de tempo pedido é:', p_inicial + v_inicial * t + (g*(t**2)/2))\n",
    "\n"
   ]
  },
  {
   "cell_type": "code",
   "execution_count": 45,
   "metadata": {},
   "outputs": [
    {
     "data": {
      "text/plain": [
       "datetime.datetime(2021, 6, 9, 21, 59, 51, 732299)"
      ]
     },
     "execution_count": 45,
     "metadata": {},
     "output_type": "execute_result"
    }
   ],
   "source": [
    "import datetime\n",
    "datetime.datetime.now()"
   ]
  },
  {
   "cell_type": "code",
   "execution_count": null,
   "metadata": {},
   "outputs": [],
   "source": []
  },
  {
   "cell_type": "code",
   "execution_count": null,
   "metadata": {},
   "outputs": [],
   "source": []
  },
  {
   "cell_type": "raw",
   "metadata": {},
   "source": []
  },
  {
   "cell_type": "code",
   "execution_count": null,
   "metadata": {},
   "outputs": [],
   "source": []
  },
  {
   "cell_type": "code",
   "execution_count": null,
   "metadata": {},
   "outputs": [],
   "source": []
  },
  {
   "cell_type": "code",
   "execution_count": null,
   "metadata": {},
   "outputs": [],
   "source": []
  },
  {
   "cell_type": "code",
   "execution_count": null,
   "metadata": {},
   "outputs": [],
   "source": []
  },
  {
   "cell_type": "code",
   "execution_count": null,
   "metadata": {},
   "outputs": [],
   "source": []
  }
 ],
 "metadata": {
  "kernelspec": {
   "display_name": "Python 3",
   "language": "python",
   "name": "python3"
  },
  "language_info": {
   "codemirror_mode": {
    "name": "ipython",
    "version": 3
   },
   "file_extension": ".py",
   "mimetype": "text/x-python",
   "name": "python",
   "nbconvert_exporter": "python",
   "pygments_lexer": "ipython3",
   "version": "3.9.5"
  }
 },
 "nbformat": 4,
 "nbformat_minor": 4
}
