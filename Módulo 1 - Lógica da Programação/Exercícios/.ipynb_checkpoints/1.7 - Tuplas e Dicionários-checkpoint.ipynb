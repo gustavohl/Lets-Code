{
 "cells": [
  {
   "cell_type": "code",
   "execution_count": 6,
   "metadata": {
    "ExecuteTime": {
     "end_time": "2021-06-23T22:27:59.927358Z",
     "start_time": "2021-06-23T22:27:59.923367Z"
    }
   },
   "outputs": [
    {
     "name": "stdout",
     "output_type": "stream",
     "text": [
      "(0, 1, 2, 3, 4, 5, 6, 7, 8, 9) <class 'tuple'>\n"
     ]
    }
   ],
   "source": [
    "#Exercício 1\n",
    "'''Crie uma tupla com todos os números de 0 a 9. Explore a sintaxe: use e depois não use parênteses.\n",
    "'''\n",
    "\n",
    "tupla = list(range(10))\n",
    "tupla = tuple(tupla)\n",
    "\n",
    "print(tupla, type(tupla))\n",
    "\n",
    "#A sintaxe permite atribuir valores a uma variável e está ser uma tupla com ou sem parênteses desde que haja vírgula entre as variáveis."
   ]
  },
  {
   "cell_type": "code",
   "execution_count": 7,
   "metadata": {
    "ExecuteTime": {
     "end_time": "2021-06-23T22:28:19.467155Z",
     "start_time": "2021-06-23T22:28:19.464154Z"
    }
   },
   "outputs": [
    {
     "name": "stdout",
     "output_type": "stream",
     "text": [
      "(0, 1, 2, 3, 4, 5, 6, 7, 8, 9, 10, 11, 12, 13, 14, 15, 16, 17, 18, 19, 20, 21, 22, 23, 24, 25, 26, 27, 28, 29, 30, 31, 32, 33, 34, 35, 36, 37, 38, 39, 40, 41, 42, 43, 44, 45, 46, 47, 48, 49, 50, 51, 52, 53, 54, 55, 56, 57, 58, 59, 60, 61, 62, 63, 64, 65, 66, 67, 68, 69, 70, 71, 72, 73, 74, 75, 76, 77, 78, 79, 80, 81, 82, 83, 84, 85, 86, 87, 88, 89, 90, 91, 92, 93, 94, 95, 96, 97, 98, 99, 100) <class 'tuple'>\n"
     ]
    }
   ],
   "source": [
    "#Exercício 2\n",
    "'''Crie uma tupla com todos os pares entre 0 e 100 (inclusive).\n",
    "'''\n",
    "\n",
    "tupla = list(range(101))\n",
    "tupla = tuple(tupla)\n",
    "\n",
    "print(tupla, type(tupla))"
   ]
  },
  {
   "cell_type": "code",
   "execution_count": 14,
   "metadata": {
    "ExecuteTime": {
     "end_time": "2021-06-23T23:01:32.181724Z",
     "start_time": "2021-06-23T23:01:32.169731Z"
    }
   },
   "outputs": [
    {
     "name": "stdout",
     "output_type": "stream",
     "text": [
      "[0, 24.5, 14.577379737113251, 49]\n"
     ]
    }
   ],
   "source": [
    "#Exercício 3\n",
    "'''Crie uma função que recebe uma lista de números e devolve, nesta ordem, o mínimo, a média, o desvio padrão e o máximo.\n",
    "\n",
    "Dica: Use a biblioteca statistics (import statistics) para calcular o desvio padrão: desvio = statistics.stdev(lista)\n",
    "'''\n",
    "\n",
    "import statistics as stat\n",
    "\n",
    "def statbas(x):\n",
    "    y = [min(x),\n",
    "         stat.mean(x), \n",
    "         stat.stdev(x), \n",
    "         max(x)]\n",
    "    \n",
    "    return y\n",
    "\n",
    "lista = list(range(50))\n",
    "print(statbas(lista))"
   ]
  },
  {
   "cell_type": "code",
   "execution_count": 8,
   "metadata": {
    "ExecuteTime": {
     "end_time": "2021-06-25T22:14:57.072942Z",
     "start_time": "2021-06-25T22:14:57.061949Z"
    }
   },
   "outputs": [
    {
     "data": {
      "text/plain": [
       "False"
      ]
     },
     "execution_count": 8,
     "metadata": {},
     "output_type": "execute_result"
    }
   ],
   "source": [
    "#Exercício 4\n",
    "'''Crie uma função que recebe uma lista e retorna True se todos os seus elementos forem numéricos \n",
    "(int, float ou string contendo um int ou float) ou False do contrário. A função deve também retornar a lista\n",
    "tratada: transformar todas as entradas não numéricas em numéricas ou, no melhor caso, devolver a lista apenas.\n",
    "'''\n",
    "def flatten(lst):\n",
    "    flattened = []\n",
    "    for elem in lst:\n",
    "        if isinstance(elem, (list, tuple)):\n",
    "            for nested in flatten(elem):\n",
    "                flattened.append(nested)\n",
    "        else:\n",
    "            flattened.append(elem)\n",
    "    return flattened\n",
    "\n",
    "def testdig(lst):\n",
    "    test = True\n",
    "    for i in flatten(lst):\n",
    "        if isinstance(i, str):\n",
    "                try: float(i)\n",
    "                except ValueError: test = False      \n",
    "            \n",
    "    return test            \n",
    "            \n",
    "lista = [1, 2.0, '3', ['4.0', 5, ['a']]]                \n",
    "testdig(lista)"
   ]
  },
  {
   "cell_type": "code",
   "execution_count": 13,
   "metadata": {
    "ExecuteTime": {
     "end_time": "2021-06-25T22:50:30.801983Z",
     "start_time": "2021-06-25T22:50:30.783479Z"
    }
   },
   "outputs": [
    {
     "data": {
      "text/plain": [
       "(-4, (-1.0, 1.0), [])"
      ]
     },
     "execution_count": 13,
     "metadata": {},
     "output_type": "execute_result"
    }
   ],
   "source": [
    "#Exercício 5\n",
    "'''Faça uma função que recebe valores a, b e c, resolve a equação quadrática a*x**2 + b*x + c = 0 e retorna:\n",
    "\n",
    "a. o valor de Δ onde Δ = b**2- 4*a*c\n",
    "\n",
    "b. uma tupla com o valor do ponto de mínimo ou máximo: x_m = -b/(2*a) e y_m = -Δ/(4*a);\n",
    "\n",
    "c. uma lista contendo as raízes (a lista pode ser vazia, caso Δ<0; pode conter apenas um elemento, \n",
    "caso Δ = 0; ou conter duas raízes, caso Δ> 0).\n",
    "'''\n",
    "\n",
    "def bhaskara(a, b, c):\n",
    "    delta = b ** 2 - 4 * a * c\n",
    "    minmax = (-b / (2 * a), (-delta / (4 * a)))\n",
    "\n",
    "    quadrados = []      \n",
    "    if delta == 0:\n",
    "        quadrados = (-b / (2 * a))\n",
    "    elif delta > 0:\n",
    "        quadrados.append((-b + delta ** 0.5) / (2 * a))\n",
    "        quadrados.append((-b - delta ** 0.5) / (2 * a))\n",
    "    return delta, minmax, quadrados\n",
    " \n",
    "bhaskara(1, 2, 2)"
   ]
  },
  {
   "cell_type": "code",
   "execution_count": 14,
   "metadata": {
    "ExecuteTime": {
     "end_time": "2021-06-25T22:53:17.155919Z",
     "start_time": "2021-06-25T22:53:17.142906Z"
    }
   },
   "outputs": [
    {
     "name": "stdout",
     "output_type": "stream",
     "text": [
      "{'Jan': 31, 'Fev': 28, 'Mar': 31, 'Abr': 30, 'Mai': 31, 'Jun': 30, 'Jul': 31, 'Ago': 31, 'Set': 30, 'Out': 31, 'Nov': 30, 'Dez': 31}\n",
      "31\n"
     ]
    }
   ],
   "source": [
    "#Exercício 6\n",
    "'''Crie um dicionário cujas chaves são os meses do ano e os valores são a duração (em dias) de cada mês.\n",
    "'''\n",
    "\n",
    "calendario = {'Jan':31, 'Fev':28, 'Mar':31, 'Abr':30, 'Mai':31, 'Jun':30, 'Jul':31, 'Ago':31, 'Set':30, 'Out':31, 'Nov':30, 'Dez':31}\n",
    "print(calendario)\n",
    "print(calendario['Jan'])"
   ]
  },
  {
   "cell_type": "code",
   "execution_count": 19,
   "metadata": {
    "ExecuteTime": {
     "end_time": "2021-06-25T22:56:42.803789Z",
     "start_time": "2021-06-25T22:56:42.785600Z"
    }
   },
   "outputs": [
    {
     "name": "stdout",
     "output_type": "stream",
     "text": [
      "Janeiro - 31\n",
      "Fevereiro - 28\n",
      "Março - 31\n",
      "Abril - 30\n",
      "Maio - 31\n",
      "Junho - 30\n",
      "Julho - 31\n",
      "Agosto - 31\n",
      "Setembro - 30\n",
      "Outubro - 31\n",
      "Novembro - 30\n",
      "Dezembro - 31\n"
     ]
    }
   ],
   "source": [
    "#Exercício 7\n",
    "'''Imprima as chaves seguidas dos seus valores para dicionário criado no exercício anterior.\n",
    "\n",
    "Exemplo:\n",
    "\n",
    "Janeiro - 31\n",
    "\n",
    "Fevereiro - 28\n",
    "\n",
    "Março - 31\n",
    "\n",
    "Etc...\n",
    "'''\n",
    "\n",
    "calendario = {'Janeiro':31, 'Fevereiro':28, 'Março':31, 'Abril':30,\n",
    "              'Maio':31, 'Junho':30, 'Julho':31, 'Agosto':31,\n",
    "              'Setembro':30, 'Outubro':31, 'Novembro':30, 'Dezembro':31}\n",
    "\n",
    "for i in calendario:\n",
    "    print(i, '-', calendario[i])\n"
   ]
  },
  {
   "cell_type": "code",
   "execution_count": 21,
   "metadata": {
    "ExecuteTime": {
     "end_time": "2021-06-25T23:23:01.784391Z",
     "start_time": "2021-06-25T23:23:01.780389Z"
    }
   },
   "outputs": [
    {
     "name": "stdout",
     "output_type": "stream",
     "text": [
      "{'Banana': 3.0, 'Cebola': 4.0, 'Maçã': 5.7, 'Abacaxi': 8.0}\n"
     ]
    }
   ],
   "source": [
    "#Exercício 8\n",
    "'''Crie um dicionário para as seguintes relações:\n",
    "\n",
    "‘Banana’: 3.0\n",
    "\n",
    "‘Cebola’: 4.0\n",
    "\n",
    "‘Maçã’: 5.7\n",
    "\n",
    "‘Abacaxi’: 8.0\n",
    "'''\n",
    "\n",
    "frutas = {'Banana': 3.0, 'Cebola': 4.0, 'Maçã': 5.7, 'Abacaxi': 8.0}\n",
    "print(frutas)"
   ]
  },
  {
   "cell_type": "code",
   "execution_count": 23,
   "metadata": {
    "ExecuteTime": {
     "end_time": "2021-06-25T23:23:56.567485Z",
     "start_time": "2021-06-25T23:23:56.561485Z"
    }
   },
   "outputs": [
    {
     "name": "stdout",
     "output_type": "stream",
     "text": [
      "{'Banana': 3.0, 'Cebola': 4.0, 'Maçã': 5.7, 'Abacaxi': 8.0}\n",
      "{'Banana': 8.6, 'Cebola': 4.0, 'Maçã': 5.7, 'Abacaxi': 8.0}\n"
     ]
    }
   ],
   "source": [
    "#Exercício 9\n",
    "'''Altere o valor da chave ‘Maçã’ no dicionário do exercício anterior para 8.6.\n",
    "'''\n",
    "\n",
    "frutas = {'Banana': 3.0, 'Cebola': 4.0, 'Maçã': 5.7, 'Abacaxi': 8.0}\n",
    "print(frutas)\n",
    "\n",
    "frutas['Banana'] = 8.6\n",
    "print(frutas)\n"
   ]
  },
  {
   "cell_type": "code",
   "execution_count": 35,
   "metadata": {
    "ExecuteTime": {
     "end_time": "2021-06-25T23:49:42.875609Z",
     "start_time": "2021-06-25T23:49:39.055401Z"
    }
   },
   "outputs": [
    {
     "name": "stdout",
     "output_type": "stream",
     "text": [
      "Digite o nome: eu\n",
      "Digite a idade: 21\n",
      "Digite o e-mail: gh\n",
      "{'Nome': 'eu', 'Idade': '21', 'E-mail': 'gh'}\n"
     ]
    }
   ],
   "source": [
    "#Exercício 10\n",
    "'''Crie uma função que receba os valores do nome, idade e e-mail de uma pessoa e guarde-os em um dicionário com as chaves ‘nome’, ‘idade’ e ‘email’, respectivamente. Sua função deve retornar esse dicionário.\n",
    "'''\n",
    "\n",
    "nome = input('Digite o nome: ')\n",
    "idade = input('Digite a idade: ')\n",
    "email = input('Digite o e-mail: ')\n",
    "\n",
    "usuario = {}\n",
    "usuario['Nome'] = nome\n",
    "usuario['Idade'] = idade\n",
    "usuario['E-mail'] = email\n",
    "print(usuario)"
   ]
  },
  {
   "cell_type": "code",
   "execution_count": 37,
   "metadata": {
    "ExecuteTime": {
     "end_time": "2021-06-26T00:06:19.977563Z",
     "start_time": "2021-06-26T00:06:19.972561Z"
    }
   },
   "outputs": [
    {
     "name": "stdout",
     "output_type": "stream",
     "text": [
      "{'Maria': {'Coluna A': 1, 'Coluna B': 5}, 'Pedro': {'Coluna A': 0.5, 'Coluna B': 3}, 'João': {'Coluna A': 3.2, 'Coluna B': 1}}\n",
      "{'Coluna A': 1, 'Coluna B': 5}\n"
     ]
    }
   ],
   "source": [
    "#Exercício 11\n",
    "'''Como você armazenaria a seguinte tabela usando apenas dicionários? Tente imprimir o valor correspondente da linha Pedro x Coluna B.\n",
    "\n",
    "Coluna A\tColuna B\n",
    "Maria\t1\t5\n",
    "Pedro\t0.5\t3\n",
    "João\t3.2\t1\n",
    "'''\n",
    "tabela = {'Maria':{'Coluna A':1, 'Coluna B':5}, 'Pedro':{'Coluna A':0.5, 'Coluna B':3}, 'João':{'Coluna A':3.2, 'Coluna B':1}}\n",
    "print(tabela)\n",
    "print(tabela['Maria'])"
   ]
  },
  {
   "cell_type": "code",
   "execution_count": 39,
   "metadata": {
    "ExecuteTime": {
     "end_time": "2021-06-26T00:14:28.967826Z",
     "start_time": "2021-06-26T00:14:28.953823Z"
    }
   },
   "outputs": [
    {
     "data": {
      "text/plain": [
       "{'1': 4, '2': 3, '3': 1, '4': 1}"
      ]
     },
     "execution_count": 39,
     "metadata": {},
     "output_type": "execute_result"
    }
   ],
   "source": [
    "#Exercício 12\n",
    "'''Faça uma função que receba uma lista e conte quantas vezes cada elemento apareceu nessa lista.\n",
    "Essa função deverá guardar os dados em um dicionário no qual as chaves são os elementos da lista e os valores são\n",
    "a contagem de quantas vezes esse elemento aparece.\n",
    "'''\n",
    "\n",
    "def contlista(lst):\n",
    "    listacontada = {}\n",
    "    \n",
    "    for i in lst:\n",
    "        listacontada[str(i)] = lst.count(i)\n",
    "        \n",
    "    return listacontada\n",
    "\n",
    "lista = [1, 2, 3, 4, 1, 2, 1, 2, 1]\n",
    "contlista(lista)"
   ]
  },
  {
   "cell_type": "code",
   "execution_count": 55,
   "metadata": {
    "ExecuteTime": {
     "end_time": "2021-06-26T00:29:59.645130Z",
     "start_time": "2021-06-26T00:29:47.708526Z"
    }
   },
   "outputs": [
    {
     "name": "stdout",
     "output_type": "stream",
     "text": [
      "Digite 1 para cadastrar um novo usuário, 2 para ver todos os usuários cadastrados e 3 para fechar o programa. 1\n",
      "Digite o CPF do usuário: 11111111111\n",
      "Digite o nome: eu\n",
      "Digite a idade: 10\n",
      "Digite o e-mail: hg\n",
      "{'987.654.321-00': {'nome': 'Maria', 'idade': 20, 'email': 'maria@mail.com'}, '11111111111': {'nome': 'eu', 'idade': 10, 'email': 'hg'}}\n"
     ]
    }
   ],
   "source": [
    "#Exercício 13\n",
    "'''Faça um programa que fique pedindo uma resposta do usuário, entre 1, 2 e 3. Se o usuário digitar 1,\n",
    "o programa deve cadastrar um novo usuário nos moldes do exercício 10 e guardar esse cadastro num dicionário cuja chave\n",
    "será o CPF da pessoa. Quando o usuário digitar 2, o programa deve imprimir os usuários cadastrados; e se o usuário digitar 3,\n",
    "o programa deve fechar.\n",
    "\n",
    "Exemplo do dicionário:\n",
    "\n",
    "‘987.654.321-00’: {‘nome’: Maria, ‘idade’: 20, ‘email’ :             maria@mail.com}\n",
    "'''\n",
    "\n",
    "escolha = int(input('Digite 1 para cadastrar um novo usuário, 2 para ver todos os usuários cadastrados e 3 para fechar o programa. '))\n",
    "usuarios = {'987.654.321-00': {'nome':'Maria', 'idade':20, 'email':'maria@mail.com'}}\n",
    "\n",
    "if escolha == 1:\n",
    "    cpf = input('Digite o CPF do usuário: ')\n",
    "    nome = input('Digite o nome: ')\n",
    "    idade = int(input('Digite a idade: '))\n",
    "    email = input('Digite o e-mail: ')\n",
    "    usuarios[cpf] = {'nome':nome, 'idade':idade, 'email':email}\n",
    "    \n",
    "elif escolha == 2:\n",
    "    print(usuarios)\n",
    "    \n",
    "elif escolha == 3:\n",
    "    print('Programa encerrado')"
   ]
  },
  {
   "cell_type": "code",
   "execution_count": 56,
   "metadata": {
    "ExecuteTime": {
     "end_time": "2021-06-26T00:34:30.849461Z",
     "start_time": "2021-06-26T00:34:19.905979Z"
    }
   },
   "outputs": [
    {
     "name": "stdout",
     "output_type": "stream",
     "text": [
      "Digite 1 para cadastrar um novo usuário, 2 para ver todos os usuários cadastrados, 3 para fechar o programa e 4 para procurar um usuário específico pelo CPF. 4\n",
      "Digite o CPF que deseja buscar: 987.654.321-00\n",
      "{'nome': 'Maria', 'idade': 20, 'email': 'maria@mail.com'}\n"
     ]
    }
   ],
   "source": [
    "#Exercício 14\n",
    "'''Implemente um sistema de busca para o programa do exercício 11. Isto é, se o usuário digitar 4,\n",
    "procure um determinado usuário pelo seu CPF.\n",
    "'''\n",
    "\n",
    "escolha = int(input('Digite 1 para cadastrar um novo usuário, 2 para ver todos os usuários cadastrados, 3 para fechar o programa e 4 para procurar um usuário específico pelo CPF. '))\n",
    "usuarios = {'987.654.321-00': {'nome':'Maria', 'idade':20, 'email':'maria@mail.com'}}\n",
    "\n",
    "if escolha == 1:\n",
    "    cpf = input('Digite o CPF do usuário: ')\n",
    "    nome = input('Digite o nome: ')\n",
    "    idade = int(input('Digite a idade: '))\n",
    "    email = input('Digite o e-mail: ')\n",
    "    usuarios[cpf] = {'nome':nome, 'idade':idade, 'email':email}\n",
    "    \n",
    "elif escolha == 2:\n",
    "    print(usuarios)\n",
    "    \n",
    "elif escolha == 3:\n",
    "    print('Programa encerrado')\n",
    "    \n",
    "elif escolha == 4:\n",
    "    busca = input('Digite o CPF que deseja buscar: ')\n",
    "    print(usuarios[busca])"
   ]
  },
  {
   "cell_type": "code",
   "execution_count": null,
   "metadata": {},
   "outputs": [],
   "source": [
    "#Exercício 15\n",
    "'''Faça o análogo do exercício 12 para strings: conte quantas vezes cada caracter apareceu nessa string e retorne\n",
    "um dicionário com essa contagem.\n",
    "'''\n",
    "\n"
   ]
  },
  {
   "cell_type": "code",
   "execution_count": 58,
   "metadata": {
    "ExecuteTime": {
     "end_time": "2021-06-26T00:39:37.338525Z",
     "start_time": "2021-06-26T00:39:37.331523Z"
    }
   },
   "outputs": [
    {
     "data": {
      "text/plain": [
       "{'c': 1,\n",
       " 'o': 1,\n",
       " 'm': 1,\n",
       " 'i': 2,\n",
       " 'd': 2,\n",
       " 'a': 2,\n",
       " ' ': 2,\n",
       " 'é': 1,\n",
       " 'v': 1,\n",
       " '!': 1}"
      ]
     },
     "execution_count": 58,
     "metadata": {},
     "output_type": "execute_result"
    }
   ],
   "source": [
    "def contstr(text):\n",
    "    textocontado = {}\n",
    "    \n",
    "    for i in text:\n",
    "        textocontado[i] = text.count(i)\n",
    "        \n",
    "    return textocontado\n",
    "\n",
    "texto = 'comida é vida!'\n",
    "contstr(texto)"
   ]
  }
 ],
 "metadata": {
  "kernelspec": {
   "display_name": "Python 3",
   "language": "python",
   "name": "python3"
  },
  "language_info": {
   "codemirror_mode": {
    "name": "ipython",
    "version": 3
   },
   "file_extension": ".py",
   "mimetype": "text/x-python",
   "name": "python",
   "nbconvert_exporter": "python",
   "pygments_lexer": "ipython3",
   "version": "3.9.5"
  },
  "varInspector": {
   "cols": {
    "lenName": 16,
    "lenType": 16,
    "lenVar": 40
   },
   "kernels_config": {
    "python": {
     "delete_cmd_postfix": "",
     "delete_cmd_prefix": "del ",
     "library": "var_list.py",
     "varRefreshCmd": "print(var_dic_list())"
    },
    "r": {
     "delete_cmd_postfix": ") ",
     "delete_cmd_prefix": "rm(",
     "library": "var_list.r",
     "varRefreshCmd": "cat(var_dic_list()) "
    }
   },
   "types_to_exclude": [
    "module",
    "function",
    "builtin_function_or_method",
    "instance",
    "_Feature"
   ],
   "window_display": false
  }
 },
 "nbformat": 4,
 "nbformat_minor": 4
}
