{
 "cells": [
  {
   "cell_type": "code",
   "execution_count": 85,
   "id": "003fce0c",
   "metadata": {
    "ExecuteTime": {
     "end_time": "2021-07-19T23:37:56.349888Z",
     "start_time": "2021-07-19T23:37:56.339885Z"
    },
    "code_folding": []
   },
   "outputs": [],
   "source": [
    "class Knn_classificacao:\n",
    "    def __init__(self, dados_class, dados_noclass,ind_id, ind_class, ind_coord):    \n",
    "        ''' dados_class: dados de referência já classificados.\n",
    "            dados_noclass: dados a serem classificados.\n",
    "            ind_id: elemento identificador da amostra.\n",
    "            ind_class: índice em que a classificação do elemento na lista de referência está localizado.\n",
    "            ind_coord: índice em que os valores responsável pela classificação do elemento das listas estão localizados.\n",
    "        '''\n",
    "        self.dados_class = dados_class\n",
    "        self.dados_noclass = dados_noclass\n",
    "        self.ind_id = ind_id\n",
    "        self.ind_class = ind_class\n",
    "        self.ind_coord = ind_coord\n",
    "        \n",
    "    def dist_eucl(self, noclass_elem):\n",
    "        ''' noclasse_elem: elemento não classificado.\n",
    "            class_elem: elemento da lista de referência com dados classificados.\n",
    "            dist: distância euclidiana entre valores da lista de referência e lista não classificada.\n",
    "            distancias_classificadas: lista com as distâncias entre um elemento não classificado e todos os elementos de referência com suas respectivas classificações.\n",
    "        '''\n",
    "        distancias_classificadas = []\n",
    "        for class_elem in self.dados_class:\n",
    "            dist = (sum([(x - y) ** 2 for x, y in zip(noclass_elem[self.ind_coord], class_elem[self.ind_coord])])) ** (0.5)\n",
    "            distancias_classificadas.append([dist, class_elem[self.ind_class]])\n",
    "        return distancias_classificadas\n",
    "            \n",
    "    def classificar_um(self, noclass_elem, k):\n",
    "        ''' distancias_organizadas: distâncias euclidianas organizas do menor para o maior\n",
    "            profiles: lista com todas as classificações contidas na lista de referência\n",
    "            contador: variável para verificar qual a classificação com maior ocorrência\n",
    "            classificacao: saída com a classificacão que teve maior ocorrência\n",
    "        '''\n",
    "        distancias_organizadas = self.dist_eucl(noclass_elem)\n",
    "        distancias_organizadas.sort()\n",
    "        profiles = list(set(user_class[self.ind_class] for user_class in self.dados_class))\n",
    "        contador = 0\n",
    "        classificacao = ''\n",
    "        for profile in profiles:\n",
    "            if contador < (list(zip(*distancias_organizadas[:k]))[1]).count(profile):\n",
    "                contador = (list(zip(*distancias_organizadas[:k]))[1]).count(profile)\n",
    "                classificacao = profile\n",
    "        return classificacao\n",
    "    \n",
    "    def classificar_todos(self, k):\n",
    "        classificados = {}\n",
    "        for noclass_elem in self.dados_class:\n",
    "            classificados[noclass_elem[self.ind_id]] = self.classificar_um(noclass_elem, k)\n",
    "            \n",
    "        return classificados"
   ]
  }
 ],
 "metadata": {
  "kernelspec": {
   "display_name": "Python 3",
   "language": "python",
   "name": "python3"
  },
  "language_info": {
   "codemirror_mode": {
    "name": "ipython",
    "version": 3
   },
   "file_extension": ".py",
   "mimetype": "text/x-python",
   "name": "python",
   "nbconvert_exporter": "python",
   "pygments_lexer": "ipython3",
   "version": "3.8.8"
  },
  "varInspector": {
   "cols": {
    "lenName": 16,
    "lenType": 16,
    "lenVar": 40
   },
   "kernels_config": {
    "python": {
     "delete_cmd_postfix": "",
     "delete_cmd_prefix": "del ",
     "library": "var_list.py",
     "varRefreshCmd": "print(var_dic_list())"
    },
    "r": {
     "delete_cmd_postfix": ") ",
     "delete_cmd_prefix": "rm(",
     "library": "var_list.r",
     "varRefreshCmd": "cat(var_dic_list()) "
    }
   },
   "types_to_exclude": [
    "module",
    "function",
    "builtin_function_or_method",
    "instance",
    "_Feature"
   ],
   "window_display": false
  }
 },
 "nbformat": 4,
 "nbformat_minor": 5
}
