{
 "cells": [
  {
   "cell_type": "code",
   "execution_count": 26,
   "id": "c5ec277d",
   "metadata": {
    "ExecuteTime": {
     "end_time": "2021-07-30T23:08:04.737047Z",
     "start_time": "2021-07-30T23:08:04.721042Z"
    }
   },
   "outputs": [
    {
     "name": "stdout",
     "output_type": "stream",
     "text": [
      "1\n",
      "3\n",
      "5\n",
      "7\n",
      "9\n"
     ]
    }
   ],
   "source": [
    "#Questão 1\n",
    "'''Imprimindo ímpares\n",
    "Dado o seguinte trecho de código, o que deve ser colocado no lugar de XXXXXX para que a função imprima na tela os números ímpares de 0 a 10?\n",
    "\n",
    "x = 0\n",
    "while x <= 10:\n",
    "    if XXXXXX:\n",
    "        print(x)\n",
    "    x += 1\n",
    "    \n",
    "Alternativas\n",
    "x%2 == 1\n",
    "\n",
    "x//2 == 0\n",
    "\n",
    "x%2 == 0\n",
    "\n",
    "x//2 == 1\n",
    "'''\n",
    "\n",
    "x = 0\n",
    "while x <= 10:\n",
    "    if x%2 == 1:\n",
    "        print(x)\n",
    "    x += 1"
   ]
  },
  {
   "cell_type": "code",
   "execution_count": 27,
   "id": "0fbd5b12",
   "metadata": {
    "ExecuteTime": {
     "end_time": "2021-07-30T23:08:19.450200Z",
     "start_time": "2021-07-30T23:08:19.431195Z"
    }
   },
   "outputs": [
    {
     "name": "stdout",
     "output_type": "stream",
     "text": [
      "linha 3\n",
      "linha 4\n"
     ]
    }
   ],
   "source": [
    "#Questão 2\n",
    "'''Se... então... se...?\n",
    "Dado o seguinte trecho de código, quais linhas serão mostradas na tela?\n",
    "\n",
    "x = 4\n",
    "if x < 4:\n",
    "    print('linha 1')\n",
    "elif x > 5:\n",
    "    print('linha 2')\n",
    "print('linha 3')\n",
    "if x%4 == 0:\n",
    "    print('linha 4')\n",
    "else:\n",
    "    print('linha 5')\n",
    "Alternativas\n",
    "Linhas 3 e 4\n",
    "\n",
    "Apenas a linha 3\n",
    "\n",
    "Linhas 2 e 4\n",
    "\n",
    "Linhas 2 e 5\n",
    "'''\n",
    "\n",
    "x = 4\n",
    "if x < 4:\n",
    "    print('linha 1')\n",
    "elif x > 5:\n",
    "    print('linha 2')\n",
    "print('linha 3')\n",
    "if x%4 == 0:\n",
    "    print('linha 4')\n",
    "else:\n",
    "    print('linha 5')"
   ]
  },
  {
   "cell_type": "code",
   "execution_count": null,
   "id": "178f421b",
   "metadata": {},
   "outputs": [],
   "source": [
    "#Questão 3\n",
    "'''Varendo dados\n",
    "Dado o código de uma página WEB:\n",
    "\n",
    "<html>\n",
    "  <body>\n",
    "    <p class=\"classe_a\" id=\"1\"> \n",
    "      Esse é o primeiro parágrafo.\n",
    "    </p>\n",
    "    <p class=\"classe_a\" id=\"2\"> \n",
    "      Esse é o segundo parágrafo.\n",
    "    </p>\n",
    "    <p class=\"classe_b\" id=\"3\"> \n",
    "      Esse é o terceiro parágrafo.\n",
    "    </p>\n",
    "  </body>\n",
    "</html>\n",
    "Suponha que o conteúdo já está em uma variável chamada \"soup\". Utilizando o BeautifulSoup, qual das alternativas mostra o código correto para retornar apenas o texto \"Esse é o terceiro parágrafo.\":\n",
    "\n",
    "Alternativas\n",
    "soup.find_all('p')\n",
    "\n",
    "soup.find('p', id='3').get_text()\n",
    "\n",
    "soup.find_all('p', id='3')\n",
    "\n",
    "soup.find_all('p')[1]\n",
    "'''\n",
    "\n"
   ]
  },
  {
   "cell_type": "code",
   "execution_count": 3,
   "id": "2640a0fe",
   "metadata": {
    "ExecuteTime": {
     "end_time": "2021-07-30T22:46:13.190986Z",
     "start_time": "2021-07-30T22:46:13.174982Z"
    }
   },
   "outputs": [
    {
     "data": {
      "text/plain": [
       "10"
      ]
     },
     "execution_count": 3,
     "metadata": {},
     "output_type": "execute_result"
    }
   ],
   "source": [
    "#Questão 4\n",
    "'''Somando multiplos argumentos\n",
    "Dada a seguinte função:\n",
    "\n",
    "def soma(*args):\n",
    "  result = 0\n",
    "  for i in args:\n",
    "    result = result+i\n",
    "  return result\n",
    "Como o próprio nome diz, essa é uma função para realizar uma soma de n argumentos, mas dependendo da entrada inserida, o programa resultará em erro. Indique a única opção que pode ser passada como argumento da função para que o código não quebre:\n",
    "\n",
    "Alternativas\n",
    "[1,2,3,4]\n",
    "\n",
    "1,2,3,4\n",
    "\n",
    "'1234'\n",
    "\n",
    "'1','2','3','4'\n",
    "'''\n",
    "\n"
   ]
  },
  {
   "cell_type": "code",
   "execution_count": 11,
   "id": "4c0f618f",
   "metadata": {
    "ExecuteTime": {
     "end_time": "2021-07-30T22:53:17.043725Z",
     "start_time": "2021-07-30T22:53:17.030722Z"
    }
   },
   "outputs": [
    {
     "data": {
      "text/plain": [
       "[90, 89, 92]"
      ]
     },
     "execution_count": 11,
     "metadata": {},
     "output_type": "execute_result"
    }
   ],
   "source": [
    "#Questão 5\n",
    "'''Extraindo valores de um dicionário\n",
    "Escreva um função que extraia a lista de valores de um dicionário com base numa dada chave:\n",
    "\n",
    "Exemplo:\n",
    "\n",
    "# Input:  \n",
    "lista_de_notas = [\n",
    " {'matemática': 90, 'português': 92},\n",
    " {'matemática': 89, 'português': 94},\n",
    " {'matemática': 92, 'português': 88}\n",
    "]\n",
    "\n",
    "extrai_notas(lista_de_notas, 'matemática')\n",
    "\n",
    "# Output:\n",
    "-> [90, 89, 92]\n",
    "'''\n",
    "\n",
    "def extrair_notas(lista_de_notas, materia):\n",
    "    notas = []\n",
    "    \n",
    "    for dic_notas in lista_de_notas:\n",
    "        try:\n",
    "            notas.append(dic_notas[materia])\n",
    "        except:\n",
    "            pass\n",
    "    \n",
    "    return(notas)\n",
    "\n",
    "lista_de_notas1 = [\n",
    " {'matemática': 90, 'português': 92},\n",
    " {'matemática': 89, 'português': 94},\n",
    " {'matemática': 92, 'português': 88}\n",
    "]\n",
    "\n",
    "extrair_notas(lista_de_notas1, 'matemática')"
   ]
  },
  {
   "cell_type": "code",
   "execution_count": 17,
   "id": "7abf0e70",
   "metadata": {
    "ExecuteTime": {
     "end_time": "2021-07-30T22:56:54.724634Z",
     "start_time": "2021-07-30T22:56:54.707629Z"
    }
   },
   "outputs": [
    {
     "name": "stdout",
     "output_type": "stream",
     "text": [
      "[1, 3, 4]\n"
     ]
    }
   ],
   "source": [
    "#Questão 6\n",
    "'''Removendo itens de lista\n",
    "def remove_retorna(n, lista):\n",
    "    return XXXXXX\n",
    "A função acima, deve remover o elemento da posição ‘n’ da ‘lista’ e o retornar. Com essas informações, o que deveríamos pôr no lugar de XXXXXX para que a função funcione corretamente?\n",
    "\n",
    "Alternativas\n",
    "lista.pop(n)\n",
    "\n",
    "del(lista[n])\n",
    "\n",
    "remove(lista[n])\n",
    "\n",
    "lista.remove(n)\n",
    "'''\n",
    "\n",
    "def remove_retorna(n, lista):\n",
    "    return lista.pop(n)\n",
    "\n",
    "lista1 = [1,2,3,4]\n",
    "remove_retorna(1, lista1)\n",
    "print(lista1)"
   ]
  },
  {
   "cell_type": "code",
   "execution_count": null,
   "id": "f0b2673c",
   "metadata": {},
   "outputs": [],
   "source": [
    "#Questão 7\n",
    "'''Fazendo barulho com classe\n",
    "class Britadeira():\n",
    "    def __init__(self, marca):\n",
    "        self.marca = marca\n",
    "        self.barulho = 'TRRRA'\n",
    "\n",
    "    def furar(self, n=1, sep=''):\n",
    "        som_completo = ''\n",
    "        for i in range(n):\n",
    "            som_completo += self.barulho + sep\n",
    "        print(f'{som_completo}')\n",
    "Sem alterar a classe acima, instancie e faça o objeto imprimir \"TRRRA TRRRA TRRRA\".\n",
    "'''\n",
    "\n",
    "class Britadeira():\n",
    "    def __init__(self, marca):\n",
    "        self.marca = marca\n",
    "        self.barulho = 'TRRRA'\n",
    "\n",
    "    def furar(self, n=1, sep=''):\n",
    "        som_completo = ''\n",
    "        for i in range(n):\n",
    "            som_completo += self.barulho + sep\n",
    "        print(f'{som_completo}')\n",
    "\n",
    "britadeira1 = Britadeira('marca_generica')\n",
    "britadeira1.furar(3, ' ')"
   ]
  },
  {
   "cell_type": "code",
   "execution_count": 25,
   "id": "42cd70c4",
   "metadata": {
    "ExecuteTime": {
     "end_time": "2021-07-30T23:01:34.253589Z",
     "start_time": "2021-07-30T23:01:34.246588Z"
    }
   },
   "outputs": [
    {
     "name": "stdout",
     "output_type": "stream",
     "text": [
      "1 2\n"
     ]
    }
   ],
   "source": [
    "#Questão 8\n",
    "'''Herança: de geração a geração\n",
    "class Mae:\n",
    "    def __init__(self, x=1):\n",
    "        self.x = x\n",
    "\n",
    "class Filha(Mae):\n",
    "    def __init__(self, y=2):\n",
    "        super().__init__()\n",
    "        self.y = y\n",
    "\n",
    "def main():\n",
    "    obj = Filha()\n",
    "    print(obj.x, obj.y)\n",
    "\n",
    "main()\n",
    "Explique o que o programa acima faz e o que imprimirá (se imprimirá) na tela.\n",
    "'''\n",
    "\n",
    "class Mae:\n",
    "    def __init__(self, x=1):\n",
    "        self.x = x\n",
    "\n",
    "class Filha(Mae):\n",
    "    def __init__(self, y=2):\n",
    "        super().__init__()\n",
    "        self.y = y\n",
    "\n",
    "def main():\n",
    "    obj = Filha()\n",
    "    print(obj.x, obj.y)\n",
    "\n",
    "main()\n",
    "\n",
    "'''O programa irá funcionar, método main() cria um objeto da classe \"Filha\" a qual no momento de sua criação define um \n",
    "atributo \"y\" e acessa os atributos e métodos da classe \"Mae\", a qual \"Filha\" é subclasse, através do método super(), nesse\n",
    "caso o atributo \"x\". Para finalizar, o método main() imprime o atributo \"x\" da classe \"Mae\" e o atributo \"y\" da classe \"Filha\".'''"
   ]
  }
 ],
 "metadata": {
  "kernelspec": {
   "display_name": "Python 3",
   "language": "python",
   "name": "python3"
  },
  "language_info": {
   "codemirror_mode": {
    "name": "ipython",
    "version": 3
   },
   "file_extension": ".py",
   "mimetype": "text/x-python",
   "name": "python",
   "nbconvert_exporter": "python",
   "pygments_lexer": "ipython3",
   "version": "3.8.8"
  },
  "varInspector": {
   "cols": {
    "lenName": 16,
    "lenType": 16,
    "lenVar": 40
   },
   "kernels_config": {
    "python": {
     "delete_cmd_postfix": "",
     "delete_cmd_prefix": "del ",
     "library": "var_list.py",
     "varRefreshCmd": "print(var_dic_list())"
    },
    "r": {
     "delete_cmd_postfix": ") ",
     "delete_cmd_prefix": "rm(",
     "library": "var_list.r",
     "varRefreshCmd": "cat(var_dic_list()) "
    }
   },
   "types_to_exclude": [
    "module",
    "function",
    "builtin_function_or_method",
    "instance",
    "_Feature"
   ],
   "window_display": false
  }
 },
 "nbformat": 4,
 "nbformat_minor": 5
}
