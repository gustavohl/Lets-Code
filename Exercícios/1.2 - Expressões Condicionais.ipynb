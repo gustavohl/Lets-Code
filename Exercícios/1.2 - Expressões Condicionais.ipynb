{
 "cells": [
  {
   "cell_type": "code",
   "execution_count": 20,
   "id": "533bded7",
   "metadata": {
    "ExecuteTime": {
     "end_time": "2021-06-13T14:29:20.640465Z",
     "start_time": "2021-06-13T14:29:18.383469Z"
    }
   },
   "outputs": [
    {
     "name": "stdout",
     "output_type": "stream",
     "text": [
      "Qual a idade do usuário? 15\n",
      "Menor de 18 anos\n"
     ]
    }
   ],
   "source": [
    "#Exercício 1\n",
    "#Faça um programa que peça a idade do usuário e imprima se ele é maior ou menor de 18 anos.\n",
    "idade = int(input('Qual a idade do usuário? '))\n",
    "if idade < 18:\n",
    "    print('Menor de 18 anos')\n",
    "elif idade == 18:\n",
    "    print('Possui 18 anos')\n",
    "else:\n",
    "    print ('Maior de 18 anos')"
   ]
  },
  {
   "cell_type": "code",
   "execution_count": 24,
   "id": "9c59bb88",
   "metadata": {
    "ExecuteTime": {
     "end_time": "2021-06-13T14:30:36.606431Z",
     "start_time": "2021-06-13T14:30:35.978154Z"
    }
   },
   "outputs": [
    {
     "name": "stdout",
     "output_type": "stream",
     "text": [
      "Qual o número? 0\n",
      "Número nulo (0)\n"
     ]
    }
   ],
   "source": [
    "#Exercício 2\n",
    "#Faça um programa que peça um número e mostre se ele é positivo ou negativo.\n",
    "num = float(input('Qual o número? '))\n",
    "if num < 0:\n",
    "    print('Número negativo')\n",
    "elif num == 0:\n",
    "    print('Número nulo (0)')\n",
    "else:\n",
    "    print('Número positivo')"
   ]
  },
  {
   "cell_type": "code",
   "execution_count": 25,
   "id": "381b7ee1",
   "metadata": {
    "ExecuteTime": {
     "end_time": "2021-06-13T14:31:00.595255Z",
     "start_time": "2021-06-13T14:30:59.259303Z"
    }
   },
   "outputs": [
    {
     "name": "stdout",
     "output_type": "stream",
     "text": [
      "Qual o primeiro número? 2\n",
      "Qual o segundo número? 2\n",
      "Os números são iguais\n"
     ]
    }
   ],
   "source": [
    "#Exercício 3\n",
    "#Faça um programa que peça dois números e mostre o maior deles.\n",
    "num1 = float(input('Qual o primeiro número? '))\n",
    "num2 = float(input('Qual o segundo número? '))\n",
    "if num1 > num2:\n",
    "    print('O primeiro número é maior')\n",
    "elif num2 > num1:\n",
    "    print('O segundo número é maior')\n",
    "else:\n",
    "    print('Os números são iguais')"
   ]
  },
  {
   "cell_type": "code",
   "execution_count": 35,
   "id": "895b84e8",
   "metadata": {},
   "outputs": [
    {
     "name": "stdout",
     "output_type": "stream",
     "text": [
      "Qual a idade? 100\n",
      "Qual o salário? -10\n",
      "Qual o sexo (M/F/Outro)? a\n",
      "Erro: Salário inválido!\n",
      "Erro: Sexo inválido!\n"
     ]
    }
   ],
   "source": [
    "#Exercício 4\n",
    "'''Faça um programa que leia a validade das informações:\n",
    "\n",
    "a. Idade: entre 0 e 150;\n",
    "b. Salário: maior que 0;\n",
    "c. Sexo: M, F ou Outro;\n",
    "\n",
    "O programa deve imprimir uma mensagem de erro para cada informação inválida.'''\n",
    "idade = int(input('Qual a idade? '))\n",
    "salario = int(input('Qual o salário? '))\n",
    "sexo = input('Qual o sexo (M/F/Outro)? ')\n",
    "ver = 0\n",
    "\n",
    "if idade < 0 or idade > 150:\n",
    "    print('Erro: Idade inválida!')\n",
    "    ver = 1\n",
    "    \n",
    "if salario < 0:\n",
    "    print('Erro: Salário inválido!')\n",
    "    ver = 1\n",
    "    \n",
    "if sexo != 'M' and sexo != 'F' and sexo != 'Outro':\n",
    "    print('Erro: Sexo inválido!')\n",
    "    ver = 1    \n",
    "\n",
    "if ver == 0:\n",
    "    print('Informações válidas, obrigado!')"
   ]
  },
  {
   "cell_type": "code",
   "execution_count": 27,
   "id": "c6ed0968",
   "metadata": {
    "ExecuteTime": {
     "end_time": "2021-06-13T14:32:59.859312Z",
     "start_time": "2021-06-13T14:32:57.687336Z"
    }
   },
   "outputs": [
    {
     "name": "stdout",
     "output_type": "stream",
     "text": [
      "Qual a nota da primeira prova? 2\n",
      "Qual a nota da segunda prova? 3\n",
      "Qual a nota da terceira prova? 10\n",
      "O aluno reprovou, média: 5.0\n"
     ]
    }
   ],
   "source": [
    "#Exercício 5\n",
    "''' Escreva um programa que peça a nota de 3 provas de um aluno e verifique se ele passou ou não de ano.\n",
    "Obs.: O aluno irá passar de ano se sua média for maior que 6.'''\n",
    "\n",
    "nota1 = float(input('Qual a nota da primeira prova? '))\n",
    "nota2 = float(input('Qual a nota da segunda prova? '))\n",
    "nota3 = float(input('Qual a nota da terceira prova? '))\n",
    "media = (nota1 + nota2 + nota3) / 3\n",
    "if media > 6:\n",
    "    print('O aluno passou, média:', media)\n",
    "else:\n",
    "    print('O aluno reprovou, média:', media)"
   ]
  },
  {
   "cell_type": "code",
   "execution_count": null,
   "id": "6198a329",
   "metadata": {
    "ExecuteTime": {
     "start_time": "2021-06-13T14:35:48.982Z"
    }
   },
   "outputs": [],
   "source": [
    "#Exercício 6\n",
    "'''Faça um programa que mostre uma questão de múltipla escolha com 5 opções (letras a, b, c, d, e).\n",
    "Sabendo a resposta certa, o programa deve receber a opção do usuário e informar a letra que o usuário marcou e se a resposta\n",
    "está certa ou errada.'''\n",
    "\n",
    "resp = input('Qual destes é o maior número? \\n a) 2 \\n b) 10 \\n c) 3 \\n d) 4 \\n e) 5 \\n ')\n",
    "resp_certa = 'b'\n",
    "\n",
    "if resp == resp_certa:\n",
    "    print('Resposta correta!')\n",
    "else:\n",
    "    print('Resposta errada.')\n",
    "    "
   ]
  },
  {
   "cell_type": "code",
   "execution_count": 3,
   "id": "13e00d41",
   "metadata": {
    "ExecuteTime": {
     "end_time": "2021-06-21T22:16:59.994675Z",
     "start_time": "2021-06-21T22:16:56.044338Z"
    },
    "code_folding": []
   },
   "outputs": [
    {
     "name": "stdout",
     "output_type": "stream",
     "text": [
      "Mora perto da vítima? sim\n",
      "Já trabalhou com a vítima? SIM\n",
      "Telefonou para a vítima? sim\n",
      "Esteve no local do crime? sim\n",
      "Devia para a vítima? sim\n",
      "O interrogado é um cúmplice!\n"
     ]
    }
   ],
   "source": [
    "#Exercício 7\n",
    "'''Vamos fazer um programa para verificar quem é o assassino de um crime. Para descobrir o assassino,\n",
    "a polícia faz um pequeno questionário com 5 perguntas onde a resposta só pode ser sim ou não:\n",
    "\n",
    "a. Mora perto da vítima?\n",
    "\n",
    "b. Já trabalhou com a vítima?\n",
    "\n",
    "c. Telefonou para a vítima?\n",
    "\n",
    "d. Esteve no local do crime?\n",
    "\n",
    "e. Devia para a vítima?\n",
    "\n",
    "Cada resposta sim dá um ponto para o suspeito. A polícia considera que os suspeitos com 5 pontos são os assassinos,\n",
    "com 4 a 3 pontos são cúmplices e 2 pontos são apenas suspeitos, necessitando outras investigações.\n",
    "Valores iguais ou abaixo de 1 são liberados.'''\n",
    "\n",
    "resp1 = input('Mora perto da vítima? ')\n",
    "resp2 = input('Já trabalhou com a vítima? ')\n",
    "resp3 = input('Telefonou para a vítima? ')\n",
    "resp4 = input('Esteve no local do crime? ')\n",
    "resp5 = input('Devia para a vítima? ')\n",
    "nivel = 0\n",
    "\n",
    "if resp1.lower() == 'sim':\n",
    "    nivel += 1\n",
    "if resp2.lower() == 'sim':\n",
    "    nivel += 1\n",
    "if resp3.lower() == 'sim':\n",
    "    nivel += 1\n",
    "if resp4.lower() == 'sim':\n",
    "    nivel += 1\n",
    "if resp5.lower() == 'sim':\n",
    "    nivel += 1\n",
    "    \n",
    "if nivel == 5:\n",
    "    print('O interrogado é o assassino!')\n",
    "elif nivel == 4 or nivel == 3:\n",
    "    print('O interrogado é um cúmplice!')\n",
    "elif nivel == 2:\n",
    "    print('O interrogado é um suspeito')\n",
    "else:\n",
    "    print('O interrogado pode ser liberado')\n"
   ]
  },
  {
   "cell_type": "code",
   "execution_count": 49,
   "id": "87e66847",
   "metadata": {
    "code_folding": []
   },
   "outputs": [
    {
     "name": "stdout",
     "output_type": "stream",
     "text": [
      "Qual o preço antigo do produto? 80\n",
      "O novo preço esta razoável:  88.0\n"
     ]
    }
   ],
   "source": [
    "#Exercício 8\n",
    "'''Um produto vai sofrer aumento de acordo com a Tabela 1 abaixo. Faça um programa que peça para o usuário digitar\n",
    "o valor do produto de acordo com o preço antigo e escreva uma das mensagens da Tabela 2, de acordo com o preço reajustado:\n",
    "\n",
    "Tabela 1\n",
    "\n",
    "Preço Antigo\t% de aumento\n",
    "Até 50 reais\t5%\n",
    "Entre 50 e 100 reais\t10%\n",
    "De 100 a 150 reais\t13%\n",
    "Acima de 150 reais\t15%\n",
    "Tabela 2\n",
    "\n",
    "Preço Novo\tMensagem\n",
    "Até 80 reais\tBarato\n",
    "Entre 80 e 115 reais\tRazoável\n",
    "Entre 115 e 150 reais\tNormal\n",
    "Entre 150 e 170 reais\tCaro\n",
    "Acima de 170 reais\tMuito Caro\n",
    "'''\n",
    "\n",
    "preco_ant = float(input('Qual o preço antigo do produto? '))\n",
    "\n",
    "if preco_ant <= 50:\n",
    "    preco = preco_ant * 1.05\n",
    "    print('O novo preço está barato: ', preco) # 5% de 50 = 52.5 < 80\n",
    "\n",
    "elif preco_ant < 100:\n",
    "    preco = preco_ant * 1.10\n",
    "    if preco < 80:\n",
    "        print('O novo preço está barato: ', preco)\n",
    "    else: #10% de 100 = 110 < 115\n",
    "        print('O novo preço esta razoável: ', preco) \n",
    "\n",
    "elif preco_ant < 150:\n",
    "    preco = preco_ant * 1.13\n",
    "    if preco < 115: \n",
    "        print ('O novo preço esta razoável: ', preco) \n",
    "    elif preco < 150:\n",
    "        print ('O novo preço esta normal: ', preco)\n",
    "    else:\n",
    "        print('O novo preço esta caro: ', preco) # 149 * 1.13 = 169 < 170\n",
    "        \n",
    "elif preco_ant >= 150:\n",
    "    preco = preco_ant * 1.15\n",
    "    print('O novo preço esta muito caro: ', preco) # 150 * 1.15 = 172.5 > 170\n",
    "        "
   ]
  },
  {
   "cell_type": "code",
   "execution_count": 58,
   "id": "e8a73446",
   "metadata": {},
   "outputs": [
    {
     "name": "stdout",
     "output_type": "stream",
     "text": [
      "Qual o primeiro número? 10\n",
      "Qual o segundo número? 20\n",
      "Qual o terceiro número? 15\n",
      "O maior número foi  20.0\n"
     ]
    }
   ],
   "source": [
    "#Exercício 9\n",
    "'''Desafio 1 - Faça um programa que leia 3 números e informe o maior deles.'''\n",
    "\n",
    "num1 = float(input('Qual o primeiro número? '))\n",
    "num2 = float(input('Qual o segundo número? '))\n",
    "num3 = float(input('Qual o terceiro número? '))\n",
    "num = None\n",
    "\n",
    "if num1 < num2:\n",
    "    num = num2\n",
    "    \n",
    "    if num2 < num3:\n",
    "        num = num3\n",
    "        print('O maior número foi ', num)\n",
    "    else:    \n",
    "        print('O maior número foi ', num)\n",
    "\n",
    "elif num1 < num3:\n",
    "    num = num3\n",
    "    print('O maior número foi ', num)\n",
    "    \n",
    "else:\n",
    "    num = num1\n",
    "    print('O maior número foi ', num)\n",
    "    "
   ]
  },
  {
   "cell_type": "code",
   "execution_count": 9,
   "id": "3b8252e8",
   "metadata": {
    "ExecuteTime": {
     "end_time": "2021-06-13T13:38:05.576011Z",
     "start_time": "2021-06-13T13:38:03.780963Z"
    },
    "code_folding": []
   },
   "outputs": [
    {
     "name": "stdout",
     "output_type": "stream",
     "text": [
      "Qual o primeiro número? 2\n",
      "Qual o segundo número? 1\n",
      "Qual o terceiro número? 1\n",
      "Qual o quarto número? 1\n",
      "7-O maior número foi  2.0\n"
     ]
    }
   ],
   "source": [
    "#Exercício 10\n",
    "'''Desafio 2 - Faça o mesmo programa do exercício anterior, porém com 4 números.'''\n",
    "\n",
    "num1 = float(input('Qual o primeiro número? '))\n",
    "num2 = float(input('Qual o segundo número? '))\n",
    "num3 = float(input('Qual o terceiro número? '))\n",
    "num4 = float(input('Qual o quarto número? '))\n",
    "num = None\n",
    "\n",
    "if num1 < num2:\n",
    "    num = num2\n",
    "    \n",
    "    if num2 < num3:\n",
    "        num = num3\n",
    "        \n",
    "        if num3 < num4:\n",
    "            num = num4\n",
    "            print('O maior número foi ', num) #imprime o quarto\n",
    "            \n",
    "    elif num2 < num4:\n",
    "        num = num4\n",
    "        print('O maior número foi ', num) #imprime o quarto\n",
    "        \n",
    "    else:    \n",
    "        print('O maior número foi ', num) #imprime o segundo\n",
    "\n",
    "elif num1 < num3:\n",
    "    num = num3\n",
    "    \n",
    "    if num3 < num4:\n",
    "        num = num4\n",
    "        print('O maior número foi ', num) #imprime o quarto\n",
    "    \n",
    "    else:\n",
    "        print('O maior número foi ', num) #imprime o terceiro\n",
    "        \n",
    "elif num1 < num4:\n",
    "        num = num4\n",
    "        print('O maior número foi ', num) #imprime o quarto\n",
    "        \n",
    "else:\n",
    "    num = num1\n",
    "    print('O maior número foi ', num)\n",
    "    "
   ]
  },
  {
   "cell_type": "code",
   "execution_count": 19,
   "id": "54e364f6",
   "metadata": {
    "ExecuteTime": {
     "end_time": "2021-06-13T14:28:10.758622Z",
     "start_time": "2021-06-13T14:28:07.964394Z"
    },
    "code_folding": []
   },
   "outputs": [
    {
     "name": "stdout",
     "output_type": "stream",
     "text": [
      "Sente dor no corpo? sim\n",
      "Você tem febre? sim\n",
      "Você tem tosse? sim\n",
      "Está com congestão nasal? sim\n",
      "Tem manchas pelo corpo? sim\n",
      "Diagnóstico: inconclusivo\n"
     ]
    }
   ],
   "source": [
    "#Exercício 11\n",
    "'''Desafio 3 - Um hospital quer fazer o diagnóstico de gripe ou dengue a partir de um questionário de sintomas, \n",
    "tendo as perguntas abaixo, faça um programa que faça o diagnóstico deste hospital:\n",
    "\n",
    "a. Sente dor no corpo?\n",
    "\n",
    "b. Você tem febre?\n",
    "\n",
    "c. Você tem tosse?\n",
    "\n",
    "d. Está com congestão nasal?\n",
    "\n",
    "e. Tem manchas pelo corpo?\n",
    "\n",
    "Para o diagnóstico ele tem a seguinte tabela:\n",
    "\n",
    "A\tB\tC\tD\tE\tResultado\n",
    "Sim\tSim\tNão\tNão\tSim\tDengue\n",
    "Sim\tSim\tSim\tSim\tNão\tGripe\n",
    "Não\tSim\tSim\tSim\tNão\tGripe\n",
    "Sim\tNão\tNão\tNão\tNão\tSem doenças\n",
    "Não\tNão\tNão\tNão\tNão\tSem doenças\n",
    "'''\n",
    "#[1,1,0,0,1] / [1,1,1,1,0] / [0,1,1,1,0] / [1,0,0,0,0] / [0,0,0,0,0]\n",
    "\n",
    "sin1 = input('Sente dor no corpo? ')\n",
    "sin2 = input('Você tem febre? ')\n",
    "sin3 = input('Você tem tosse? ')\n",
    "sin4 = input('Está com congestão nasal? ')\n",
    "sin5 = input('Tem manchas pelo corpo? ')\n",
    "\n",
    "if (sin1, sin2, sin3, sin4, sin5) == ('sim', 'sim', 'não', 'não', 'sim'):\n",
    "    print('Diagnóstico: dengue')\n",
    "elif (sin1, sin2, sin3, sin4, sin5) == ('sim', 'sim', 'sim', 'sim', 'não'):\n",
    "    print('Diagnóstico: gripe')\n",
    "elif (sin1, sin2, sin3, sin4, sin5) == ('não', 'sim', 'sim', 'sim', 'não'):\n",
    "    print('Diagnóstico: gripe')\n",
    "elif (sin1, sin2, sin3, sin4, sin5) == ('sim', 'não', 'não', 'não', 'não'):\n",
    "    print('Diagnóstico: sem doenças')\n",
    "elif (sin1, sin2, sin3, sin4, sin5) == ('não', 'não', 'não', 'não', 'não'):\n",
    "    print('Diagnóstico: sem doenças')\n",
    "else:\n",
    "    print('Diagnóstico: inconclusivo')"
   ]
  },
  {
   "cell_type": "code",
   "execution_count": null,
   "id": "4b4a351d",
   "metadata": {},
   "outputs": [],
   "source": []
  },
  {
   "cell_type": "code",
   "execution_count": null,
   "metadata": {},
   "outputs": [],
   "source": []
  },
  {
   "cell_type": "code",
   "execution_count": null,
   "metadata": {},
   "outputs": [],
   "source": []
  },
  {
   "cell_type": "code",
   "execution_count": null,
   "metadata": {},
   "outputs": [],
   "source": []
  }
 ],
 "metadata": {
  "kernelspec": {
   "display_name": "Python 3",
   "language": "python",
   "name": "python3"
  },
  "language_info": {
   "codemirror_mode": {
    "name": "ipython",
    "version": 3
   },
   "file_extension": ".py",
   "mimetype": "text/x-python",
   "name": "python",
   "nbconvert_exporter": "python",
   "pygments_lexer": "ipython3",
   "version": "3.9.5"
  },
  "varInspector": {
   "cols": {
    "lenName": 16,
    "lenType": 16,
    "lenVar": 40
   },
   "kernels_config": {
    "python": {
     "delete_cmd_postfix": "",
     "delete_cmd_prefix": "del ",
     "library": "var_list.py",
     "varRefreshCmd": "print(var_dic_list())"
    },
    "r": {
     "delete_cmd_postfix": ") ",
     "delete_cmd_prefix": "rm(",
     "library": "var_list.r",
     "varRefreshCmd": "cat(var_dic_list()) "
    }
   },
   "types_to_exclude": [
    "module",
    "function",
    "builtin_function_or_method",
    "instance",
    "_Feature"
   ],
   "window_display": false
  }
 },
 "nbformat": 4,
 "nbformat_minor": 5
}
