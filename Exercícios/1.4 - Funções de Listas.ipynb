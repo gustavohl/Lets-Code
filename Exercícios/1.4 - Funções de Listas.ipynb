{
 "cells": [
  {
   "cell_type": "code",
   "execution_count": 3,
   "metadata": {
    "ExecuteTime": {
     "end_time": "2021-06-15T00:18:31.518335Z",
     "start_time": "2021-06-15T00:18:31.513335Z"
    }
   },
   "outputs": [
    {
     "name": "stdout",
     "output_type": "stream",
     "text": [
      "1\n",
      "2\n",
      "3\n",
      "4\n"
     ]
    }
   ],
   "source": [
    "#Exercício 1\n",
    "'''Crie uma lista qualquer e faça um programa que imprima cada elemento da lista usando o for.\n",
    "'''\n",
    "\n",
    "lista = [1, 2, 3, 4]\n",
    "\n",
    "for i in lista:\n",
    "    print(i)"
   ]
  },
  {
   "cell_type": "code",
   "execution_count": 28,
   "metadata": {
    "ExecuteTime": {
     "end_time": "2021-06-15T23:08:26.029726Z",
     "start_time": "2021-06-15T23:08:26.023725Z"
    }
   },
   "outputs": [
    {
     "name": "stdout",
     "output_type": "stream",
     "text": [
      "1\n",
      "2\n",
      "3\n",
      "4\n"
     ]
    }
   ],
   "source": [
    "#Exercício 2\n",
    "'''Faça um programa que imprima todos os itens de uma lista usando while e compare com o exercício 1.\n",
    "'''\n",
    "\n",
    "lista = [1, 2, 3, 4]\n",
    "i = 0\n",
    "\n",
    "while i < len(lista):\n",
    "    print(lista[i])\n",
    "    i += 1"
   ]
  },
  {
   "cell_type": "code",
   "execution_count": 29,
   "metadata": {
    "ExecuteTime": {
     "end_time": "2021-06-15T23:08:29.383541Z",
     "start_time": "2021-06-15T23:08:28.961092Z"
    }
   },
   "outputs": [
    {
     "name": "stdout",
     "output_type": "stream",
     "text": [
      "A lista deve possuir uma sequência de quantos números? 10\n",
      "[0, 1, 2, 3, 4, 5, 6, 7, 8, 9]\n"
     ]
    }
   ],
   "source": [
    "#Exercício 3\n",
    "'''Faça um programa que peça para o usuário digitar um número n e imprima uma lista com todos os números de 0 a n-1.\n",
    "\n",
    "Exemplo: se o usuário digitar 5, o programa deve imprimir [0, 1, 2, 3, 4]\n",
    "'''\n",
    "num = int(input('A lista deve possuir uma sequência de quantos números? '))\n",
    "lista = []\n",
    "\n",
    "for i in range(num):\n",
    "    lista.append(i)\n",
    "\n",
    "print(lista)"
   ]
  },
  {
   "cell_type": "code",
   "execution_count": 110,
   "metadata": {
    "ExecuteTime": {
     "end_time": "2021-06-16T21:46:03.664635Z",
     "start_time": "2021-06-16T21:46:03.645630Z"
    }
   },
   "outputs": [
    {
     "name": "stdout",
     "output_type": "stream",
     "text": [
      "[0, 1, 2, 3, 4, 5, 6, 7, 8, 9]\n",
      "\n",
      "Quantidade de números pares: 4\n"
     ]
    }
   ],
   "source": [
    "#Exercício 4\n",
    "'''Faça um programa que olhe todos os itens de uma lista e diga quantos deles são pares.\n",
    "'''\n",
    "\n",
    "lista = []\n",
    "num_par = 0\n",
    "\n",
    "for i in range(10):\n",
    "    lista.append(i)\n",
    "\n",
    "for i in lista:\n",
    "    if i != 0 and (i % 2) == 0:\n",
    "        num_par += 1\n",
    "\n",
    "print(lista)\n",
    "print('\\nQuantidade de números pares:', num_par)"
   ]
  },
  {
   "cell_type": "code",
   "execution_count": 111,
   "metadata": {
    "ExecuteTime": {
     "end_time": "2021-06-16T21:46:43.894065Z",
     "start_time": "2021-06-16T21:46:43.886064Z"
    }
   },
   "outputs": [
    {
     "name": "stdout",
     "output_type": "stream",
     "text": [
      "[2, 8, 10, 6, 5, 4, 12, 14, 0, 2, 4, 1]\n",
      "\n",
      "O maior número da lista é: 14\n"
     ]
    }
   ],
   "source": [
    "#Exercício 5\n",
    "'''Faça um programa que imprima o maior número de uma lista, sem usar a função max().\n",
    "'''\n",
    "\n",
    "lista = [2, 8, 10, 6, 5, 4, 12, 14, 0, 2, 4, 1]\n",
    "\n",
    "num = lista[1]\n",
    "    \n",
    "for i in lista:\n",
    "    if num < i:\n",
    "        num = i\n",
    "\n",
    "print(lista)\n",
    "print('\\nO maior número da lista é:', num)"
   ]
  },
  {
   "cell_type": "code",
   "execution_count": 112,
   "metadata": {
    "ExecuteTime": {
     "end_time": "2021-06-16T21:47:30.337990Z",
     "start_time": "2021-06-16T21:47:30.329998Z"
    }
   },
   "outputs": [
    {
     "name": "stdout",
     "output_type": "stream",
     "text": [
      "[2, 8, 10, 6, 5, 4, 12, 14, 0, 2, 4, 1] \n",
      "\n",
      "14\n",
      "12\n",
      "10\n"
     ]
    }
   ],
   "source": [
    "#Exercício 6\n",
    "'''Agora usando a função max() faça um programa que imprima os três maiores números de uma lista.\n",
    "\n",
    "Dica: Use o método próprio de listas .remove().\n",
    "'''\n",
    "\n",
    "lista = [2, 8, 10, 6, 5, 4, 12, 14, 0, 2, 4, 1]\n",
    "print(lista, '\\n')\n",
    "\n",
    "for i in range(3):\n",
    "    print(max(lista))\n",
    "    lista.remove(max(lista))"
   ]
  },
  {
   "cell_type": "code",
   "execution_count": 113,
   "metadata": {
    "ExecuteTime": {
     "end_time": "2021-06-16T21:48:03.897505Z",
     "start_time": "2021-06-16T21:48:03.883503Z"
    }
   },
   "outputs": [
    {
     "name": "stdout",
     "output_type": "stream",
     "text": [
      "[3, 7, 11, 15, 19]\n"
     ]
    }
   ],
   "source": [
    "#Exercício 7\n",
    "'''Faça um programa que, dadas duas listas de mesmo tamanho, crie uma nova lista com cada elemento igual\n",
    "a soma dos elementos da lista 1 com os da lista 2, na mesma posição.\n",
    "\n",
    "Exemplo:\n",
    "\n",
    "Dadas lista1 = [1, 4, 5] e lista2 = [2, 2, 3], então lista3 = [1+2, 4+2, 5+3] = [3, 6, 8]\n",
    "'''\n",
    "\n",
    "lista1 = [1, 3, 5, 7, 9]\n",
    "lista2 = [2, 4, 6, 8, 10]\n",
    "lista_soma = []\n",
    "\n",
    "for i, j in zip(lista1, lista2):\n",
    "    lista_soma.append(i + j)\n",
    "    \n",
    "print(lista_soma)"
   ]
  },
  {
   "cell_type": "code",
   "execution_count": 54,
   "metadata": {
    "ExecuteTime": {
     "end_time": "2021-06-15T23:37:09.403711Z",
     "start_time": "2021-06-15T23:37:09.385707Z"
    }
   },
   "outputs": [
    {
     "name": "stdout",
     "output_type": "stream",
     "text": [
      "[2, 12, 30, 56, 90]\n",
      "190\n"
     ]
    }
   ],
   "source": [
    "#Exercício 8\n",
    "'''Faça um programa que dadas duas listas de mesmo tamanho, imprima o produto escalar entre elas.\n",
    "\n",
    "OBS: produto escalar é a soma do resultado da multiplicação entre o número na posição i da lista1 pelo número na\n",
    "posição i da lista2, com i variando de 0 ao tamanho da lista.\n",
    "'''\n",
    "\n",
    "lista1 = [1, 3, 5, 7, 9]\n",
    "lista2 = [2, 4, 6, 8, 10]\n",
    "lista_prod = []\n",
    "\n",
    "for i, j in zip(lista1, lista2):\n",
    "    lista_prod.append(i * j)\n",
    "    \n",
    "print(lista_prod)\n",
    "print(sum(lista_prod))"
   ]
  },
  {
   "cell_type": "code",
   "execution_count": 58,
   "metadata": {
    "ExecuteTime": {
     "end_time": "2021-06-15T23:40:21.721071Z",
     "start_time": "2021-06-15T23:40:15.304552Z"
    }
   },
   "outputs": [
    {
     "name": "stdout",
     "output_type": "stream",
     "text": [
      "Qual o número você deseja adicionar? 2\n",
      "Qual o número você deseja adicionar? 4\n",
      "Qual o número você deseja adicionar? 6\n",
      "Qual o número você deseja adicionar? 8\n",
      "Qual o número você deseja adicionar? 10\n",
      "['2', '4', '6', '8', '10']\n"
     ]
    }
   ],
   "source": [
    "#Exercício 9\n",
    "'''Faça um programa que pede para o usuário digitar 5 números e, ao final, imprime uma lista com os 5 números\n",
    "digitados pelo usuário (sem converter os números para int ou float).\n",
    "\n",
    "Exemplo: Se o usuário digitar 1, 5, 2, 3, 6, o programa deve imprimir a lista ['1','5','2','3','6']\n",
    "'''\n",
    "lista = []\n",
    "\n",
    "for i in range(5):\n",
    "    lista.append(str(int(input('Qual o número você deseja adicionar? ')))) #adicionado o str(int()) apenas para impedir a adição de um elemento que não seja numérico\n",
    "    \n",
    "print(lista)"
   ]
  },
  {
   "cell_type": "code",
   "execution_count": 114,
   "metadata": {
    "ExecuteTime": {
     "end_time": "2021-06-16T21:49:49.771722Z",
     "start_time": "2021-06-16T21:49:46.169321Z"
    }
   },
   "outputs": [
    {
     "name": "stdout",
     "output_type": "stream",
     "text": [
      "Qual o número você deseja adicionar? 2\n",
      "Qual o número você deseja adicionar? 4\n",
      "Qual o número você deseja adicionar? 6\n",
      "Qual o número você deseja adicionar? 8\n",
      "Qual o número você deseja adicionar? 10\n",
      "['2', '4', '6', '8', '10']\n",
      "[2.0, 4.0, 6.0, 8.0, 10.0]\n"
     ]
    }
   ],
   "source": [
    "#Exercício 10\n",
    "'''Pegue a lista gerada no exercício anterior e transforme cada um dos itens dessa lista em um float.\n",
    "\n",
    "OBS: Não é para alterar o programa anterior, mas sim a lista gerada por ele.\n",
    "'''\n",
    "\n",
    "lista = []\n",
    "\n",
    "for i in range(5):\n",
    "    lista.append(str(int(input('Qual o número você deseja adicionar? ')))) #adicionado o str(int()) apenas para impedir a adição de um elemento que não seja numérico\n",
    "    \n",
    "print(lista)\n",
    "\n",
    "for i in range(len(lista)):\n",
    "    lista[i] = float(lista[i])\n",
    "    \n",
    "print(lista)"
   ]
  },
  {
   "cell_type": "code",
   "execution_count": 64,
   "metadata": {
    "ExecuteTime": {
     "end_time": "2021-06-15T23:53:11.732542Z",
     "start_time": "2021-06-15T23:53:03.147911Z"
    }
   },
   "outputs": [
    {
     "name": "stdout",
     "output_type": "stream",
     "text": [
      "Qual a primeira nota? 2\n",
      "Qual a segunda nota? 4\n",
      "Qual a terceira nota? 6\n",
      "Qual a quarta nota? 8\n",
      "[2.0, 4.0, 6.0, 8.0, 10.0]\n",
      "A média foi:  6.0\n"
     ]
    }
   ],
   "source": [
    "#Exercício 11\n",
    "'''Faça um programa que peça as 4 notas bimestrais e mostre a média aritmética delas, usando listas.\n",
    "'''\n",
    "\n",
    "ordem = ['primeira', 'segunda', 'terceira', 'quarta']\n",
    "notas = []\n",
    "\n",
    "for i in range(4):\n",
    "    notas.append(float(input('Qual a {} nota? '.format(ordem[i]))))\n",
    "    \n",
    "print(lista)\n",
    "print('A média foi: ', (sum(lista) / len(lista)))"
   ]
  },
  {
   "cell_type": "code",
   "execution_count": 5,
   "metadata": {
    "ExecuteTime": {
     "end_time": "2021-06-17T00:55:49.383088Z",
     "start_time": "2021-06-17T00:55:49.361073Z"
    }
   },
   "outputs": [
    {
     "name": "stdout",
     "output_type": "stream",
     "text": [
      "[47, 43, 45, 40, 21, 40, 29, 11, 26, 5]\n",
      "[47, 43, 45, 40]\n",
      "[40, 29, 11, 26, 5]\n",
      "[40, 40, 26]\n",
      "[47, 43, 45, 21, 29, 11, 5]\n",
      "[47, 43, 45, 40, 21, 40, 29, 11, 26, 5]\n",
      "[5, 26, 11, 29, 40, 21, 40, 45, 43, 47]\n",
      "[5, 26, 11, 29, 40, 40, 29, 11, 26, 5]\n",
      "[47, 43, 45, 40, 21, 21, 40, 45, 43, 47]\n"
     ]
    }
   ],
   "source": [
    "#Exercício 12\n",
    "'''Sorteie uma lista de 10 números e imprima:\n",
    "\n",
    "a. uma lista com os 4 primeiros números;\n",
    "\n",
    "b. uma lista com os 5 últimos números;\n",
    "\n",
    "c. uma lista contendo apenas os elementos das posições pares;\n",
    "\n",
    "d. uma lista contendo apenas os elementos das posições ímpares;\n",
    "\n",
    "e. a lista inversa da lista sorteada (isto é, uma lista que começa com o último elemento da lista sorteada e termina com o primeiro);\n",
    "\n",
    "f. uma lista inversa dos 5 primeiros números;\n",
    "\n",
    "g. uma lista inversa dos 5 últimos números.\n",
    "'''\n",
    "\n",
    "import random\n",
    "\n",
    "lista = []\n",
    "\n",
    "for i in range(10): \n",
    "    lista.append(random.randint(1, 50))\n",
    "print(lista)\n",
    "\n",
    "#a)\n",
    "lista_firsts = lista[:4]\n",
    "print(lista_firsts)\n",
    "\n",
    "#b)\n",
    "lista_lasts = lista[-5:]\n",
    "print(lista_lasts)\n",
    "\n",
    "#c)\n",
    "lista_pares = []\n",
    "for i in lista: #g\n",
    "    if i % 2 == 0:\n",
    "        lista_pares.append(i)\n",
    "print(lista_pares)\n",
    "\n",
    "#d)\n",
    "lista_impares = []\n",
    "for i in lista: #g\n",
    "    if i % 2 != 0:\n",
    "        lista_impares.append(i)\n",
    "print(lista_impares)\n",
    "\n",
    "#e)\n",
    "lista_rev = lista.copy()\n",
    "print(lista_rev)\n",
    "\n",
    "lista_rev = list(reversed(lista))\n",
    "print(lista_rev)\n",
    "\n",
    "#f)\n",
    "lista_firsts_rev = lista_rev[:5] + lista[5:]\n",
    "print(lista_firsts_rev)\n",
    "\n",
    "#g)\n",
    "lista_lasts_rev = lista[:5] + lista_rev[-5:]\n",
    "print(lista_lasts_rev)"
   ]
  },
  {
   "cell_type": "code",
   "execution_count": 92,
   "metadata": {
    "ExecuteTime": {
     "end_time": "2021-06-16T10:03:55.300916Z",
     "start_time": "2021-06-16T10:03:55.282902Z"
    }
   },
   "outputs": [
    {
     "name": "stdout",
     "output_type": "stream",
     "text": [
      "[7, 50, 16, 74, 58, 30, 24, 36, 84, 15]\n",
      "\n",
      "Quantidade de números maiores que 50: 3\n"
     ]
    }
   ],
   "source": [
    "#Exercício 13\n",
    "'''Faça um programa que sorteia 10 números entre 0 e 100 e conte quantos números sorteados são maiores que 50.\n",
    "'''\n",
    "\n",
    "import random\n",
    "\n",
    "lista = []\n",
    "cont = 0\n",
    "\n",
    "for i in range(10): \n",
    "    lista.append(random.randint(0, 100))\n",
    "print(lista)\n",
    "\n",
    "for i in lista:\n",
    "    if i > 50:\n",
    "        cont += 1\n",
    "        \n",
    "print('\\nQuantidade de números maiores que 50:', cont)"
   ]
  },
  {
   "cell_type": "code",
   "execution_count": null,
   "metadata": {},
   "outputs": [],
   "source": [
    "#Exercício 14\n",
    "'''Faça um programa que sorteie 10 números entre 0 e 100 e imprima:\n",
    "\n",
    "a. o maior número sorteado;\n",
    "\n",
    "b. o menor número sorteado;\n",
    "\n",
    "c. a média dos números sorteados;\n",
    "\n",
    "d. a soma dos números sorteados.\n",
    "'''\n",
    "\n",
    "import random\n",
    "\n",
    "lista = []\n",
    "\n",
    "for i in range(10): \n",
    "    lista.append(random.randint(0, 100))\n",
    "print(lista)\n",
    "\n",
    "print('O maior número sorteado é:', max(lista))\n",
    "print('O menor número sorteado é:', min(lista))\n",
    "print('A média dos números sorteados é:', (sum(lista) / len(lista)))\n",
    "print('A soma dos números sorteados é:', sum(lista))"
   ]
  },
  {
   "cell_type": "code",
   "execution_count": 116,
   "metadata": {
    "ExecuteTime": {
     "end_time": "2021-06-16T21:53:52.352340Z",
     "start_time": "2021-06-16T21:53:46.497250Z"
    }
   },
   "outputs": [
    {
     "name": "stdout",
     "output_type": "stream",
     "text": [
      "Qual o nome do aluno? eu\n",
      "\n",
      "O nome do aluno é: eu\n",
      "Qual a idade do aluno? 10\n",
      "\n",
      "A idade do aluno é: 10\n",
      "Quantas provas o aluno fez? 4\n",
      "Qual o a nota da prova 1? 2\n",
      "Qual o a nota da prova 2? 3\n",
      "Qual o a nota da prova 3? 4\n",
      "Qual o a nota da prova 4? 3\n",
      "\n",
      "As notas do aluno foram: [2.0, 3.0, 4.0, 3.0]\n",
      "\n",
      "A média do aluno foi: 3.0\n",
      "\n",
      "O aluno foi aprovado? Reprovado\n",
      "\n",
      " ['eu', 10, [2.0, 3.0, 4.0, 3.0], 3.0, 'Reprovado']\n"
     ]
    }
   ],
   "source": [
    "#Exercício 15\n",
    "'''Desafio 1 - Faça um programa que peça para o usuário digitar o nome e a idade de um aluno e o \n",
    "número de provas que esse aluno fez. Depois, o programa deve pedir para o usuário digitar as notas de cada prova do aluno. \n",
    "Ao final o programa deve imprimir uma lista contendo:\n",
    "\n",
    "a. Nome do aluno na posição 0;\n",
    "\n",
    "b. Idade do aluno na posição 1;\n",
    "\n",
    "c. Uma lista com todas as notas na posição 2;\n",
    "\n",
    "d. A média do aluno na posição 3;\n",
    "\n",
    "e. True ou False, caso a média seja maior que 5 ou não, na posição 4.\n",
    "\n",
    "Dica: Use o que você fez nos exercícios anteriores para criar esse programa.\n",
    "'''\n",
    "\n",
    "aluno = []\n",
    "\n",
    "#a)\n",
    "aluno.append(input('Qual o nome do aluno? '))\n",
    "print('\\nO nome do aluno é:', aluno[0])\n",
    "\n",
    "#b)\n",
    "aluno.append(int(input('Qual a idade do aluno? ')))\n",
    "print('\\nA idade do aluno é:', aluno[1])\n",
    "\n",
    "#c)\n",
    "num_provas = int(input('Quantas provas o aluno fez? '))\n",
    "prova = []\n",
    "\n",
    "for i in range(num_provas):\n",
    "    prova.append(i + 1)\n",
    "\n",
    "aluno.append([])\n",
    "for i in range(num_provas):\n",
    "    aluno[2].append(float(input('Qual o a nota da prova {}? '.format(prova[i]))))\n",
    "print('\\nAs notas do aluno foram:', aluno[2])\n",
    "\n",
    "#d)\n",
    "aluno.append(sum(aluno[2]) / len(aluno[2]))\n",
    "print('\\nA média do aluno foi:', aluno[3])\n",
    "\n",
    "#e)\n",
    "if aluno[3] > 5:\n",
    "    aluno.append('Aprovado')\n",
    "    print('\\nO aluno foi aprovado?', aluno[4])\n",
    "    \n",
    "else:\n",
    "    aluno.append('Reprovado')\n",
    "    print('\\nO aluno foi aprovado?', aluno[4])\n",
    "\n",
    "print('\\n', aluno)\n"
   ]
  },
  {
   "cell_type": "code",
   "execution_count": 98,
   "metadata": {
    "ExecuteTime": {
     "end_time": "2021-06-16T10:33:48.457244Z",
     "start_time": "2021-06-16T10:33:32.490469Z"
    }
   },
   "outputs": [
    {
     "name": "stdout",
     "output_type": "stream",
     "text": [
      "Qual o nome do aluno? eu\n",
      "\n",
      "O nome do aluno é: eu\n",
      "Qual a idade do aluno? 10\n",
      "\n",
      "A idade do aluno é: 10\n",
      "Quantas provas o aluno fez (mínimo: 3)? 4\n",
      "Qual o a nota da prova 1? 5\n",
      "Qual o a nota da prova 2? 9\n",
      "Qual o a nota da prova 3? 10\n",
      "Qual o a nota da prova 4? 4\n",
      "\n",
      "As notas do aluno foram: [5.0, 9.0, 10.0, 4.0]\n",
      "\n",
      "A média do aluno foi: 9.5\n",
      "\n",
      "O aluno foi aprovado? True\n",
      "['eu', 10, [5.0, 9.0, 10.0, 4.0], 9.5, True]\n"
     ]
    }
   ],
   "source": [
    "#Exercício 16\n",
    "'''Desafio 2 - Faça um programa como o do item anterior, porém que imprima a média sem considerar\n",
    "a maior e menor nota do aluno (nesse caso o número de provas precisa ser obrigatoriamente maior que dois).\n",
    "\n",
    "Dica: crie uma cópia com a lista de todas as notas antes de fazer a média.\n",
    "'''\n",
    "\n",
    "aluno = []\n",
    "\n",
    "#a)\n",
    "aluno.append(input('Qual o nome do aluno? '))\n",
    "print('\\nO nome do aluno é:', aluno[0])\n",
    "\n",
    "#b)\n",
    "aluno.append(int(input('Qual a idade do aluno? ')))\n",
    "print('\\nA idade do aluno é:', aluno[1])\n",
    "\n",
    "#c)\n",
    "num_provas = int(input('Quantas provas o aluno fez (mínimo: 3)? '))\n",
    "prova = []\n",
    "\n",
    "for i in range(num_provas):\n",
    "    prova.append(i + 1)\n",
    "\n",
    "aluno.append([])\n",
    "for i in range(num_provas):\n",
    "    aluno[2].append(float(input('Qual o a nota da prova {}? '.format(prova[i]))))\n",
    "print('\\nAs notas do aluno foram:', aluno[2])\n",
    "\n",
    "#d)\n",
    "aluno.append(sum(aluno[2][1:-1]) / len(aluno[2][1:-1]))\n",
    "print('\\nA média do aluno foi:', aluno[3])\n",
    "\n",
    "#e)\n",
    "if aluno[3] > 5:\n",
    "    aluno.append('Aprovado')\n",
    "    print('\\nO aluno foi aprovado?', aluno[4])\n",
    "    \n",
    "else:\n",
    "    aluno.append('Reprovado')\n",
    "    print('\\nO aluno foi aprovado?', aluno[4])\n",
    "\n",
    "print('\\n', aluno)"
   ]
  },
  {
   "cell_type": "code",
   "execution_count": 109,
   "metadata": {
    "ExecuteTime": {
     "end_time": "2021-06-16T21:04:08.476890Z",
     "start_time": "2021-06-16T21:04:03.503685Z"
    }
   },
   "outputs": [
    {
     "name": "stdout",
     "output_type": "stream",
     "text": [
      "Qual o seu cpf? (somente dígitos) 97478105301\n",
      "CPF inválido\n"
     ]
    }
   ],
   "source": [
    "#Exercício 17\n",
    "'''Desafio 3 - Faça um programa que pede para o usuário digitar o CPF e verifica se ele é válido. Para isso, primeiramente\n",
    "o programa deve multiplicar cada um dos 9 primeiros dígitos do CPF pelos números de 10 a 2 e somar todas as respostas.\n",
    "O resultado deve ser multiplicado por 10 e dividido por 11. O resto dessa divisão deve ser igual ao primeiro dígito\n",
    "verificador (10º dígito). Em seguida, o programa deve multiplicar cada um dos 10 primeiros dígitos do CPF pelos números\n",
    "de 11 a 2 e repetir o procedimento anterior para verificar o segundo dígito verificador.\n",
    "\n",
    "Exemplo:\n",
    "\n",
    "Se o CPF for 286.255.878-87 o programa deve fazer primeiro:\n",
    "\n",
    "x = (2*10 + 8*9 + 6*8 + 2*7 + 5*6 + 5*5 + 8*4 + 7*3 + 8*2)\n",
    "\n",
    "Em seguida, o programa deve testar se x*10%11 == 8 (o décimo número do CPF). Se sim, o programa deve calcular:\n",
    "\n",
    "x = (2*11 + 8*10 + 6*9 + 2*8 + 5*7 + 5*6 + 8*5 + 7*4 + 8*3 + 8*2)\n",
    "\n",
    "e verificar se x*10%11 == 7 (o décimo primeiro número do CPF).\n",
    "'''\n",
    "\n",
    "cpf_str = str(int(input('Qual o seu cpf? (somente dígitos) ')))\n",
    "\n",
    "cpf = []\n",
    "for i in cpf_str:\n",
    "    cpf.append(int(i))\n",
    "\n",
    "mult1 = []\n",
    "for i in range(10, 1, -1):\n",
    "    mult1.append(i)\n",
    "\n",
    "mult2 = []\n",
    "for i in range(11, 1, -1):\n",
    "    mult2.append(i)\n",
    "\n",
    "#teste1\n",
    "teste1 = []\n",
    "for i, j in zip(cpf, mult1):\n",
    "    teste1.append(i * j)\n",
    "    \n",
    "if sum(teste1) * 10 % 11 != cpf[-2]:\n",
    "    print('CPF inválido')\n",
    "    \n",
    "#teste2    \n",
    "else:\n",
    "    teste2 = []\n",
    "    for i, j in zip(cpf, mult2):\n",
    "        teste2.append(i * j)\n",
    "    \n",
    "    if sum(teste2) * 10 % 11 != cpf[-1]:\n",
    "        print('CPF inválido')\n",
    "    \n",
    "    else:\n",
    "        print('CPF válido!')"
   ]
  },
  {
   "cell_type": "code",
   "execution_count": 10,
   "metadata": {
    "ExecuteTime": {
     "end_time": "2021-06-17T00:56:47.409994Z",
     "start_time": "2021-06-17T00:56:47.399992Z"
    }
   },
   "outputs": [
    {
     "name": "stdout",
     "output_type": "stream",
     "text": [
      "[20, 50, 19, 34, 32, 40, 3, 48, 9, 39]\n",
      "[39, 9, 48, 3, 40, 32, 34, 19, 50, 20]\n",
      "[20, 50, 19, 34, 32, 40, 3, 48, 9, 39]\n"
     ]
    }
   ],
   "source": [
    "import random\n",
    "\n",
    "lista = []\n",
    "\n",
    "for i in range(10): \n",
    "    lista.append(random.randint(1, 50))\n",
    "print(lista)\n",
    "\n",
    "lista_rev = lista.copy()\n",
    "lista_rev.reverse()\n",
    "print(lista_rev)\n",
    "print(lista)"
   ]
  }
 ],
 "metadata": {
  "kernelspec": {
   "display_name": "Python 3",
   "language": "python",
   "name": "python3"
  },
  "language_info": {
   "codemirror_mode": {
    "name": "ipython",
    "version": 3
   },
   "file_extension": ".py",
   "mimetype": "text/x-python",
   "name": "python",
   "nbconvert_exporter": "python",
   "pygments_lexer": "ipython3",
   "version": "3.8.10"
  },
  "varInspector": {
   "cols": {
    "lenName": 16,
    "lenType": 16,
    "lenVar": 40
   },
   "kernels_config": {
    "python": {
     "delete_cmd_postfix": "",
     "delete_cmd_prefix": "del ",
     "library": "var_list.py",
     "varRefreshCmd": "print(var_dic_list())"
    },
    "r": {
     "delete_cmd_postfix": ") ",
     "delete_cmd_prefix": "rm(",
     "library": "var_list.r",
     "varRefreshCmd": "cat(var_dic_list()) "
    }
   },
   "types_to_exclude": [
    "module",
    "function",
    "builtin_function_or_method",
    "instance",
    "_Feature"
   ],
   "window_display": false
  }
 },
 "nbformat": 4,
 "nbformat_minor": 4
}
