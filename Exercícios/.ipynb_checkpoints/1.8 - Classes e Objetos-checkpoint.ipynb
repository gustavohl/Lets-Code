{
 "cells": [
  {
   "cell_type": "code",
   "execution_count": 5,
   "id": "1ab03623",
   "metadata": {
    "code_folding": []
   },
   "outputs": [
    {
     "name": "stdout",
     "output_type": "stream",
     "text": [
      "amarelo\n",
      "200.96\n",
      "267.94666666666666\n"
     ]
    }
   ],
   "source": [
    "# Exercício 1\n",
    "'''Crie uma classe Bola cujos atributos são cor e raio. Crie um método que imprime a cor da bola. Crie um método para calcular\n",
    "a área dessa bola. Crie um método para calcular o volume da bola. Crie um objeto dessa classe e calcule a área e o volume,\n",
    "imprimindo ambos em seguida.\n",
    "\n",
    "Obs.:\n",
    "\n",
    "Área da esfera = 4*3.14*r*r;\n",
    "\n",
    "Volume da esfera = 4*3.14*r*r*r/3\n",
    "'''\n",
    "\n",
    "\n",
    "class bola:\n",
    "    def __init__(self, cor, raio):\n",
    "        self.cor = cor\n",
    "        self.raio = raio\n",
    "\n",
    "    def color(self):\n",
    "        print(self.cor)\n",
    "\n",
    "    def area(self):\n",
    "        area = 4 * 3.14 * self.raio ** 2\n",
    "        print(area)\n",
    "\n",
    "    def volume(self):\n",
    "        volume = (4 * 3.14 * self.raio ** 3) / 3\n",
    "        print(volume)\n",
    "\n",
    "\n",
    "balao = bola('amarelo', 4)\n",
    "balao.color()\n",
    "balao.area()\n",
    "balao.volume()"
   ]
  },
  {
   "cell_type": "code",
   "execution_count": 3,
   "id": "0b74b609",
   "metadata": {
    "ExecuteTime": {
     "end_time": "2021-07-16T15:46:16.166311Z",
     "start_time": "2021-07-16T15:46:16.157309Z"
    }
   },
   "outputs": [
    {
     "name": "stdout",
     "output_type": "stream",
     "text": [
      "9\n"
     ]
    }
   ],
   "source": [
    "# Exercício 2\n",
    "'''Crie uma classe Retângulo cujos atributos são lado_a e lado_b. Crie um método para calcular a área desse retângulo.\n",
    "Crie um objeto dessa classe e calcule a área e a imprima em seguida.\n",
    "'''\n",
    "\n",
    "\n",
    "class retangulo:\n",
    "    def __init__(self, lado_a, lado_b):\n",
    "        self.lado_a = lado_a\n",
    "        self.lado_b = lado_b\n",
    "\n",
    "    def area(self):\n",
    "        area = self.lado_a * self.lado_b\n",
    "        return area\n",
    "\n",
    "\n",
    "quadrado = retangulo(3, 3)\n",
    "print(quadrado.area())"
   ]
  },
  {
   "cell_type": "code",
   "execution_count": 29,
   "id": "4a47d994",
   "metadata": {
    "code_folding": []
   },
   "outputs": [
    {
     "data": {
      "text/plain": [
       "{'janeiro': 17600,\n",
       " 'fevereiro': 17600,\n",
       " 'março': 19800,\n",
       " 'abril': 19360,\n",
       " 'junho': 19360,\n",
       " 'julho': 19360,\n",
       " 'agosto': 19250,\n",
       " 'setembro': 19360,\n",
       " 'outubro': 19800,\n",
       " 'novembro': 19360,\n",
       " 'dezembro': 0}"
      ]
     },
     "execution_count": 29,
     "metadata": {},
     "output_type": "execute_result"
    }
   ],
   "source": [
    "# Exercício 3\n",
    "'''Crie uma classe Funcionario cujos atributos são nome e e-mail. Guarde as horas trabalhadas em um dicionário cujas chaves são\n",
    "o mês em questão e, em outro dicionário, guarde o salário por hora relativo ao mês em questão. Crie um método que retorna o\n",
    "salário mensal do funcionário.\n",
    "'''\n",
    "\n",
    "\n",
    "class funcionario:\n",
    "    def __init__(self, nome, email):\n",
    "        self.nome = nome\n",
    "        self.email = email\n",
    "\n",
    "        # Dicionários preenchidos para teste do programa\n",
    "        self.bdh = {'janeiro': 880, 'fevereiro': 880, 'março': 900, 'abril': 880, 'junho': 880, 'julho': 880, 'agosto': 875,\n",
    "                    'setembro': 880, 'outubro': 900, 'novembro': 880, 'dezembro': 0}\n",
    "        self.sph = {'janeiro': 20, 'fevereiro': 20, 'março': 22, 'abril': 22, 'junho': 22, 'julho': 22, 'agosto': 22, 'setembro': 22,\n",
    "                    'outubro': 22, 'novembro': 22, 'dezembro': 22}\n",
    "\n",
    "        # Dicionários vazíos, para funcionários novos ou sem dados adicionados (como de fato o pgrama funcionaria):\n",
    "    '''self.bdh = {'janeiro':None, 'fevereiro':None, 'março':None, 'abril':None, 'junho':None, 'julho':None, 'agosto':None,\n",
    "                    'setembro':None, 'outubro':None, 'novembro':None, 'dezembro':None}\n",
    "        self.sph = {'janeiro':None, 'fevereiro':None, 'março':None, 'abril':None, 'junho':None, 'julho':None, 'agosto':None,\n",
    "                    'setembro':None, 'outubro':None, 'novembro':None, 'dezembro':None}'''\n",
    "\n",
    "    def banco_de_horas(self, mes, horas):\n",
    "        self.bdh[mes] = horas\n",
    "\n",
    "    def salario_por_hora(self, mes, valor):\n",
    "        self.sph[mes] = valor\n",
    "\n",
    "    def salario(self):\n",
    "        salario = {}\n",
    "\n",
    "        for mes in list(self.bdh.keys()):\n",
    "            salario[mes] = self.bdh[mes] * self.sph[mes]\n",
    "\n",
    "        return salario\n",
    "\n",
    "\n",
    "gustavo = funcionario('gustavo', 'gh')\n",
    "gustavo.salario()"
   ]
  },
  {
   "cell_type": "code",
   "execution_count": 10,
   "id": "31b6a4c6",
   "metadata": {
    "ExecuteTime": {
     "end_time": "2021-07-13T22:07:17.754033Z",
     "start_time": "2021-07-13T22:07:17.732019Z"
    }
   },
   "outputs": [
    {
     "name": "stdout",
     "output_type": "stream",
     "text": [
      "Volume: 54\n",
      "Volume: 53\n",
      "Canal: TNT\n",
      "Canal: Discovery Channel\n"
     ]
    }
   ],
   "source": [
    "# Exercício 4\n",
    "'''Crie uma classe Televisor cujos atributos são:\n",
    "\n",
    "a. fabricante;\n",
    "b. modelo;\n",
    "c. canal atual;\n",
    "d. lista de canais;\n",
    "e. volume.\n",
    "\n",
    "Faça métodos para aumentar/diminuir volume, trocar o canal e sintonizar um novo canal, que adiciona um novo canal à lista\n",
    "de canais (somente se esse canal não estiver nessa lista). No atributo lista de canais, devem estar armazenados todos os canais\n",
    "já sintonizados dessa TV.\n",
    "\n",
    "Obs.: O volume não pode ser menor que zero e maior que cem; só se pode trocar para um canal que já esteja na lista de canais.\n",
    "'''\n",
    "\n",
    "\n",
    "class televisor:\n",
    "    def __init__(self, fabricante, modelo, canal, lista_canais, volume):\n",
    "        self.fabricante = fabricante\n",
    "        self.modelo = modelo\n",
    "        self.canal = canal\n",
    "        self.lista_canais = lista_canais\n",
    "        self.volume = volume\n",
    "\n",
    "    def aumentar_volume(self):\n",
    "        if self.volume < 100:\n",
    "            self.volume += 1\n",
    "            print('Volume:', self.volume)\n",
    "        else:\n",
    "            print('volume máximo')\n",
    "            \n",
    "    def diminuir_volume(self):\n",
    "        if self.volume < 100:\n",
    "            self.volume -= 1\n",
    "            print('Volume:', self.volume)\n",
    "        else:\n",
    "            print('volume máximo')\n",
    "\n",
    "    def mudar_canal(self, novo_canal):\n",
    "        if novo_canal in list(self.lista_canais.keys()):\n",
    "            self.canal = novo_canal\n",
    "            print('Canal:', self.lista_canais[self.canal])\n",
    "        else:\n",
    "            print('canal não existente na lista de canais')\n",
    "\n",
    "    def adicionar_canal(self, num_canal, nome_canal):\n",
    "        self.lista_canais.update({num_canal: nome_canal})\n",
    "\n",
    "\n",
    "lista_canais_teste = {1: 'Fox', 2: 'HBO', 3: 'TNT', 4: 'Animal Planet'}\n",
    "minha_televisao = televisor('LG', 'ABC123', 1, lista_canais_teste, 53)\n",
    "\n",
    "minha_televisao.aumentar_volume()\n",
    "minha_televisao.diminuir_volume()\n",
    "minha_televisao.mudar_canal(3)\n",
    "minha_televisao.adicionar_canal(5, 'Discovery Channel')\n",
    "minha_televisao.mudar_canal(5)"
   ]
  },
  {
   "cell_type": "code",
   "execution_count": 14,
   "id": "18eca18c",
   "metadata": {
    "ExecuteTime": {
     "end_time": "2021-07-13T22:08:13.028347Z",
     "start_time": "2021-07-13T22:08:13.019344Z"
    }
   },
   "outputs": [
    {
     "name": "stdout",
     "output_type": "stream",
     "text": [
      "Canal: HBO\n",
      "Canal já adicionado\n",
      "Canal: Warner\n"
     ]
    }
   ],
   "source": [
    "\n",
    "# Exercício 5\n",
    "'''Crie uma classe ControleRemoto cujo atributo é televisão (isso é, recebe um objeto da classe do exercício 4).\n",
    "Crie métodos para aumentar/diminuir volume, trocar o canal e sintonizar um novo canal, que adiciona um novo canal à lista de\n",
    "canais (somente se esse canal não estiver nessa lista).\n",
    "'''\n",
    "\n",
    "class ControleRemoto:\n",
    "    def __init__(self, televisor):\n",
    "        self.televisor = televisor\n",
    "    \n",
    "    def aumentar_volume(self):\n",
    "        self.televisor.aumentar_volume()\n",
    "            \n",
    "    def diminuir_volume(self):\n",
    "        self.televisor.diminuir_volume()\n",
    "\n",
    "    def mudar_canal(self, novo_canal):\n",
    "        self.televisor.mudar_canal(novo_canal)\n",
    "\n",
    "    def adicionar_canal(self, num_canal, nome_canal):\n",
    "        if num_canal in self.televisor.lista_canais:\n",
    "            print('Canal já adicionado')\n",
    "            \n",
    "        else:\n",
    "            self.televisor.adicionar_canal(num_canal, nome_canal)\n",
    "\n",
    "meu_controle = ControleRemoto(minha_televisao)\n",
    "meu_controle.mudar_canal(2)\n",
    "meu_controle.adicionar_canal(6, 'Warner')\n",
    "minha_televisao.mudar_canal(6)"
   ]
  },
  {
   "cell_type": "code",
   "execution_count": 54,
   "id": "f9f777a8",
   "metadata": {},
   "outputs": [
    {
     "name": "stdout",
     "output_type": "stream",
     "text": [
      "terminado\n"
     ]
    }
   ],
   "source": [
    "# Exercício 6\n",
    "'''O módulo time possui a função time.sleep(x), que faz seu programa “dormir” por x segundos. Utilizando essa função,\n",
    "crie uma classe Cronômetro e faça um programa que cronometre o tempo.\n",
    "'''\n",
    "\n",
    "import time\n",
    "\n",
    "class cronometro:\n",
    "    def __init__(self, tempo):\n",
    "        self.tempo = tempo\n",
    "    def cronometrar(self):\n",
    "        time.sleep(self.tempo)\n",
    "        print('terminado')\n",
    "        \n",
    "teste = cronometro(10)\n",
    "teste.cronometrar()\n",
    "        "
   ]
  },
  {
   "cell_type": "code",
   "execution_count": 15,
   "id": "94b5ce90",
   "metadata": {
    "ExecuteTime": {
     "end_time": "2021-07-13T22:09:04.086343Z",
     "start_time": "2021-07-13T22:09:04.066330Z"
    },
    "code_folding": []
   },
   "outputs": [
    {
     "name": "stdout",
     "output_type": "stream",
     "text": [
      "['84988054328', 'ghlouredo@gmail.com']\n",
      "contato inexistente\n"
     ]
    }
   ],
   "source": [
    "# Exercício 7\n",
    "'''Crie uma modelagem de classes para uma agenda capaz de armazenar contatos. Através dessa agenda é possível incluir,\n",
    "remover, buscar e listar contatos já cadastrados.\n",
    "'''\n",
    "\n",
    "\n",
    "class Agenda:\n",
    "    def __init__(self):\n",
    "        self.contatos = {}\n",
    "\n",
    "    def adcionar_contato(self, nome, telefone, email):\n",
    "        self.contatos.update({nome:[telefone, email]})\n",
    "\n",
    "    def remover_contato(self, nome):\n",
    "        self.contatos.pop(nome)\n",
    "\n",
    "    def buscar_contato(self, nome):\n",
    "        if nome in self.contatos:\n",
    "            print(self.contatos[nome])\n",
    "        else:\n",
    "            print('contato inexistente')\n",
    "\n",
    "minha_agenda = Agenda()\n",
    "minha_agenda.adcionar_contato('gustavo', '84988054328', 'ghlouredo@gmail.com')\n",
    "minha_agenda.buscar_contato('gustavo')\n",
    "minha_agenda.remover_contato('gustavo')\n",
    "minha_agenda.buscar_contato('gustavo')"
   ]
  },
  {
   "cell_type": "code",
   "execution_count": 22,
   "id": "7affbd19",
   "metadata": {
    "ExecuteTime": {
     "end_time": "2021-07-17T16:14:36.553545Z",
     "start_time": "2021-07-17T16:14:36.545544Z"
    }
   },
   "outputs": [
    {
     "data": {
      "text/plain": [
       "['Carol', 18, 'ac']"
      ]
     },
     "execution_count": 22,
     "metadata": {},
     "output_type": "execute_result"
    }
   ],
   "source": [
    "# Exercício 8\n",
    "'''Crie uma classe Cliente cujos atributos são nome, idade e e-mail. Construa um método que imprima as informações tal\n",
    "como abaixo\n",
    "\n",
    "Nome: Fulano de Tal\n",
    "\n",
    "Idade: 40\n",
    "\n",
    "E-mail: fulano@mail.com'''\n",
    "\n",
    "class Cliente:\n",
    "    def __init__(self, nome, idade, email):\n",
    "        self.nome = nome\n",
    "        self.idade = idade\n",
    "        self.email = email\n",
    "        self.cliente = [self.nome, self.idade, self.email]\n",
    "\n",
    "    \n",
    "    def __repr__(self):\n",
    "        imprimir_cliente = f'Nome: {self.nome}\\n\\nIdade: {self.idade}\\n\\nE-mail: {self.email}'\n",
    "        return imprimir_cliente\n",
    "    \n",
    "cliente1 = Cliente('Carol', 18, 'ac')\n",
    "cliente1.cliente"
   ]
  },
  {
   "cell_type": "code",
   "execution_count": 37,
   "id": "56fdc270",
   "metadata": {
    "ExecuteTime": {
     "end_time": "2021-07-17T16:57:17.447463Z",
     "start_time": "2021-07-17T16:57:17.423458Z"
    }
   },
   "outputs": [
    {
     "name": "stdout",
     "output_type": "stream",
     "text": [
      "[['Carol1', 18, 'ac1'], ['Carol2', 19, 'ac2'], ['Carol3', 20, 'ac3'], ['Carol4', 21, 'ac4']]\n",
      "[['Gustavo', 26, 'gh'], ['Carol2', 19, 'ac2'], ['Carol3', 20, 'ac3'], ['Carol4', 21, 'ac4']]\n"
     ]
    }
   ],
   "source": [
    "# Exercício 9\n",
    "'''Com base no exercício anterior, crie um sistema de cadastro e a classe Cliente. Seu programa deve perguntar se o\n",
    "usuário quer cadastrar um novo cliente, alterar um cadastro ou sair.\n",
    "\n",
    "Dica: Você pode fazer esse exercício criando uma classe Sistema, que irá controlar o sistema de cadastros. Essa classe deve ter\n",
    "o atributo cadastro e os métodos para imprimir os cadastrados, cadastrar um novo cliente, alterar um cadastro ou sair.\n",
    "'''\n",
    "\n",
    "class Cliente:\n",
    "    def __init__(self, nome, idade, email):\n",
    "        self.nome = nome\n",
    "        self.idade = idade\n",
    "        self.email = email\n",
    "        self.cliente = [self.nome, self.idade, self.email]\n",
    "    \n",
    "    def __repr__(self):\n",
    "        imprimir_cliente = f'Nome: {self.nome}\\n\\nIdade: {self.idade}\\n\\nE-mail: {self.email}'\n",
    "        return imprimir_cliente\n",
    "\n",
    "class Sistema():\n",
    "    num_de_cadastros = 0\n",
    "    dict_de_cadastrados = {}\n",
    "    \n",
    "    def __init__(self):       \n",
    "        Sistema.num_de_cadastros\n",
    "        Sistema.dict_de_cadastrados\n",
    "        \n",
    "    def cadastrar(self, Cliente):\n",
    "        Sistema.num_de_cadastros += 1\n",
    "        Sistema.dict_de_cadastrados[Sistema.num_de_cadastros] = Cliente.cliente\n",
    "    \n",
    "    def listar_cadastros(self):\n",
    "        print(list(Sistema.dict_de_cadastrados.values()))\n",
    "        \n",
    "    def alterar_cadastro(self, ID, **dados):\n",
    "        nome = dados.get('nome', None)\n",
    "        idade = dados.get('idade', None)\n",
    "        email = dados.get('email', None)\n",
    "        if 'nome' in dados:\n",
    "            Sistema.dict_de_cadastrados[ID][0] = dados['nome']\n",
    "        if 'idade' in dados:\n",
    "            Sistema.dict_de_cadastrados[ID][1] = dados['idade']\n",
    "        if 'email' in dados:\n",
    "            Sistema.dict_de_cadastrados[ID][2] = dados['email']\n",
    "\n",
    "meu_sistema = Sistema()           \n",
    "cliente1 = Cliente('Carol1', 18, 'ac1')\n",
    "cliente2 = Cliente('Carol2', 19, 'ac2')\n",
    "cliente3 = Cliente('Carol3', 20, 'ac3')\n",
    "cliente4 = Cliente('Carol4', 21, 'ac4')\n",
    "\n",
    "meu_sistema.cadastrar(cliente1)\n",
    "meu_sistema.cadastrar(cliente2)\n",
    "meu_sistema.cadastrar(cliente3)\n",
    "meu_sistema.cadastrar(cliente4)\n",
    "\n",
    "meu_sistema.listar_cadastros()\n",
    "\n",
    "meu_sistema.alterar_cadastro(1, nome='Gustavo', idade=26, email='gh')\n",
    "meu_sistema.listar_cadastros()"
   ]
  },
  {
   "cell_type": "code",
   "execution_count": 12,
   "id": "d2f9482a",
   "metadata": {
    "ExecuteTime": {
     "end_time": "2021-07-14T21:26:14.878924Z",
     "start_time": "2021-07-14T21:26:14.856911Z"
    }
   },
   "outputs": [
    {
     "name": "stdout",
     "output_type": "stream",
     "text": [
      "1000\n",
      "1100\n",
      "800\n",
      "saldo insuficiente\n",
      "500\n",
      "600\n",
      "saldo insuficiente\n"
     ]
    }
   ],
   "source": [
    "# Exercício 10\n",
    "'''Crie uma classe ContaCorrente com os atributos cliente (que deve ser um objeto da classe Cliente) e saldo.\n",
    "Crie métodos para depósito, saque e transferência. Os métodos de saque e transferência devem verificar se é possível realizar\n",
    "a transação.\n",
    "'''\n",
    "\n",
    "class Conta_Corrente:\n",
    "    def __init__(self, cliente, saldo):\n",
    "        self.cliente = cliente\n",
    "        self.saldo = saldo\n",
    "    \n",
    "    def deposito(self, valor):\n",
    "        self.saldo += valor\n",
    "        \n",
    "    def saque(self, valor):\n",
    "        if valor <= self.saldo:\n",
    "            self.saldo -= valor\n",
    "        else:\n",
    "            print('saldo insuficiente')\n",
    "    \n",
    "    def transf(self, outro_cliente, valor):\n",
    "        if valor <= self.saldo:\n",
    "            self.saldo -= valor\n",
    "            outro_cliente.saldo += valor          \n",
    "        else:\n",
    "            print('saldo insuficiente')\n",
    "\n",
    "cliente1 = Conta_Corrente('eu', 1000)\n",
    "cliente2 = Conta_Corrente('tu', 300)\n",
    "\n",
    "print(cliente1.saldo)\n",
    "cliente1.deposito(100)\n",
    "print(cliente1.saldo)\n",
    "\n",
    "cliente1.saque(300)\n",
    "print(cliente1.saldo)\n",
    "cliente1.saque(1500)\n",
    "\n",
    "cliente1.transf(cliente2, 300)\n",
    "print(cliente1.saldo)\n",
    "print(cliente2.saldo)\n",
    "cliente1.transf(cliente2, 1300)"
   ]
  },
  {
   "cell_type": "code",
   "execution_count": 50,
   "id": "e35a1188",
   "metadata": {
    "ExecuteTime": {
     "end_time": "2021-07-14T23:05:29.405762Z",
     "start_time": "2021-07-14T23:05:29.385766Z"
    }
   },
   "outputs": [
    {
     "data": {
      "text/plain": [
       "1/2"
      ]
     },
     "execution_count": 50,
     "metadata": {},
     "output_type": "execute_result"
    }
   ],
   "source": [
    "# Exercício 11\n",
    "'''Crie uma classe Fração cujos atributos são numerador (número de cima) e denominador (número de baixo).\n",
    "\n",
    "Implemente os métodos de adição, subtração, multiplicação, divisão que retornam objetos do tipo Fração.\n",
    "\n",
    "Implemente também o método _ repr _.\n",
    "\n",
    "Implemente métodos para comparação: igualdade (==) e desigualdades (!=, <=, >=, < e >).\n",
    "'''\n",
    "\n",
    "class Fracao:\n",
    "    def __init__(self, numerador, denominador):\n",
    "        self.numerador = numerador\n",
    "        self.denominador = denominador\n",
    "        self.razao = self.numerador / self.denominador\n",
    "        \n",
    "    def __add__(self, outro):\n",
    "            self.razao += outro.razao\n",
    "            self.numerador = (self.razao.as_integer_ratio())[0]\n",
    "            self.denominador = (self.razao.as_integer_ratio())[1]\n",
    "            \n",
    "    def __sub__(self, outro):\n",
    "            self.razao -= outro.razao\n",
    "            self.numerador = (self.razao.as_integer_ratio())[0]\n",
    "            self.denominador = (self.razao.as_integer_ratio())[1]\n",
    "    \n",
    "    def __mul__(self, outro):\n",
    "            self.razao *= outro.razao\n",
    "            self.numerador = (self.razao.as_integer_ratio())[0]\n",
    "            self.denominador = (self.razao.as_integer_ratio())[1]  \n",
    "\n",
    "    def __truediv__(self, outro):\n",
    "            self.razao /= outro.razao\n",
    "            self.numerador = (self.razao.as_integer_ratio())[0]\n",
    "            self.denominador = (self.razao.as_integer_ratio())[1]       \n",
    "        \n",
    "    def __repr__(self):\n",
    "        reproducao = f'{self.numerador}/{self.denominador}'\n",
    "        return reproducao\n",
    "    \n",
    "#__eq__ já vem implementado    \n",
    "   \n",
    "    def __lt__(self, outro):\n",
    "        self.razao < outro.razao\n",
    "  \n",
    "    def __gt__(self, outro):\n",
    "        self.razao < outro.razao\n",
    "\n",
    "    def __le__(self, outro):\n",
    "        self.razao <= outro.razao\n",
    "        \n",
    "    def __ge__(self, outro):\n",
    "        self.razao < outro.razao        \n",
    "\n",
    "fracao1 = Fracao(4, 8)\n",
    "fracao2 = Fracao(3, 3)\n",
    "\n",
    "fracao1.__truediv__(fracao2)\n",
    "fracao1"
   ]
  },
  {
   "cell_type": "code",
   "execution_count": 59,
   "id": "a0d5caee",
   "metadata": {
    "ExecuteTime": {
     "end_time": "2021-07-14T23:08:46.092698Z",
     "start_time": "2021-07-14T23:08:46.076695Z"
    }
   },
   "outputs": [
    {
     "data": {
      "text/plain": [
       "False"
      ]
     },
     "execution_count": 59,
     "metadata": {},
     "output_type": "execute_result"
    }
   ],
   "source": [
    "# Exercício 12\n",
    "'''Crie uma classe Data cujos atributos são dia, mês e ano. Implemente métodos _ repr _ e para comparação:\n",
    "igualdade (==) e desigualdades (!=, <=, >=, < e >).\n",
    "'''\n",
    "\n",
    "class Data:\n",
    "    def __init__(self, dia, mes, ano):\n",
    "        self.dia = dia\n",
    "        self.mes = mes\n",
    "        self.ano = ano\n",
    "    \n",
    "    def __repr__(self):\n",
    "        reproducao = f'{self.dia:02d}/{self.mes:02d}/{self.ano}'\n",
    "        return reproducao\n",
    "    \n",
    "    def __lt__(self, outro):\n",
    "        if self.ano < outro.ano:\n",
    "            return True\n",
    "        elif self.mes < outro.mes:\n",
    "            return True\n",
    "        elif self.dia < outro.dia:\n",
    "            return True\n",
    "        else:\n",
    "            return False\n",
    "        \n",
    "    def __gt__(self, outro):\n",
    "        if self.ano > outro.ano:\n",
    "            return True\n",
    "        elif self.mes > outro.mes:\n",
    "            return True\n",
    "        elif self.dia > outro.dia:\n",
    "            return True\n",
    "        else:\n",
    "            return False\n",
    "        \n",
    "    def __le__(self, outro):\n",
    "        if self.ano <= outro.ano:\n",
    "            return True\n",
    "        elif self.mes <= outro.mes:\n",
    "            return True\n",
    "        elif self.dia <= outro.dia:\n",
    "            return True\n",
    "        else:\n",
    "            return False \n",
    "        \n",
    "    def __ge__(self, outro):\n",
    "        if self.ano >= outro.ano:\n",
    "            return True\n",
    "        elif self.mes >= outro.mes:\n",
    "            return True\n",
    "        elif self.dia >= outro.dia:\n",
    "            return True\n",
    "        else:\n",
    "            return False\n",
    "        \n",
    "\n",
    "data1 = Data(3, 7, 2021)\n",
    "data2 = Data(3, 7, 2021)\n",
    "data1.__gt__(data2)"
   ]
  },
  {
   "cell_type": "code",
   "execution_count": 21,
   "id": "8f5af69a",
   "metadata": {
    "ExecuteTime": {
     "end_time": "2021-07-15T00:29:30.006016Z",
     "start_time": "2021-07-15T00:29:29.965007Z"
    }
   },
   "outputs": [
    {
     "name": "stdout",
     "output_type": "stream",
     "text": [
      "Cor: amarelo, Área: None, Volume: None\n",
      "Área: 9\n",
      "Salários: {'janeiro': 17600, 'fevereiro': 17600, 'março': 19800, 'abril': 19360, 'junho': 19360, 'julho': 19360, 'agosto': 19250, 'setembro': 19360, 'outubro': 19800, 'novembro': 19360, 'dezembro': 0}\n",
      "Fabricante: LG, Modelo: ABC123, Canal: 1, Volume: 53\n"
     ]
    },
    {
     "data": {
      "text/plain": [
       "Se passaram 10 segundos"
      ]
     },
     "execution_count": 21,
     "metadata": {},
     "output_type": "execute_result"
    }
   ],
   "source": [
    "# Exercício 13\n",
    "'''Nos exercícios 1, 2, 3, 4 e 6, implemente o método _ repr _ para exibir as informações desejadas de cada uma das classes.\n",
    "'''\n",
    "#1)\n",
    "class bola:\n",
    "    def __init__(self, cor, raio):\n",
    "        self.cor = cor\n",
    "        self.raio = raio\n",
    "\n",
    "    def area(self):\n",
    "        area = 4 * 3.14 * self.raio ** 2\n",
    "\n",
    "    def volume(self):\n",
    "        volume = (4 * 3.14 * self.raio ** 3) / 3\n",
    "        \n",
    "    def __repr__(self):\n",
    "        reproducao = f'Cor: {self.cor}, Área: {self.area()}, Volume: {self.volume()}'\n",
    "        return reproducao\n",
    "        \n",
    "#2)        \n",
    "class retangulo:\n",
    "    def __init__(self, lado_a, lado_b):\n",
    "        self.lado_a = lado_a\n",
    "        self.lado_b = lado_b\n",
    "\n",
    "    def area(self):\n",
    "        area = self.lado_a * self.lado_b\n",
    "        return area\n",
    "\n",
    "    def __repr__(self):\n",
    "        reproducao = f'Área: {self.area()}'\n",
    "        return reproducao\n",
    "    \n",
    "#3)    \n",
    "class funcionario:\n",
    "    def __init__(self, nome, email):\n",
    "        self.nome = nome\n",
    "        self.email = email\n",
    "\n",
    "        # Dicionários preenchidos para teste do programa\n",
    "        self.bdh = {'janeiro': 880, 'fevereiro': 880, 'março': 900, 'abril': 880, 'junho': 880, 'julho': 880, 'agosto': 875,\n",
    "                    'setembro': 880, 'outubro': 900, 'novembro': 880, 'dezembro': 0}\n",
    "        self.sph = {'janeiro': 20, 'fevereiro': 20, 'março': 22, 'abril': 22, 'junho': 22, 'julho': 22, 'agosto': 22, 'setembro': 22,\n",
    "                    'outubro': 22, 'novembro': 22, 'dezembro': 22}\n",
    "\n",
    "        # Dicionários vazíos, para funcionários novos ou sem dados adicionados (como de fato o pgrama funcionaria):\n",
    "        '''self.bdh = {'janeiro':None, 'fevereiro':None, 'março':None, 'abril':None, 'junho':None, 'julho':None, 'agosto':None,\n",
    "                    'setembro':None, 'outubro':None, 'novembro':None, 'dezembro':None}\n",
    "        self.sph = {'janeiro':None, 'fevereiro':None, 'março':None, 'abril':None, 'junho':None, 'julho':None, 'agosto':None,\n",
    "                    'setembro':None, 'outubro':None, 'novembro':None, 'dezembro':None}'''\n",
    "\n",
    "    def banco_de_horas(self, mes, horas):\n",
    "        self.bdh[mes] = horas\n",
    "\n",
    "    def salario_por_hora(self, mes, valor):\n",
    "        self.sph[mes] = valor\n",
    "\n",
    "    def salario(self):\n",
    "        salario = {}\n",
    "\n",
    "        for mes in list(self.bdh.keys()):\n",
    "            salario[mes] = self.bdh[mes] * self.sph[mes]\n",
    "        return salario\n",
    "        \n",
    "    def __repr__(self):\n",
    "        reproducao = f'Salários: {self.salario()}'\n",
    "        return reproducao\n",
    "             \n",
    "#4)    \n",
    "class televisor:\n",
    "    def __init__(self, fabricante, modelo, canal, lista_canais, volume):\n",
    "        self.fabricante = fabricante\n",
    "        self.modelo = modelo\n",
    "        self.canal = canal\n",
    "        self.lista_canais = lista_canais\n",
    "        self.volume = volume\n",
    "\n",
    "    def aumentar_volume(self):\n",
    "        if self.volume < 100:\n",
    "            self.volume += 1\n",
    "            print('Volume:', self.volume)\n",
    "        else:\n",
    "            print('volume máximo')\n",
    "            \n",
    "    def diminuir_volume(self):\n",
    "        if self.volume < 100:\n",
    "            self.volume -= 1\n",
    "            print('Volume:', self.volume)\n",
    "        else:\n",
    "            print('volume máximo')\n",
    "\n",
    "    def mudar_canal(self, novo_canal):\n",
    "        if novo_canal in list(self.lista_canais.keys()):\n",
    "            self.canal = novo_canal\n",
    "            print('Canal:', self.lista_canais[self.canal])\n",
    "        else:\n",
    "            print('canal não existente na lista de canais')\n",
    "\n",
    "    def adicionar_canal(self, num_canal, nome_canal):\n",
    "        self.lista_canais.update({num_canal: nome_canal})\n",
    "        \n",
    "    def __repr__(self):\n",
    "        reproducao = f'Fabricante: {self.fabricante}, Modelo: {self.modelo}, Canal: {self.canal}, Volume: {self.volume}'\n",
    "        return reproducao\n",
    "    \n",
    "\n",
    "#6)\n",
    "import time                      \n",
    "class cronometro:\n",
    "    def __init__(self, tempo):\n",
    "        self.tempo = tempo\n",
    "        \n",
    "    def cronometrar(self):\n",
    "        time.sleep(self.tempo)\n",
    "    \n",
    "    def __repr__(self):\n",
    "        reproducao = f'Se passaram {self.tempo} segundos'\n",
    "        return reproducao       \n",
    "                      \n",
    "balao = bola('amarelo', 4)\n",
    "print(balao)\n",
    "                      \n",
    "quadrado = retangulo(3, 3)\n",
    "print(quadrado)\n",
    "                      \n",
    "gustavo = funcionario('gustavo', 'gh')\n",
    "print(gustavo)\n",
    "                      \n",
    "lista_canais_teste = {1: 'Fox', 2: 'HBO', 3: 'TNT', 4: 'Animal Planet'}\n",
    "minha_televisao = televisor('LG', 'ABC123', 1, lista_canais_teste, 53)                      \n",
    "print(minha_televisao)\n",
    "                      \n",
    "teste2 = cronometro(10)\n",
    "teste2"
   ]
  },
  {
   "cell_type": "code",
   "execution_count": 4,
   "id": "be085b21",
   "metadata": {
    "ExecuteTime": {
     "end_time": "2021-07-16T16:10:39.483687Z",
     "start_time": "2021-07-16T16:10:39.465673Z"
    }
   },
   "outputs": [
    {
     "data": {
      "text/plain": [
       "Área do quadrado: 16"
      ]
     },
     "execution_count": 4,
     "metadata": {},
     "output_type": "execute_result"
    }
   ],
   "source": [
    "# Exercício 14\n",
    "'''Crie uma classe Quadrado, filha da classe Retângulo do exercício 2.\n",
    "'''\n",
    "\n",
    "class retangulo:\n",
    "    def __init__(self, lado_a, lado_b):\n",
    "        self.lado_a = lado_a\n",
    "        self.lado_b = lado_b\n",
    "\n",
    "    def area(self):\n",
    "        area = self.lado_a * self.lado_b\n",
    "        return area\n",
    "\n",
    "class Quadrado(retangulo):\n",
    "    def __init__(self, lado_a, lado_b):\n",
    "        self.retangulo = retangulo\n",
    "        self.retangulo.lado_a = lado_a\n",
    "        self.retangulo.lado_b = lado_b\n",
    "        \n",
    "    def __repr__(self):\n",
    "        reproducao = f'Área do quadrado: {self.area()}'\n",
    "        return reproducao\n",
    "\n",
    "quadrado1 = Quadrado(4, 4)\n",
    "quadrado1"
   ]
  },
  {
   "cell_type": "code",
   "execution_count": 12,
   "id": "7a365d27",
   "metadata": {
    "ExecuteTime": {
     "end_time": "2021-07-16T16:25:57.879571Z",
     "start_time": "2021-07-16T16:25:57.867569Z"
    }
   },
   "outputs": [
    {
     "name": "stdout",
     "output_type": "stream",
     "text": [
      "1000\n",
      "1100\n",
      "800\n",
      "R$700 utilizados em cheque especial\n",
      "R$1000 utilizados em cheque especial\n",
      "-1000\n",
      "600\n",
      "R$2300 utilizados em cheque especial\n"
     ]
    }
   ],
   "source": [
    "# Exercício 15\n",
    "'''Faça uma classe ContaVip que difere da ContaCorrente por ter cheque especial (novo atributo) e é filha da classe\n",
    "ContaCorrente. Você precisa implementar os métodos para saque, transferência ou depósito?\n",
    "'''\n",
    "\n",
    "class Conta_Corrente:\n",
    "    def __init__(self, cliente, saldo):\n",
    "        self.cliente = cliente\n",
    "        self.saldo = saldo\n",
    "    \n",
    "    def deposito(self, valor):\n",
    "        self.saldo += valor\n",
    "        \n",
    "    def saque(self, valor):\n",
    "        if valor <= self.saldo:\n",
    "            self.saldo -= valor\n",
    "            \n",
    "        elif isinstance (self, ContaVip):\n",
    "            self.cheque_especial(valor)\n",
    "            \n",
    "        else:\n",
    "            print('saldo insuficiente')\n",
    "    \n",
    "    def transf(self, outro_cliente, valor):\n",
    "        if valor <= self.saldo:\n",
    "            self.saldo -= valor\n",
    "            outro_cliente.saldo += valor\n",
    "            \n",
    "        elif isinstance (self, ContaVip):\n",
    "            self.cheque_especial(valor)\n",
    "            outro_cliente.saldo += valor\n",
    "            \n",
    "        else:\n",
    "            print('saldo insuficiente')\n",
    "            \n",
    "class ContaVip(Conta_Corrente):\n",
    "    def cheque_especial(self, valor):\n",
    "        self.saldo -= valor\n",
    "        if self.saldo < 0:\n",
    "            print(f'R${abs(self.saldo)} utilizados em cheque especial')\n",
    "            \n",
    "cliente1 = Conta_Corrente('eu', 1000)\n",
    "cliente2 = Conta_Corrente('tu', 300)\n",
    "cliente3 = ContaVip('VIP', 1000)\n",
    "\n",
    "print(cliente3.saldo)\n",
    "cliente3.deposito(100)\n",
    "print(cliente3.saldo)\n",
    "\n",
    "cliente3.saque(300)\n",
    "print(cliente3.saldo)\n",
    "cliente3.saque(1500)\n",
    "\n",
    "cliente3.transf(cliente2, 300)\n",
    "print(cliente3.saldo)\n",
    "print(cliente2.saldo)\n",
    "cliente3.transf(cliente2, 1300)"
   ]
  }
 ],
 "metadata": {
  "kernelspec": {
   "display_name": "Python 3",
   "language": "python",
   "name": "python3"
  },
  "language_info": {
   "codemirror_mode": {
    "name": "ipython",
    "version": 3
   },
   "file_extension": ".py",
   "mimetype": "text/x-python",
   "name": "python",
   "nbconvert_exporter": "python",
   "pygments_lexer": "ipython3",
   "version": "3.8.8"
  },
  "varInspector": {
   "cols": {
    "lenName": 16,
    "lenType": 16,
    "lenVar": 40
   },
   "kernels_config": {
    "python": {
     "delete_cmd_postfix": "",
     "delete_cmd_prefix": "del ",
     "library": "var_list.py",
     "varRefreshCmd": "print(var_dic_list())"
    },
    "r": {
     "delete_cmd_postfix": ") ",
     "delete_cmd_prefix": "rm(",
     "library": "var_list.r",
     "varRefreshCmd": "cat(var_dic_list()) "
    }
   },
   "types_to_exclude": [
    "module",
    "function",
    "builtin_function_or_method",
    "instance",
    "_Feature"
   ],
   "window_display": false
  }
 },
 "nbformat": 4,
 "nbformat_minor": 5
}
