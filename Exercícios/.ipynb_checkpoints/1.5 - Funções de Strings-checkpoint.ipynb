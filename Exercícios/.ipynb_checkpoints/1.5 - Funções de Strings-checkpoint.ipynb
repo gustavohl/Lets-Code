{
 "cells": [
  {
   "cell_type": "code",
   "execution_count": 1,
   "metadata": {
    "ExecuteTime": {
     "end_time": "2021-06-17T23:59:07.204356Z",
     "start_time": "2021-06-17T23:59:04.195329Z"
    }
   },
   "outputs": [
    {
     "name": "stdout",
     "output_type": "stream",
     "text": [
      "Digite uma palavra: ola\n",
      "o\n",
      "l\n",
      "a\n"
     ]
    }
   ],
   "source": [
    "#Exercício 1\n",
    "'''Faça um programa que peça para o usuário digitar uma palavra e imprima cada letra em uma linha.\n",
    "'''\n",
    "\n",
    "palavra = input('Digite uma palavra: ')\n",
    "\n",
    "for i in palavra:\n",
    "    print(i)"
   ]
  },
  {
   "cell_type": "code",
   "execution_count": 5,
   "metadata": {
    "ExecuteTime": {
     "end_time": "2021-06-18T00:02:34.056236Z",
     "start_time": "2021-06-18T00:02:32.606962Z"
    }
   },
   "outputs": [
    {
     "name": "stdout",
     "output_type": "stream",
     "text": [
      "Digite uma palavra: ola\n",
      "ola\n"
     ]
    }
   ],
   "source": [
    "#Exercício 2\n",
    "'''Faça um programa que pede para o usuário digitar uma palavra e cria uma nova string igual,\n",
    "copiando letra por letra a palavra digitada, depois imprima a nova string.\n",
    "'''\n",
    "\n",
    "palavra = input('Digite uma palavra: ')\n",
    "palavra_nova = ''\n",
    "\n",
    "for i in palavra:\n",
    "    palavra_nova += i\n",
    "    \n",
    "print(palavra_nova)"
   ]
  },
  {
   "cell_type": "code",
   "execution_count": 10,
   "metadata": {
    "ExecuteTime": {
     "end_time": "2021-06-18T00:07:03.670403Z",
     "start_time": "2021-06-18T00:07:02.291452Z"
    }
   },
   "outputs": [
    {
     "name": "stdout",
     "output_type": "stream",
     "text": [
      "Digite uma palavra: latex\n",
      "LaTeX\n"
     ]
    }
   ],
   "source": [
    "#Exercício 3\n",
    "'''Altere o exercício anterior para que a string copiada alterne entre letras maiúsculas e minúsculas.\n",
    "\n",
    "Exemplo: se o usuário digitar \"latex\" o programa deve imprimir \"LaTeX\".\n",
    "'''\n",
    "\n",
    "palavra = input('Digite uma palavra: ')\n",
    "palavra_nova = ''\n",
    "contador = 0\n",
    "\n",
    "for i in palavra:\n",
    "    \n",
    "    if contador% 2 == 0 or contador == 0:\n",
    "        palavra_nova += i.upper()\n",
    "    else:\n",
    "        palavra_nova += i.lower()\n",
    "        \n",
    "    contador += 1\n",
    "    \n",
    "print(palavra_nova)"
   ]
  },
  {
   "cell_type": "code",
   "execution_count": 12,
   "metadata": {
    "ExecuteTime": {
     "end_time": "2021-06-18T00:09:37.261323Z",
     "start_time": "2021-06-18T00:09:34.756621Z"
    }
   },
   "outputs": [
    {
     "name": "stdout",
     "output_type": "stream",
     "text": [
      "Digite uma palavra: python\n",
      "p y t h o n\n"
     ]
    }
   ],
   "source": [
    "#Exercício 4\n",
    "'''Faça um programa que pede para o usuário digitar uma palavra e cria uma nova string igual, porém com espaço entre cada\n",
    "letra, depois imprima a nova string:\n",
    "\n",
    "Exemplo: se o usuário digitar \"python\" o programa deve imprimir \"p y t h o n \"\n",
    "'''\n",
    "\n",
    "palavra = input('Digite uma palavra: ')\n",
    "palavra_nova = ' '.join(palavra)\n",
    "\n",
    "print(palavra_nova)"
   ]
  },
  {
   "cell_type": "code",
   "execution_count": 24,
   "metadata": {
    "ExecuteTime": {
     "end_time": "2021-06-18T00:19:08.358179Z",
     "start_time": "2021-06-18T00:19:06.210147Z"
    }
   },
   "outputs": [
    {
     "name": "stdout",
     "output_type": "stream",
     "text": [
      "Digite uma palavra: abeIta\n",
      "abeIta\n",
      "4b3174\n"
     ]
    }
   ],
   "source": [
    "#Exercício 5\n",
    "'''Faça uma função que receba uma string e retorne uma nova string substituindo:\n",
    "\n",
    "'a' por '4'\n",
    "\n",
    "'e' por '3'\n",
    "\n",
    "'I' por '1'\n",
    "\n",
    "'t' por '7'\n",
    "'''\n",
    "\n",
    "\n",
    "ori = ['a', 'e', 'I', 't']\n",
    "sub = ['4', '3', '1', '7']\n",
    "palavra = input('Digite uma palavra: ')\n",
    "palavra_nova = palavra\n",
    "\n",
    "for i, j in zip(ori, sub):\n",
    "    palavra_nova = palavra_nova.replace(i , j)\n",
    "\n",
    "print(palavra)    \n",
    "print(palavra_nova)"
   ]
  },
  {
   "cell_type": "code",
   "execution_count": 33,
   "metadata": {
    "ExecuteTime": {
     "end_time": "2021-06-18T00:29:05.861979Z",
     "start_time": "2021-06-18T00:29:04.708127Z"
    }
   },
   "outputs": [
    {
     "name": "stdout",
     "output_type": "stream",
     "text": [
      "Digite uma palavra: ola\n",
      "alo\n"
     ]
    }
   ],
   "source": [
    "#Exercício 6\n",
    "'''Faça uma função que recebe uma string e retorna ela ao contrário.\n",
    "\n",
    "Exemplo: Recebe \"teste\" e retorna \"etset\".\n",
    "'''\n",
    "\n",
    "palavra = input('Digite uma palavra: ')\n",
    "palavra_nova = ''\n",
    "\n",
    "for i in range(len(palavra) - 1, -1, -1):\n",
    "    palavra_nova += palavra[i]\n",
    "    \n",
    "print(palavra_nova)    "
   ]
  },
  {
   "cell_type": "code",
   "execution_count": 36,
   "metadata": {
    "ExecuteTime": {
     "end_time": "2021-06-18T00:32:05.713193Z",
     "start_time": "2021-06-18T00:32:03.605691Z"
    }
   },
   "outputs": [
    {
     "name": "stdout",
     "output_type": "stream",
     "text": [
      "Digite uma palavra: ollo\n",
      "ollo\n",
      "\n",
      "A palavra é um palíndromo\n"
     ]
    }
   ],
   "source": [
    "#Exercício 7\n",
    "'''Agora faça uma função que recebe uma palavra e diz se ela é um palíndromo, ou seja, se ela é igual a ela mesma ao contrário.\n",
    "\n",
    "Dica: Use a função do exercício 6.\n",
    "'''\n",
    "\n",
    "palavra = input('Digite uma palavra: ')\n",
    "palavra_nova = ''\n",
    "\n",
    "for i in range(len(palavra) - 1, -1, -1):\n",
    "    palavra_nova += palavra[i]\n",
    "    \n",
    "print(palavra_nova)  \n",
    "\n",
    "if palavra == palavra_nova:\n",
    "    print('\\nA palavra é um palíndromo')\n",
    "    \n",
    "else:\n",
    "    print('\\nA palavra não é um palíndromo')"
   ]
  },
  {
   "cell_type": "code",
   "execution_count": 41,
   "metadata": {
    "ExecuteTime": {
     "end_time": "2021-06-18T00:44:26.478299Z",
     "start_time": "2021-06-18T00:44:24.057364Z"
    },
    "scrolled": true
   },
   "outputs": [
    {
     "name": "stdout",
     "output_type": "stream",
     "text": [
      "Digite uma palavra: ola\n",
      "Digite um texto: ola eu\n",
      "True\n"
     ]
    }
   ],
   "source": [
    "#Exercício 8\n",
    "'''Faça uma função que receba um texto e uma palavra, então verifique se a palavra está no texto, retornando True ou False.\n",
    "'''\n",
    "import pandas as pd\n",
    "palavra = input('Digite uma palavra: ')\n",
    "texto = input('Digite um texto: ')\n",
    "\n",
    "print(texto.find(palavra) > -1)"
   ]
  },
  {
   "cell_type": "code",
   "execution_count": 48,
   "metadata": {
    "ExecuteTime": {
     "end_time": "2021-06-18T01:11:25.008932Z",
     "start_time": "2021-06-18T01:11:22.073776Z"
    }
   },
   "outputs": [
    {
     "name": "stdout",
     "output_type": "stream",
     "text": [
      "Escreva algo: eu3 mais 4\n",
      "34\n",
      "eumais\n"
     ]
    }
   ],
   "source": [
    "#Exercício 9\n",
    "'''Faça uma função que receba uma string que contém tanto números quanto letras e caracteres especiais, e que separe as\n",
    "letras em uma variável e os números em outra (os caracteres especiais podem ser descartados). Ao final a função deve\n",
    "imprimiras duas variáveis.\n",
    "'''\n",
    "\n",
    "texto = input('Escreva algo: ')\n",
    "numeros = ''\n",
    "letras = ''\n",
    "\n",
    "for i in texto:\n",
    "    \n",
    "    if i.isdigit() == 1:\n",
    "        numeros += i\n",
    "        \n",
    "    elif i.isalpha() == 1:\n",
    "        letras += i\n",
    "    \n",
    "print(numeros)\n",
    "print(letras)\n",
    "        "
   ]
  },
  {
   "cell_type": "code",
   "execution_count": 53,
   "metadata": {
    "ExecuteTime": {
     "end_time": "2021-06-18T10:05:01.675193Z",
     "start_time": "2021-06-18T10:04:57.278517Z"
    },
    "scrolled": false
   },
   "outputs": [
    {
     "name": "stdout",
     "output_type": "stream",
     "text": [
      "Escreva algo: aleluia\n",
      "Digite a letra que quer buscar: a\n",
      "Posições: [0, 6]\n",
      "Quantidade de aparições: 2\n",
      "Distância entrea primeira e última aparição 6\n"
     ]
    }
   ],
   "source": [
    "#Exercício 10\n",
    "'''Desafio - Faça uma função que receba uma string e uma letra e:\n",
    "\n",
    "a. imprima quantas vezes a letra aparece na string;\n",
    "\n",
    "b. imprima todas as posições em que a letra aparece na string;\n",
    "\n",
    "c. retorne a distância entre a primeira e a última aparição dessa letra na string.\n",
    "'''\n",
    "\n",
    "texto = input('Escreva algo: ')\n",
    "letra = input('Digite a letra que quer buscar: ')\n",
    "contador = -1\n",
    "aparicoes = 0\n",
    "posicoes = []\n",
    "\n",
    "for i in texto:\n",
    "    contador += 1 \n",
    "    if i.find(letra) > -1:\n",
    "        posicoes.append(contador)\n",
    "        aparicoes +=1\n",
    "        \n",
    "print('Posições:', posicoes)\n",
    "print('Quantidade de aparições:', aparicoes)\n",
    "print('Distância entre a primeira e última aparição:', posicoes[-1] - posicoes[0])"
   ]
  },
  {
   "cell_type": "code",
   "execution_count": 56,
   "metadata": {
    "ExecuteTime": {
     "end_time": "2021-06-18T10:18:33.209505Z",
     "start_time": "2021-06-18T10:18:30.700359Z"
    }
   },
   "outputs": [
    {
     "name": "stdout",
     "output_type": "stream",
     "text": [
      "Escreva algo para ser substituído: abacate\n",
      "Texto modificado:\n",
      " zyzxzte\n"
     ]
    }
   ],
   "source": [
    "#Exercício 11\n",
    "'''Super Desafio! - faça uma função que criptografa uma mensagem substituindo cada letra pela letra oposta do dicionário:\n",
    "\n",
    "'a' por 'z'\n",
    "\n",
    "'b' por 'y'\n",
    "\n",
    "'c' por 'x'\n",
    "\n",
    "...\n",
    "'''\n",
    "\n",
    "ori = 'abc'\n",
    "new = 'zyx'\n",
    "\n",
    "texto = input('Escreva algo para ser substituído: ')\n",
    "\n",
    "tabela = texto.maketrans(ori, new)\n",
    "print('Texto modificado:\\n', texto.translate(tabela))"
   ]
  }
 ],
 "metadata": {
  "kernelspec": {
   "display_name": "Python 3",
   "language": "python",
   "name": "python3"
  },
  "language_info": {
   "codemirror_mode": {
    "name": "ipython",
    "version": 3
   },
   "file_extension": ".py",
   "mimetype": "text/x-python",
   "name": "python",
   "nbconvert_exporter": "python",
   "pygments_lexer": "ipython3",
   "version": "3.9.5"
  },
  "varInspector": {
   "cols": {
    "lenName": 16,
    "lenType": 16,
    "lenVar": 40
   },
   "kernels_config": {
    "python": {
     "delete_cmd_postfix": "",
     "delete_cmd_prefix": "del ",
     "library": "var_list.py",
     "varRefreshCmd": "print(var_dic_list())"
    },
    "r": {
     "delete_cmd_postfix": ") ",
     "delete_cmd_prefix": "rm(",
     "library": "var_list.r",
     "varRefreshCmd": "cat(var_dic_list()) "
    }
   },
   "types_to_exclude": [
    "module",
    "function",
    "builtin_function_or_method",
    "instance",
    "_Feature"
   ],
   "window_display": false
  }
 },
 "nbformat": 4,
 "nbformat_minor": 4
}
