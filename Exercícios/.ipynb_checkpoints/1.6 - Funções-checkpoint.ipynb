{
 "cells": [
  {
   "cell_type": "code",
   "execution_count": 1,
   "id": "24c94198",
   "metadata": {},
   "outputs": [
    {
     "name": "stdout",
     "output_type": "stream",
     "text": [
      "10\n"
     ]
    }
   ],
   "source": [
    "#Exercício 1\n",
    "'''Faça uma função que recebe um número e imprime seu dobro.\n",
    "'''\n",
    "\n",
    "def dobro(x):\n",
    "    double = 2 * x\n",
    "    return double\n",
    "\n",
    "print(dobro(5))"
   ]
  },
  {
   "cell_type": "code",
   "execution_count": 3,
   "id": "46673c3c",
   "metadata": {},
   "outputs": [
    {
     "name": "stdout",
     "output_type": "stream",
     "text": [
      "62.83185307179586\n"
     ]
    }
   ],
   "source": [
    "#Exercício 2\n",
    "'''Faça uma função que recebe o valor do raio de um círculo e retorna o valor do comprimento de sua circunferência:C = 2*pi*r.\n",
    "'''\n",
    "import math\n",
    "\n",
    "def circ(r):\n",
    "    circun = 2 * math.pi * r\n",
    "    return circun\n",
    "\n",
    "print(circ(10))"
   ]
  },
  {
   "cell_type": "code",
   "execution_count": 4,
   "id": "b0713ce8",
   "metadata": {},
   "outputs": [
    {
     "name": "stdout",
     "output_type": "stream",
     "text": [
      "5\n",
      "-1\n",
      "6\n",
      "0.6666666666666666\n"
     ]
    }
   ],
   "source": [
    "#Exercício 3\n",
    "'''Faça uma função para cada operação matemática básica (soma, subtração, multiplicação e divisão). \n",
    "As funções devem receber dois números e retornar o resultado da operação.\n",
    "'''\n",
    "\n",
    "def soma(a, b):\n",
    "    y = a + b\n",
    "    return y\n",
    "\n",
    "def sub(a, b):\n",
    "    y = a - b\n",
    "    return y\n",
    "\n",
    "def mult(a, b):\n",
    "    y = a * b\n",
    "    return y\n",
    "\n",
    "def div(a, b):\n",
    "    y = a / b\n",
    "    return y\n",
    "\n",
    "print(soma(2, 3))\n",
    "print(sub(2, 3))\n",
    "print(mult(2, 3))\n",
    "print(div(2, 3))"
   ]
  },
  {
   "cell_type": "code",
   "execution_count": 6,
   "id": "1934d857",
   "metadata": {},
   "outputs": [
    {
     "name": "stdout",
     "output_type": "stream",
     "text": [
      "olá, Gustavo\n"
     ]
    }
   ],
   "source": [
    "#Exercício 4\n",
    "''' Faça uma função que recebe um nome e imprime “olá, [nome]”.\n",
    "'''\n",
    "\n",
    "def ola(x):\n",
    "    return f'olá, {x}'\n",
    "\n",
    "print(ola('Gustavo'))"
   ]
  },
  {
   "cell_type": "code",
   "execution_count": 17,
   "id": "6dba930a",
   "metadata": {},
   "outputs": [
    {
     "name": "stdout",
     "output_type": "stream",
     "text": [
      "1230\n",
      "Boa Tarde, Gustavo\n"
     ]
    }
   ],
   "source": [
    "#Exercício 5\n",
    "'''Faça uma função que recebe um nome e um horário e imprime “Bom dia, [nome]”, caso seja antes de 12h, “Boa Tarde, [nome]”,\n",
    "caso seja entre 12h e 18h e “Boa noite, [nome]” se for após às 18h.\n",
    "'''\n",
    "import datetime\n",
    "\n",
    "#hora deve ser digitada como str no formato 'hh:mm' (Exp: '12:30')\n",
    "def ola(nome, hora):\n",
    "    hora = hora.replace(':', '')\n",
    "    hora = int(hora)\n",
    "    \n",
    "    if hora < 1200:        \n",
    "        return f'Bom dia, {nome}'\n",
    "    elif hora < 1800:\n",
    "        return f'Boa Tarde, {nome}'\n",
    "    elif hora < 2400:\n",
    "        return f'Boa noite, {nome}'\n",
    "    else:\n",
    "        return 'Hora inválida'\n",
    "    \n",
    "print(ola('Gustavo', '12:30'))"
   ]
  },
  {
   "cell_type": "code",
   "execution_count": 18,
   "id": "093ca0fd",
   "metadata": {},
   "outputs": [
    {
     "name": "stdout",
     "output_type": "stream",
     "text": [
      "True\n",
      "False\n"
     ]
    }
   ],
   "source": [
    "#Exercício 6\n",
    "'''Faça uma função que recebe um número e retorna True se ele é par ou False, se ele é ímpar.\n",
    "'''\n",
    "\n",
    "def teste_parimp(x):\n",
    "        return x % 2 == 0\n",
    "    \n",
    "print(teste_parimp(4))\n",
    "print(teste_parimp(3))"
   ]
  },
  {
   "cell_type": "code",
   "execution_count": 25,
   "id": "b0f7301d",
   "metadata": {},
   "outputs": [
    {
     "name": "stdout",
     "output_type": "stream",
     "text": [
      "[33, 26, 6, 67, 40, 49, 100, 76, 93, 17]\n",
      "100\n"
     ]
    }
   ],
   "source": [
    "#Exercício 7\n",
    "'''Faça uma função que sorteia 10 números aleatórios entre 0 e 100 e retorna o maior entre eles.\n",
    "'''\n",
    "import random\n",
    "\n",
    "def maxrandom():\n",
    "    lista = []\n",
    "    for i in range(10):\n",
    "        lista.append(random.randint(0, 100))\n",
    "    \n",
    "    print(lista) #apenas para conferir a resposta\n",
    "    return max(lista)\n",
    "\n",
    "print(maxrandom())"
   ]
  },
  {
   "cell_type": "code",
   "execution_count": 29,
   "id": "17356b21",
   "metadata": {},
   "outputs": [
    {
     "name": "stdout",
     "output_type": "stream",
     "text": [
      "[80, 20, 81, 10, 49, 40, 39, 30, 48, 48]\n",
      "44.5\n"
     ]
    }
   ],
   "source": [
    "#Exercício 8\n",
    "'''Faça uma função que recebe um número n de entrada, sorteia n números aleatórios entre 0 e 100 e retorna a média deles.\n",
    "'''\n",
    "\n",
    "import random\n",
    "import statistics as stcs\n",
    "\n",
    "def maxrandom(x):\n",
    "    lista = []\n",
    "    for i in range(x):\n",
    "        lista.append(random.randint(0, 100))\n",
    "    \n",
    "    print(lista) #apenas para conferir a resposta\n",
    "    return stcs.mean(lista)\n",
    "\n",
    "print(maxrandom(10))"
   ]
  },
  {
   "cell_type": "code",
   "execution_count": 39,
   "id": "efa64ebe",
   "metadata": {},
   "outputs": [
    {
     "name": "stdout",
     "output_type": "stream",
     "text": [
      "['OLA', 'VOCÊS', '2', 'TUDO', 'BEM', '?']\n"
     ]
    }
   ],
   "source": [
    "#Exercício 9\n",
    "'''Faça uma função que recebe uma lista de palavras e retorna uma lista contendo as mesmas palavras da lista anterior,\n",
    "porém escritas em caixa alta.\n",
    "'''\n",
    "\n",
    "def caixalta(lista):\n",
    "    for i in range(len(lista)):\n",
    "        lista[i] = lista[i].upper()\n",
    "    \n",
    "    return lista\n",
    "\n",
    "lista = ['ola', 'vocês', '2', 'tudo', 'bem', '?']\n",
    "print(caixalta(lista))"
   ]
  },
  {
   "cell_type": "code",
   "execution_count": 40,
   "id": "05178e76",
   "metadata": {},
   "outputs": [
    {
     "name": "stdout",
     "output_type": "stream",
     "text": [
      "[3, 7, 11, 15, 19]\n"
     ]
    }
   ],
   "source": [
    "#Exercício 10\n",
    "'''Faça uma função que recebe duas listas e retorna a soma item a item dessas listas.\n",
    "\n",
    "Exemplo: Se a função receber as listas [1,4,3] e [3,5,1], então a função deve retornar [1+3, 4+5, 3+1] = [4, 9, 4].\n",
    "'''\n",
    "\n",
    "def somalista(a, b):\n",
    "    lista_soma = []\n",
    "    for i, j in zip(lista1, lista2):\n",
    "        lista_soma.append(i + j)\n",
    "\n",
    "    return lista_soma\n",
    "\n",
    "lista1 = [1, 3, 5, 7, 9]\n",
    "lista2 = [2, 4, 6, 8, 10]        \n",
    "print(somalista(lista1, lista2))"
   ]
  },
  {
   "cell_type": "code",
   "execution_count": 41,
   "id": "03a848cb",
   "metadata": {},
   "outputs": [
    {
     "name": "stdout",
     "output_type": "stream",
     "text": [
      "[2, 12, 30, 56, 90]\n"
     ]
    }
   ],
   "source": [
    "#Exercício 11\n",
    "'''Faça uma função que receba duas listas e retorne o produto item a item dessas listas.\n",
    "\n",
    "Exemplo: Se a função receber as listas [1,4,3] e [3,5,1], então a função deve retornar [1x3, 4x5, 3x1] = [3, 20, 3].\n",
    "'''\n",
    "\n",
    "def prodlista(a, b):\n",
    "    lista_prod = []\n",
    "    for i, j in zip(lista1, lista2):\n",
    "        lista_prod.append(i * j)\n",
    "\n",
    "    return lista_prod\n",
    "\n",
    "lista1 = [1, 3, 5, 7, 9]\n",
    "lista2 = [2, 4, 6, 8, 10]        \n",
    "print(prodlista(lista1, lista2))"
   ]
  },
  {
   "cell_type": "code",
   "execution_count": 44,
   "id": "55e2b3f0",
   "metadata": {},
   "outputs": [
    {
     "name": "stdout",
     "output_type": "stream",
     "text": [
      "[4, 12, 20, 28, 36]\n"
     ]
    }
   ],
   "source": [
    "#Exercício 12\n",
    "'''Faça uma função que recebe um número x e uma lista numérica e retorna uma lista cujos elementos são os itens da lista\n",
    "de entrada multiplicado por x.\n",
    "\n",
    "Exemplo:\n",
    "\n",
    "Se a função receber o número 5 e a lista [3,5,1], então a função deve retornar [5x3, 5x5, 5x1] = [15, 25, 5].\n",
    "'''\n",
    "\n",
    "def multiplicarlista(x, lista):\n",
    "    lista_mult = []\n",
    "    for i in lista1:\n",
    "        lista_mult.append(i * x)\n",
    "\n",
    "    return lista_mult\n",
    "\n",
    "multiplicador = 4\n",
    "lista1 = [1, 3, 5, 7, 9]       \n",
    "print(multiplicarlista(multiplicador, lista1))"
   ]
  },
  {
   "cell_type": "code",
   "execution_count": 47,
   "id": "1f790e29",
   "metadata": {},
   "outputs": [
    {
     "name": "stdout",
     "output_type": "stream",
     "text": [
      "25\n"
     ]
    }
   ],
   "source": [
    "#Exercício 13\n",
    "'''Faça uma função que recebe uma lista de números e retorna a soma dos elementos dessa lista.\n",
    "'''\n",
    "\n",
    "def somadalista(lista):\n",
    "    soma = sum(lista1)\n",
    "    \n",
    "    return soma\n",
    "\n",
    "lista1 = [1, 3, 5, 7, 9] \n",
    "print(somadalista(lista))"
   ]
  },
  {
   "cell_type": "code",
   "execution_count": 48,
   "id": "b33efd69",
   "metadata": {},
   "outputs": [
    {
     "name": "stdout",
     "output_type": "stream",
     "text": [
      "5\n"
     ]
    }
   ],
   "source": [
    "#Exercício 14\n",
    "'''Faça uma função que recebe uma lista de números e retorna a média aritmética dos elementos dessa lista.\n",
    "'''\n",
    "import statistics as stcs\n",
    "\n",
    "def mediadalista(lista):\n",
    "    media = stcs.mean(lista1)\n",
    "    \n",
    "    return media\n",
    "\n",
    "lista1 = [1, 3, 5, 7, 9] \n",
    "print(mediadalista(lista))"
   ]
  },
  {
   "cell_type": "code",
   "execution_count": 50,
   "id": "fea86839",
   "metadata": {},
   "outputs": [
    {
     "name": "stdout",
     "output_type": "stream",
     "text": [
      "24\n"
     ]
    }
   ],
   "source": [
    "#Exercício 15\n",
    "'''Desafio 1 - Faça uma função que receba um número e calcule seu fatorial.\n",
    "'''\n",
    "\n",
    "import math\n",
    "\n",
    "def fatorial(x):\n",
    "    y = math.factorial(x)\n",
    "    \n",
    "    return y\n",
    "\n",
    "print(fatorial(4))"
   ]
  },
  {
   "cell_type": "code",
   "execution_count": 59,
   "id": "f159535d",
   "metadata": {},
   "outputs": [
    {
     "name": "stdout",
     "output_type": "stream",
     "text": [
      "2 2\n",
      "3 6\n",
      "4 24\n",
      "5 120\n",
      "120\n"
     ]
    }
   ],
   "source": [
    "#Exercício 16\n",
    "'''Super Desafio! - Repita o exercício anterior usando recursão, ou seja, uma função que chame ela mesma, lembrando que\n",
    "3! = 3*2!, que 2! = 2*1!, que 1! = 1*0! e que 0! = 1.\n",
    "'''\n",
    "\n",
    "def fatorial_rec(x):\n",
    "    if (x - 1) == 0:\n",
    "        return 1\n",
    "\n",
    "    else:\n",
    "        fatorial = x * fatorial_rec(x - 1)\n",
    "        return fatorial\n",
    "    \n",
    "print(fatorial_rec(5))"
   ]
  },
  {
   "cell_type": "code",
   "execution_count": 68,
   "id": "a04d2497",
   "metadata": {},
   "outputs": [
    {
     "name": "stdout",
     "output_type": "stream",
     "text": [
      "8\n"
     ]
    }
   ],
   "source": [
    "#Exercício 17\n",
    "'''Desafio 3 - A sequência Fibonacci é a sequência cujos dois primeiros termos são 1 e os demais são obtidos através da soma\n",
    "de seus dois antecessores, isso é:\n",
    "\n",
    "a. Fibonacci(1) = 1 e Fibonacci(2) = 2;\n",
    "\n",
    "b. dado qualquer número n >= 3, Fibonacci(n) = Fibonacci(n-1) + Fibonacci(n-2)\n",
    "\n",
    "Assim, os 10 primeiros termos da sequência Fibonacci são:\n",
    "\n",
    "1, 1, 2, 3, 5, 8, 13, 21, 34, 55…\n",
    "Faça uma função que receba um número n e calcule o termo de número n da sequência Fibonacci.\n",
    "'''\n",
    "\n",
    "def fibonacci(x):\n",
    "    if x <= 1:\n",
    "        return 1\n",
    "    \n",
    "    elif x == 2:\n",
    "        return 2\n",
    "\n",
    "    else:\n",
    "        fib = fibonacci(x - 1) + fibonacci(x - 2)\n",
    "        return fib\n",
    "    \n",
    "print(fibonacci(5))"
   ]
  },
  {
   "cell_type": "code",
   "execution_count": 81,
   "id": "9205fdfe",
   "metadata": {},
   "outputs": [
    {
     "name": "stdout",
     "output_type": "stream",
     "text": [
      "Informações válidas\n"
     ]
    }
   ],
   "source": [
    "#Exercício 18\n",
    "'''Desafio 2 - Faça uma função que recebe duas entradas: um input dado pelo usuário e um string que informa o tipo de dado\n",
    "(\"idade\", \"salário\" ou \"sexo\"), e verifica se os dados digitados foram válidos, usando os seguintes critérios:\n",
    "\n",
    "a. Idade: entre 0 e 150;\n",
    "\n",
    "b. Salário: maior que 0;\n",
    "\n",
    "c. Sexo: M, F ou Outro.\n",
    "'''\n",
    "\n",
    "def infoteste(dado, tipo_dado):\n",
    "    tipos = 'idade', 'salário', 'sexo'\n",
    "    teste = 0\n",
    "    \n",
    "    try: tipos.index(tipo_dado)                                    \n",
    "    except: print('Tipo de dado incorreto, por favor digite: idade, salário ou sexo.')  \n",
    "        \n",
    "    if tipo_dado == 'idade' and (dado <= 0 or dado >= 150):\n",
    "            print('Valor de idade incorreto, por favor digite um número entre 0 e 150 anos')\n",
    "            teste = 1\n",
    "            \n",
    "    elif tipo_dado == 'salário' and dado < 0:\n",
    "            print('Valor de salário incorreto, por favor digite um número entre 0 e 150 anos')\n",
    "            teste = 1\n",
    "            \n",
    "    elif tipo_dado == 'sexo' and (dado != ('M' or 'F' or 'Outro')):\n",
    "            print('Sexo inválido, por favor digite M para masculino, F para feminino ou Outro para demais opções')\n",
    "            teste = 1\n",
    "    \n",
    "    if teste == 0: print('Informações válidas')\n",
    "    \n",
    "infoteste(10, 'idade')"
   ]
  },
  {
   "cell_type": "code",
   "execution_count": null,
   "id": "fdf48c46",
   "metadata": {},
   "outputs": [],
   "source": [
    "#Exercício 19\n",
    "'''Super Desafio! - Refaça o desafio 3 usando recursão.\n",
    "'''\n",
    "# O desafio 3 já havia sido feito com recursão.\n",
    "\n",
    "def fibonacci(x):\n",
    "    if x <= 1:\n",
    "        return 1\n",
    "    \n",
    "    elif x == 2:\n",
    "        return 2\n",
    "\n",
    "    else:\n",
    "        fib = fibonacci(x - 1) + fibonacci(x - 2)\n",
    "        return fib\n",
    "    \n",
    "print(fibonacci(5))"
   ]
  },
  {
   "cell_type": "code",
   "execution_count": 52,
   "id": "597341f7",
   "metadata": {},
   "outputs": [
    {
     "name": "stdout",
     "output_type": "stream",
     "text": [
      "Digite o número de participantes.3\n",
      "Digite o nome dos participantes.a\n",
      "Digite o nome dos participantes.b\n",
      "Digite o nome dos participantes.c\n",
      "{'a': [0, 'Ativo'], 'b': [0, 'Ativo'], 'c': [0, 'Ativo']}\n",
      "Qual o jogador irá jogar?a\n",
      "Escolha uma ação: comprar ou desistir.\n",
      "comprar\n",
      "Carta comprada: 10 de espadas\n",
      "entro no valete\n",
      "{'a': [10, 'Ativo'], 'b': [0, 'Ativo'], 'c': [0, 'Ativo']}\n",
      "Qual o jogador irá jogar?a\n",
      "Escolha uma ação: comprar ou desistir.\n",
      "comprar\n",
      "Carta comprada: 5 de ouro\n",
      "entro no numero\n",
      "{'a': [15, 'Ativo'], 'b': [0, 'Ativo'], 'c': [0, 'Ativo']}\n",
      "Qual o jogador irá jogar?a\n",
      "Escolha uma ação: comprar ou desistir.\n",
      "comprar\n",
      "Carta comprada: 6 de paus\n",
      "entro no numero\n",
      "{'a': [21, 'Ativo'], 'b': [0, 'Ativo'], 'c': [0, 'Ativo']}\n",
      "Qual o jogador irá jogar?a\n",
      "Escolha uma ação: comprar ou desistir.\n",
      "desistir\n",
      "{'a': [21, 'Inativo'], 'b': [0, 'Ativo'], 'c': [0, 'Ativo']}\n",
      "Qual o jogador irá jogar?b\n",
      "Escolha uma ação: comprar ou desistir.\n",
      "comprar\n",
      "Carta comprada: 2 de espadas\n",
      "entro no numero\n",
      "{'a': [21, 'Inativo'], 'b': [2, 'Ativo'], 'c': [0, 'Ativo']}\n",
      "Qual o jogador irá jogar?b\n",
      "Escolha uma ação: comprar ou desistir.\n",
      "comprar\n",
      "Carta comprada: 1 de ouro\n",
      "entro no numero\n",
      "{'a': [21, 'Inativo'], 'b': [3, 'Ativo'], 'c': [0, 'Ativo']}\n",
      "Qual o jogador irá jogar?b\n",
      "Escolha uma ação: comprar ou desistir.\n",
      "comprar\n",
      "Carta comprada: 7 de espadas\n",
      "entro no numero\n",
      "{'a': [21, 'Inativo'], 'b': [10, 'Ativo'], 'c': [0, 'Ativo']}\n",
      "Qual o jogador irá jogar?b\n",
      "Escolha uma ação: comprar ou desistir.\n",
      "comprar\n",
      "Carta comprada: 8 de paus\n",
      "entro no numero\n",
      "{'a': [21, 'Inativo'], 'b': [18, 'Ativo'], 'c': [0, 'Ativo']}\n",
      "Qual o jogador irá jogar?b\n",
      "Escolha uma ação: comprar ou desistir.\n",
      "comprar\n",
      "Carta comprada: Rei de paus\n",
      "entro no valete\n",
      "{'a': [21, 'Inativo'], 'b': [28, 'Inativo'], 'c': [0, 'Ativo']}\n",
      "Qual o jogador irá jogar?c\n",
      "Escolha uma ação: comprar ou desistir.\n",
      "comprar\n",
      "Carta comprada: 8 de copas\n",
      "entro no numero\n",
      "{'a': [21, 'Inativo'], 'b': [28, 'Inativo'], 'c': [8, 'Ativo']}\n",
      "Qual o jogador irá jogar?c\n",
      "Escolha uma ação: comprar ou desistir.\n",
      "comprar\n",
      "Carta comprada: 3 de copas\n",
      "entro no numero\n",
      "{'a': [21, 'Inativo'], 'b': [28, 'Inativo'], 'c': [11, 'Ativo']}\n",
      "Qual o jogador irá jogar?c\n",
      "Escolha uma ação: comprar ou desistir.\n",
      "comprar\n",
      "Carta comprada: 3 de paus\n",
      "entro no numero\n",
      "{'a': [21, 'Inativo'], 'b': [28, 'Inativo'], 'c': [14, 'Ativo']}\n",
      "Qual o jogador irá jogar?c\n",
      "Escolha uma ação: comprar ou desistir.\n",
      "comprar\n",
      "Carta comprada: Ás de ouro\n",
      "{'a': [21, 'Inativo'], 'b': [28, 'Inativo'], 'c': [15, 'Ativo']}\n",
      "Qual o jogador irá jogar?c\n",
      "Escolha uma ação: comprar ou desistir.\n",
      "comprar\n",
      "Carta comprada: 2 de paus\n",
      "entro no numero\n",
      "{'a': [21, 'Inativo'], 'b': [28, 'Inativo'], 'c': [17, 'Ativo']}\n",
      "Qual o jogador irá jogar?c\n",
      "Escolha uma ação: comprar ou desistir.\n",
      "comprar\n",
      "Carta comprada: 5 de paus\n",
      "entro no numero\n",
      "A maior pontuação foi:\n",
      "21\n",
      "Vitoriosos:\n",
      "['a']\n"
     ]
    }
   ],
   "source": [
    "#Exercício 20\n",
    "'''Super Desafio! - Faça um jogo de BlackJack usando funções: o BlackJack, ou Vinte e Um, é um jogo em que os jogadores podem\n",
    "comprar cartas livremente, enquanto tiverem menos de 21 pontos. No nosso jogo, o Ás vale um ponto; as cartas de 2 a 10 valem\n",
    "o número de pontos que elas representam; e Valete, Dama e Rei valem 10 pontos cada. Ganha o jogador que tiver o maior número\n",
    "de pontos, desde que este seja menor ou igual a 21. Nosso jogo deve ter as seguintes funções:\n",
    "\n",
    "a. Função principal: a função que vamos chamar para iniciar o jogo. Essa função não irá receber nem retornar nenhuma variável.\n",
    "Ela deve perguntar o número de jogadores participantes e o nome de cada um. Em seguida ela chama as outras funções do jogo.\n",
    "\n",
    "b. Função para criar o baralho: essa função deve criar um baralho (uma lista) com as cartas do baralho.\n",
    "\n",
    "c. Função para a jogada: essa função deve receber o nome do jogador que irá realizar a jogada e, caso ele ainda esteja ativo\n",
    "(tenha menos de 21 pontos e ainda não tenha desistido de comprar cartas) deve perguntar se ele quer comprar uma carta.\n",
    "Se ele responder que sim, a função deve chamar a próxima função para sortear uma carta e somar o valor retornado na pontuação\n",
    "do jogador; se ele responder que não, a função deve desativar o jogador para que ele não possa mais comprar cartas;\n",
    "Essa função só deve ser chamada enquanto houver jogadores ativos.\n",
    "\n",
    "d. Função para o sorteio: essa função retira uma carta aleatória do baralho e retorna o número de pontos que essa carta vale.\n",
    "\n",
    "e. Função verificação: verifica e indica qual/quais jogador/jogadores tem o maior número de pontos, que seja menor ou igual a 21.\n",
    "'''\n",
    "import random\n",
    "#Função A\n",
    "def blackjack():\n",
    "    participantes = {}\n",
    "    estados = []\n",
    "    scores = []\n",
    "    numero_participantes = int(input('Digite o número de participantes.')) \n",
    "    \n",
    "    for i in range(numero_participantes):\n",
    "        participantes[input('Digite o nome dos participantes.')] = [0, 'Ativo']\n",
    "        estados.append('Ativo')\n",
    "        scores.append(0)\n",
    "#Função B    \n",
    "    def criar_baralho():\n",
    "        baralho = []\n",
    "        naipes = ['ouro', 'paus', 'espadas', 'copas']\n",
    "        \n",
    "        for naipe in naipes:\n",
    "            baralho.append(f'Ás de {naipe}')\n",
    "            \n",
    "            for numero in range(1, 11):\n",
    "                baralho.append(f'{numero} de {naipe}')\n",
    "            \n",
    "            baralho.append(f'Valete de {naipe}')\n",
    "            baralho.append(f'Dama de {naipe}')\n",
    "            baralho.append(f'Rei de {naipe}')\n",
    "        \n",
    "        return baralho\n",
    "    \n",
    "#Criando o baralho    \n",
    "    baralho = criar_baralho() \n",
    "    \n",
    "#Função D\n",
    "    def comprar():     \n",
    "                carta = random.choice(baralho)\n",
    "                print('Carta comprada:', carta)\n",
    "                baralho.remove(carta)\n",
    "                \n",
    "                if 'Ás' in carta:\n",
    "                    return 1\n",
    "                elif 'Valete' in carta or 'Dama' in carta or 'Rei' in carta or '10' in carta:\n",
    "                    return 10\n",
    "                else:\n",
    "                    return int(carta[0])  \n",
    "                \n",
    "#Função C    \n",
    "    def jogar(jogador):\n",
    "        if participantes[jogador][1] == 'Ativo':\n",
    "            acao = input('Escolha uma ação: comprar ou desistir.\\n')\n",
    "            \n",
    "            if acao == 'comprar':\n",
    "                participantes[jogador][0] += comprar()\n",
    "                \n",
    "                if participantes[jogador][0] > 21:\n",
    "                    participantes[jogador][1] = \"Inativo\"\n",
    "                    \n",
    "            elif acao == 'desistir':\n",
    "                participantes[jogador][1] = \"Inativo\"\n",
    "        \n",
    "        elif participantes[jogador][1] != 'Ativo':\n",
    "            print('Jogador fora do jogo')  \n",
    "            \n",
    "#Loop para manter o jogo funcionando\n",
    "    while any(status == 'Ativo' for status in estados):\n",
    "        print(participantes)\n",
    "        jogar(input('Qual o jogador irá jogar?'))\n",
    "        for i in range(0, numero_participantes):\n",
    "            estados[i] = participantes[list(participantes.keys())[i]][1]\n",
    "            scores[i] = participantes[list(participantes.keys())[i]][0]\n",
    "                        \n",
    "            \n",
    "#Função E                    \n",
    "    def verifica():\n",
    "        pontuacao_valida = []        \n",
    "        for score in scores:\n",
    "            if score <= 21:\n",
    "                pontuacao_valida.append(score)\n",
    "                \n",
    "        maior_pontuacao = max(pontuacao_valida)       \n",
    "        lista_melhores_jogadores = []\n",
    "        lista_do_dicionario = participantes.items()\n",
    "        \n",
    "        for item in lista_do_dicionario:\n",
    "            if item[1][0] <= maior_pontuacao:\n",
    "                lista_melhores_jogadores.append(item[0])\n",
    "        \n",
    "        print(f'A maior pontuação foi:\\n{maior_pontuacao}\\nVitoriosos:\\n{lista_melhores_jogadores}')\n",
    "\n",
    "#Verificar o vencedor:\n",
    "    verifica()\n",
    "    \n",
    "blackjack()"
   ]
  },
  {
   "cell_type": "code",
   "execution_count": 61,
   "id": "0476f222",
   "metadata": {},
   "outputs": [
    {
     "name": "stdout",
     "output_type": "stream",
     "text": [
      "Para cadastrar um cliente digite 1, para buscar um cliente pelo CPF digite 2, para ver todos os clintes cadastrados digite 3. 1\n",
      "Qual o nome do cliente? a\n",
      "Qual o CPF do cliente (somente numeros)? 1\n",
      "Qual o email do cliente? a@\n",
      "Para cadastrar um cliente digite 1, para buscar um cliente pelo CPF digite 2, para ver todos os clintes cadastrados digite 3. 1\n",
      "Qual o nome do cliente? b\n",
      "Qual o CPF do cliente (somente numeros)? 2\n",
      "Qual o email do cliente? b@\n",
      "Para cadastrar um cliente digite 1, para buscar um cliente pelo CPF digite 2, para ver todos os clintes cadastrados digite 3. 3\n",
      "['a', '1', 'a@']\n",
      "['b', '2', 'b@']\n",
      "Para cadastrar um cliente digite 1, para buscar um cliente pelo CPF digite 2, para ver todos os clintes cadastrados digite 3. 2\n",
      "Qual o CPF do cliente que deseja buscar? 2\n",
      "['b', '2', 'b@']\n",
      "Para cadastrar um cliente digite 1, para buscar um cliente pelo CPF digite 2, para ver todos os clintes cadastrados digite 3. 2\n",
      "Qual o CPF do cliente que deseja buscar? 1\n",
      "['a', '1', 'a@']\n",
      "Para cadastrar um cliente digite 1, para buscar um cliente pelo CPF digite 2, para ver todos os clintes cadastrados digite 3. 0\n"
     ]
    }
   ],
   "source": [
    "#Exercício 21\n",
    "'''Super desafio! Faça um sistema de cadastro de clientes. Modele cada cliente como uma lista de três elementos: nome,\n",
    "CPF e e-mail.\n",
    "\n",
    "a. Faça uma função que peça o nome, o CPF e o e-mail da pessoa e retorne uma lista contendo esses elementos nessa ordem.\n",
    "\n",
    "b. Os clientes cadastrados devem ser armazenados em uma lista (uma lista de listas, já que cada cliente será uma lista tal\n",
    "como produzido no item a).\n",
    "\n",
    "c. Faça uma função que recebe a lista do item b) e um CPF e, se esse cliente estiver na lista de cadastro, sua função deve\n",
    "devolver a lista de dados desse cliente; caso contrário, sua função deve imprimir “não encontrado”.\n",
    "\n",
    "d. Enquanto não for digitado 0, o seu programa deve continuar rodando. Se digitado 1, seu programa deve cadastrar um novo\n",
    "cliente; se digitado 2, seu programa deve pedir um CPF e procurá-lo na lista de clientes (item c); se digitado 3, seu programa\n",
    "deve imprimir todos os clientes cadastrados.\n",
    "'''\n",
    "\n",
    "def database_clientes():\n",
    "    lista_clientes = []\n",
    "#Condição do item D:\n",
    "    status = 4\n",
    "    while status != 0:\n",
    "        status = int(input('Para cadastrar um cliente digite 1, para buscar um cliente pelo CPF digite 2, para ver todos os clintes cadastrados digite 3. '))\n",
    "#Função do item A:\n",
    "        def cadastro():\n",
    "            nome = input('Qual o nome do cliente? ')\n",
    "            cpf = input('Qual o CPF do cliente (somente numeros)? ')\n",
    "            email = input('Qual o email do cliente? ')\n",
    "            cliente = [nome, cpf, email]\n",
    "            return cliente\n",
    "    \n",
    "        if status == 1:\n",
    "            lista_clientes.append(cadastro())\n",
    "            status = 4\n",
    "        \n",
    "#Função do item C:\n",
    "        def busca(cpf):\n",
    "            for cliente in lista_clientes:\n",
    "                if cpf == cliente[1]:\n",
    "                    return cliente\n",
    "                \n",
    "                elif cliente == lista_clientes[-1]:\n",
    "                    return 'Cliente não encontrado'\n",
    "            \n",
    "        if status == 2:\n",
    "            resultado = busca(input('Qual o CPF do cliente que deseja buscar? '))\n",
    "            print(resultado)\n",
    "            status = 4\n",
    "        \n",
    "        if status == 3:\n",
    "            for cliente in lista_clientes:\n",
    "                print(cliente)\n",
    "            status = 4\n",
    "\n",
    "database_clientes()"
   ]
  },
  {
   "cell_type": "code",
   "execution_count": null,
   "id": "29f0344c",
   "metadata": {},
   "outputs": [],
   "source": []
  }
 ],
 "metadata": {
  "kernelspec": {
   "display_name": "Python 3",
   "language": "python",
   "name": "python3"
  }
 },
 "nbformat": 4,
 "nbformat_minor": 5
}
