{
 "cells": [
  {
   "cell_type": "code",
   "execution_count": 4,
   "id": "a596e65b",
   "metadata": {
    "ExecuteTime": {
     "end_time": "2021-07-16T22:45:24.337362Z",
     "start_time": "2021-07-16T22:45:24.323359Z"
    }
   },
   "outputs": [
    {
     "name": "stdout",
     "output_type": "stream",
     "text": [
      "Nome: Gustavo\n",
      "Idade: 26 anos\n",
      "Altura: 1.9 metros\n",
      "Peso: 86 kg\n",
      "Sexo: masculino\n"
     ]
    }
   ],
   "source": [
    "#Exercício 1\n",
    "'''O que faz um método construtor? Crie uma classe Pessoa e defina seu construtor.\n",
    "'''\n",
    "\n",
    "#Método construtor é aquele que determina quais ações ou atribuções serão realizadas no ato de criação de um objeto novo da classe.\n",
    "\n",
    "class Pessoa:\n",
    "    def __init__(self, nome, idade, altura, peso, sexo):\n",
    "        self.nome = nome\n",
    "        self.idade = idade\n",
    "        self.altura = altura\n",
    "        self.peso = peso\n",
    "        self.sexo = sexo\n",
    "    \n",
    "    def __repr__(self):\n",
    "        impr = f'Nome: {self.nome}\\nIdade: {self.idade} anos\\nAltura: {self.altura} metros\\nPeso: {self.peso} kg\\nSexo: {self.sexo}'\n",
    "        return impr\n",
    "    \n",
    "pessoa1 = Pessoa('Gustavo', 26, 1.90, 86, 'masculino')\n",
    "print(pessoa1)"
   ]
  },
  {
   "cell_type": "code",
   "execution_count": 24,
   "id": "2e80740e",
   "metadata": {
    "ExecuteTime": {
     "end_time": "2021-07-17T00:48:17.062943Z",
     "start_time": "2021-07-17T00:48:17.045939Z"
    }
   },
   "outputs": [
    {
     "name": "stdout",
     "output_type": "stream",
     "text": [
      "Nome do mais novo: Gustavo\n",
      "Idade: 26 anos\n",
      "\n",
      "Nome do mais velho: João\n",
      "Idade: 46 anos\n"
     ]
    }
   ],
   "source": [
    "#Exercício 2\n",
    "'''Escreva um programa que lê nome e idade de 5 pessoas e ao final informa quem é o mais novo, o mais velho e qual a média\n",
    "de idade. Faça o cálculo incluindo um método estático que leva em consideração um atributo estático com a lista de todas\n",
    "as pessoas.\n",
    "'''\n",
    "\n",
    "class Pessoa: \n",
    "    lista_pessoas = []\n",
    "    \n",
    "    def __init__(self, nome, idade, altura, peso, sexo):\n",
    "        self.nome = nome\n",
    "        self.idade = idade\n",
    "        self.altura = altura\n",
    "        self.peso = peso\n",
    "        self.sexo = sexo   \n",
    "        Pessoa.total_pessoa(self.nome, self.idade, self.altura, self.peso, self.sexo, lista_pessoas=Pessoa.lista_pessoas)\n",
    "        \n",
    "    @staticmethod    \n",
    "    def total_pessoa(*dados, lista_pessoas):\n",
    "        Pessoa.lista_pessoas.append([elem for elem in dados])\n",
    "    \n",
    "    def __repr__(self):\n",
    "        impr = f'Nome: {self.nome}\\nIdade: {self.idade} anos\\nAltura: {self.altura} metros\\nPeso: {self.peso} kg\\nSexo: {self.sexo}'\n",
    "        return impr\n",
    "    \n",
    "    @staticmethod\n",
    "    def comparacao_idade():\n",
    "        mais_velho = [0, 'default']\n",
    "        mais_novo = [200, 'default']\n",
    "        \n",
    "        for pessoa in Pessoa.lista_pessoas:\n",
    "            if mais_velho[0] < pessoa[1]:\n",
    "                mais_velho = [pessoa[1], pessoa[0]]\n",
    "            if mais_novo[0] > pessoa[1]:\n",
    "                mais_novo = [pessoa[1], pessoa[0]]\n",
    "    \n",
    "        print(f'Nome do mais novo: {mais_novo[1]}\\nIdade: {mais_novo[0]} anos\\n\\nNome do mais velho: {mais_velho[1]}\\nIdade: {mais_velho[0]} anos')\n",
    "\n",
    "pessoa1 = Pessoa('Gustavo', 26, 1.90, 86, 'masculino')\n",
    "pessoa2 = Pessoa('Maria', 36, 1.60, 56, 'feminino')\n",
    "pessoa3 = Pessoa('João', 46, 1.70, 76, 'masculino')\n",
    "\n",
    "Pessoa.comparacao_idade()"
   ]
  },
  {
   "cell_type": "code",
   "execution_count": 13,
   "id": "87f1bd6a",
   "metadata": {
    "ExecuteTime": {
     "end_time": "2021-07-16T23:32:36.277136Z",
     "start_time": "2021-07-16T23:32:36.253120Z"
    }
   },
   "outputs": [
    {
     "ename": "NameError",
     "evalue": "name 'self' is not defined",
     "output_type": "error",
     "traceback": [
      "\u001b[1;31m---------------------------------------------------------------------------\u001b[0m",
      "\u001b[1;31mNameError\u001b[0m                                 Traceback (most recent call last)",
      "\u001b[1;32m<ipython-input-13-551cddcc8650>\u001b[0m in \u001b[0;36m<module>\u001b[1;34m\u001b[0m\n\u001b[0;32m      5\u001b[0m '''\n\u001b[0;32m      6\u001b[0m \u001b[1;33m\u001b[0m\u001b[0m\n\u001b[1;32m----> 7\u001b[1;33m \u001b[1;32mclass\u001b[0m \u001b[0mPessoa\u001b[0m\u001b[1;33m:\u001b[0m\u001b[1;33m\u001b[0m\u001b[1;33m\u001b[0m\u001b[0m\n\u001b[0m\u001b[0;32m      8\u001b[0m     \u001b[1;32mdef\u001b[0m \u001b[0m__init__\u001b[0m\u001b[1;33m(\u001b[0m\u001b[0mself\u001b[0m\u001b[1;33m,\u001b[0m \u001b[0mnome\u001b[0m\u001b[1;33m,\u001b[0m \u001b[0midade\u001b[0m\u001b[1;33m,\u001b[0m \u001b[0maltura\u001b[0m\u001b[1;33m,\u001b[0m \u001b[0mpeso\u001b[0m\u001b[1;33m,\u001b[0m \u001b[0msexo\u001b[0m\u001b[1;33m)\u001b[0m\u001b[1;33m:\u001b[0m\u001b[1;33m\u001b[0m\u001b[1;33m\u001b[0m\u001b[0m\n\u001b[0;32m      9\u001b[0m         \u001b[0mself\u001b[0m\u001b[1;33m.\u001b[0m\u001b[0mnome\u001b[0m \u001b[1;33m=\u001b[0m \u001b[0mnome\u001b[0m\u001b[1;33m\u001b[0m\u001b[1;33m\u001b[0m\u001b[0m\n",
      "\u001b[1;32m<ipython-input-13-551cddcc8650>\u001b[0m in \u001b[0;36mPessoa\u001b[1;34m()\u001b[0m\n\u001b[0;32m     14\u001b[0m \u001b[1;33m\u001b[0m\u001b[0m\n\u001b[0;32m     15\u001b[0m     \u001b[0mlista_pessoas\u001b[0m \u001b[1;33m=\u001b[0m \u001b[1;33m[\u001b[0m\u001b[1;33m]\u001b[0m\u001b[1;33m\u001b[0m\u001b[1;33m\u001b[0m\u001b[0m\n\u001b[1;32m---> 16\u001b[1;33m     \u001b[0mlista_pessoas\u001b[0m\u001b[1;33m.\u001b[0m\u001b[0mappend\u001b[0m\u001b[1;33m(\u001b[0m\u001b[1;33m[\u001b[0m\u001b[0mself\u001b[0m\u001b[1;33m.\u001b[0m\u001b[0mnome\u001b[0m\u001b[1;33m,\u001b[0m \u001b[0mself\u001b[0m\u001b[1;33m.\u001b[0m\u001b[0midade\u001b[0m\u001b[1;33m,\u001b[0m \u001b[0mself\u001b[0m\u001b[1;33m.\u001b[0m\u001b[0maltura\u001b[0m\u001b[1;33m,\u001b[0m \u001b[0mself\u001b[0m\u001b[1;33m.\u001b[0m\u001b[0mpeso\u001b[0m\u001b[1;33m,\u001b[0m \u001b[0mself\u001b[0m\u001b[1;33m.\u001b[0m\u001b[0msexo\u001b[0m\u001b[1;33m]\u001b[0m\u001b[1;33m)\u001b[0m\u001b[1;33m\u001b[0m\u001b[1;33m\u001b[0m\u001b[0m\n\u001b[0m\u001b[0;32m     17\u001b[0m \u001b[1;33m\u001b[0m\u001b[0m\n\u001b[0;32m     18\u001b[0m     \u001b[1;32mdef\u001b[0m \u001b[0m__repr__\u001b[0m\u001b[1;33m(\u001b[0m\u001b[0mself\u001b[0m\u001b[1;33m)\u001b[0m\u001b[1;33m:\u001b[0m\u001b[1;33m\u001b[0m\u001b[1;33m\u001b[0m\u001b[0m\n",
      "\u001b[1;31mNameError\u001b[0m: name 'self' is not defined"
     ]
    }
   ],
   "source": [
    "#Exercício 3\n",
    "'''Escreva um programa que lê nome, peso e altura de 5 pessoas, calcula o IMC de cada um e ao final informa se alguém\n",
    "está fora do peso ideal (o IMC ideal é entre 18,5 e 25). Novamente implemente um método estático para realizar este\n",
    "cálculo.\n",
    "'''\n",
    "\n",
    "class Pessoa:    \n",
    "    def __init__(self, nome, idade, altura, peso, sexo):\n",
    "        self.nome = nome\n",
    "        self.idade = idade\n",
    "        self.altura = altura\n",
    "        self.peso = peso\n",
    "        self.sexo = sexo\n",
    "        \n",
    "    lista_pessoas = []\n",
    "    lista_pessoas.append([self.nome, self.idade, self.altura, self.peso, self.sexo])\n",
    "    \n",
    "    def __repr__(self):\n",
    "        impr = f'Nome: {self.nome}\\nIdade: {self.idade} anos\\nAltura: {self.altura} metros\\nPeso: {self.peso} kg\\nSexo: {self.sexo}'\n",
    "        return impr\n",
    "    \n",
    "    @staticmethod\n",
    "    def comparacao_idade():\n",
    "        mais_velho = [0, 'default']\n",
    "        mais_novo = [0, 'default']\n",
    "        \n",
    "        for pessoa in lista_pessoas:\n",
    "            if mais_velho[0] < pessoa[1]:\n",
    "                mais_velho = [pessoa[1], pessoa[0]]\n",
    "            if mais_novo[0] > pessoa[1]:\n",
    "                mais_novo = [pessoa[1], pessoa[0]]\n",
    "    \n",
    "        print(f'Nome do mais novo: {mais_novo[1]}\\nIdade: {mais_novo[0]} anos\\n\\nNome do mais velho: {mais_velho[1]}\\nIdade: {mais_velho[0]} anos')\n",
    "        \n",
    "    @staticmethod\n",
    "    def comparacao_imd(*dados: Pessoa):\n",
    "        irregular = []\n",
    "        for pessoa in dados:\n",
    "            imc = pessoa.peso / (pessoa.altura ** 2)\n",
    "            if 18.5 > imc or imc > 25:\n",
    "                irregular.append([pessoa.nome, imc])\n",
    "        \n",
    "        if irregular != []:\n",
    "            print(f'Nome: {pessoa[0]} → IMC: {pessoa[1]}\\n' for pessoa in irregular)\n",
    "            print('\\nEstão com o IMC não ideal')\n",
    "\n",
    "pessoa1 = Pessoa('Gustavo', 26, 1.90, 86, 'masculino')\n",
    "pessoa2 = Pessoa('Maria', 36, 1.60, 56, 'feminino')\n",
    "pessoa3 = Pessoa('João', 46, 1.70, 76, 'masculino')\n",
    "pessoa4 = Pessoa('Fulano', 36, 1.60, 80, 'masculino')\n",
    "pessoa5 = Pessoa('Sicrano', 46, 1.70, 95, 'masculino')\n",
    "\n",
    "Pessoa.comparacao_imd(pessoa1, pessoa2, pessoa3, pessoa4, pessoa5)"
   ]
  }
 ],
 "metadata": {
  "kernelspec": {
   "display_name": "Python 3",
   "language": "python",
   "name": "python3"
  },
  "language_info": {
   "codemirror_mode": {
    "name": "ipython",
    "version": 3
   },
   "file_extension": ".py",
   "mimetype": "text/x-python",
   "name": "python",
   "nbconvert_exporter": "python",
   "pygments_lexer": "ipython3",
   "version": "3.8.8"
  },
  "varInspector": {
   "cols": {
    "lenName": 16,
    "lenType": 16,
    "lenVar": 40
   },
   "kernels_config": {
    "python": {
     "delete_cmd_postfix": "",
     "delete_cmd_prefix": "del ",
     "library": "var_list.py",
     "varRefreshCmd": "print(var_dic_list())"
    },
    "r": {
     "delete_cmd_postfix": ") ",
     "delete_cmd_prefix": "rm(",
     "library": "var_list.r",
     "varRefreshCmd": "cat(var_dic_list()) "
    }
   },
   "types_to_exclude": [
    "module",
    "function",
    "builtin_function_or_method",
    "instance",
    "_Feature"
   ],
   "window_display": false
  }
 },
 "nbformat": 4,
 "nbformat_minor": 5
}
